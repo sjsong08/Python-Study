{
 "cells": [
  {
   "cell_type": "markdown",
   "metadata": {
    "collapsed": true,
    "deletable": true,
    "editable": true
   },
   "source": [
    "# 6 리스트 활용\n",
    "\n",
    "목표 : 지정된 날짜 이후에 수정된 파일들 복사하는 코드 만들기"
   ]
  },
  {
   "cell_type": "markdown",
   "metadata": {
    "deletable": true,
    "editable": true
   },
   "source": [
    "## 6.1 파일 목록 얻기\n",
    "\n",
    "### 6.1.1 파일 목록 얻기 - `glob.glob`\n",
    "\n",
    "* `?`는 임의의 문자 1개와 일치 한다.\n",
    "* `*`는 임의 개수(0개 포함)의 모든 문자와 일치한다.\n",
    "* `[...]`는 괄호 안의 임의의 1개 문자와 일치한다.\n"
   ]
  },
  {
   "cell_type": "code",
   "execution_count": 1,
   "metadata": {
    "collapsed": false,
    "deletable": true,
    "editable": true
   },
   "outputs": [
    {
     "data": {
      "text/plain": [
       "[]"
      ]
     },
     "execution_count": 1,
     "metadata": {},
     "output_type": "execute_result"
    }
   ],
   "source": [
    "import glob\n",
    "\n",
    "glob.glob(\"C:\\\\Windows\\\\*.exe\")"
   ]
  },
  {
   "cell_type": "code",
   "execution_count": 2,
   "metadata": {
    "collapsed": false,
    "deletable": true,
    "editable": true
   },
   "outputs": [
    {
     "data": {
      "text/plain": [
       "[]"
      ]
     },
     "execution_count": 2,
     "metadata": {},
     "output_type": "execute_result"
    }
   ],
   "source": [
    "glob.glob('C:\\\\Windows\\\\[bc]*.*') # b혹은 c로 시작하는 파일들"
   ]
  },
  {
   "cell_type": "code",
   "execution_count": 3,
   "metadata": {
    "collapsed": false,
    "deletable": true,
    "editable": true
   },
   "outputs": [
    {
     "data": {
      "text/plain": [
       "[]"
      ]
     },
     "execution_count": 3,
     "metadata": {},
     "output_type": "execute_result"
    }
   ],
   "source": [
    "glob.glob('C:\\\\Windows\\\\??.exe')"
   ]
  },
  {
   "cell_type": "markdown",
   "metadata": {
    "deletable": true,
    "editable": true
   },
   "source": [
    "### 6.1.2 더 강력한 파일 목록 얻기 - `os.walk()`\n",
    "\n",
    "디렉터리의 하위 트리 구조를 재귀적으로 검색해 가면서 디렉터리 목록과 파일 목록을 전달해 주는 객체를 생성"
   ]
  },
  {
   "cell_type": "code",
   "execution_count": 4,
   "metadata": {
    "collapsed": false,
    "deletable": true,
    "editable": true
   },
   "outputs": [
    {
     "name": "stdout",
     "output_type": "stream",
     "text": [
      "curdir= .\n",
      "dirs= ['.ipynb_checkpoints', 'data', 'deep-learning-from-scratch-master', 'img']\n",
      "files= ['01_파이썬언어개요_실행환경.pptx', 'graphviz-2.38.msi', 'face_out.png', '09_객체직렬화.ipynb', '11_scikit-learn 소개.ipynb']\n",
      "------------------------------------------------------------\n",
      "curdir= ./.ipynb_checkpoints\n",
      "dirs= []\n",
      "files= ['06_리스트_활용-checkpoint.ipynb', '03_문자열-checkpoint.ipynb', '05_리스트-checkpoint.ipynb', '04_수치연산-checkpoint.ipynb']\n",
      "------------------------------------------------------------\n",
      "curdir= ./data\n",
      "dirs= []\n",
      "files= ['face.png', '기후자료_2014_108.xlsx', 'alice.txt', '기후자료_2014_108.csv']\n",
      "------------------------------------------------------------\n",
      "curdir= ./deep-learning-from-scratch-master\n",
      "dirs= ['ch05', 'ch03', 'ch04', 'ch06', 'ch07']\n",
      "files= ['README.md', 'LICENSE.md', '.gitignore']\n",
      "------------------------------------------------------------\n",
      "curdir= ./deep-learning-from-scratch-master/ch05\n",
      "dirs= ['__pycache__']\n",
      "files= ['layer_naive.py', 'gradient_check.py', 'two_layer_net.py', 'buy_apple.py', 'train_neuralnet.py']\n",
      "------------------------------------------------------------\n",
      "curdir= ./deep-learning-from-scratch-master/ch05/__pycache__\n",
      "dirs= []\n",
      "files= ['two_layer_net.cpython-35.pyc']\n",
      "------------------------------------------------------------\n",
      "curdir= ./deep-learning-from-scratch-master/ch03\n",
      "dirs= []\n",
      "files= ['neuralnet_mnist_batch.py', 'neuralnet_mnist.py', 'sig_step_compare.py', 'sigmoid.py', 'sample_weight.pkl']\n",
      "------------------------------------------------------------\n",
      "curdir= ./deep-learning-from-scratch-master/ch04\n",
      "dirs= []\n",
      "files= ['gradient_1d.py', 'two_layer_net.py', 'gradient_2d.py', 'train_neuralnet.py', 'gradient_simplenet.py']\n",
      "------------------------------------------------------------\n",
      "curdir= ./deep-learning-from-scratch-master/ch06\n",
      "dirs= []\n",
      "files= ['hyperparameter_optimization.py', 'overfit_dropout.py', 'weight_init_compare.py', 'weight_init_activation_histogram.py', 'overfit_weight_decay.py']\n",
      "------------------------------------------------------------\n",
      "curdir= ./deep-learning-from-scratch-master/ch07\n",
      "dirs= []\n",
      "files= ['train_convnet.py', 'gradient_check.py', 'apply_filter.py', 'visualize_filter.py', 'params.pkl']\n",
      "------------------------------------------------------------\n",
      "curdir= ./deep-learning-from-scratch-master/common\n",
      "dirs= ['__pycache__']\n",
      "files= ['multi_layer_net_extend.py', 'multi_layer_net.py', '__init__.py', 'functions.py', 'gradient.py']\n",
      "------------------------------------------------------------\n",
      "curdir= ./deep-learning-from-scratch-master/common/__pycache__\n",
      "dirs= []\n",
      "files= ['util.cpython-35.pyc', '__init__.cpython-35.pyc', 'layers.cpython-35.pyc', 'gradient.cpython-35.pyc', 'functions.cpython-35.pyc']\n",
      "------------------------------------------------------------\n",
      "curdir= ./deep-learning-from-scratch-master/ch02\n",
      "dirs= []\n",
      "files= ['nand_gate.py', 'and_gate.py', 'xor_gate.py', 'or_gate.py']\n",
      "------------------------------------------------------------\n",
      "curdir= ./deep-learning-from-scratch-master/dataset\n",
      "dirs= ['__pycache__']\n",
      "files= ['__init__.py', 'mnist.pkl', 'lena.png', 'train-labels-idx1-ubyte.gz', 'lena_gray.png']\n",
      "------------------------------------------------------------\n",
      "curdir= ./deep-learning-from-scratch-master/dataset/__pycache__\n",
      "dirs= []\n",
      "files= ['__init__.cpython-35.pyc', 'mnist.cpython-35.pyc']\n",
      "------------------------------------------------------------\n",
      "curdir= ./deep-learning-from-scratch-master/ch08\n",
      "dirs= []\n",
      "files= ['deep_convnet.py', 'half_float_network.py', 'misclassified_mnist.py', 'awesome_net.py', 'deep_convnet_params.pkl']\n",
      "------------------------------------------------------------\n",
      "curdir= ./deep-learning-from-scratch-master/ch01\n",
      "dirs= []\n",
      "files= ['man.py', 'img_show.py', 'sin_graph.py', 'sin_cos_graph.py', 'simple_graph.py']\n",
      "------------------------------------------------------------\n",
      "curdir= ./img\n",
      "dirs= []\n",
      "files= ['format2.png', 'serialization.png', 'immutable_number.png', 'LEGB.png', 'string_index.png']\n",
      "------------------------------------------------------------\n"
     ]
    }
   ],
   "source": [
    "import os\n",
    "\n",
    "for (curdir, dirs, files) in os.walk('.'):\n",
    "    print('curdir=', curdir)\n",
    "    print('dirs=', dirs[:5]) # 지면 관계상 5개까지만\n",
    "    print('files=', files[:5]) # 지면 관계상 5개까지만\n",
    "    print('-'*60)"
   ]
  },
  {
   "cell_type": "markdown",
   "metadata": {
    "deletable": true,
    "editable": true
   },
   "source": [
    "## 6.2 파일 경로 다루기\n"
   ]
  },
  {
   "cell_type": "code",
   "execution_count": 5,
   "metadata": {
    "collapsed": false,
    "deletable": true,
    "editable": true
   },
   "outputs": [
    {
     "data": {
      "text/plain": [
       "'/home/idea/Dropbox/pythonlecture sj'"
      ]
     },
     "execution_count": 5,
     "metadata": {},
     "output_type": "execute_result"
    }
   ],
   "source": [
    "import os\n",
    "\n",
    "os.path.abspath('.')"
   ]
  },
  {
   "cell_type": "code",
   "execution_count": 6,
   "metadata": {
    "collapsed": false,
    "deletable": true,
    "editable": true
   },
   "outputs": [
    {
     "data": {
      "text/plain": [
       "'D:\\\\Projects\\\\PythonLecture\\\\a.png'"
      ]
     },
     "execution_count": 6,
     "metadata": {},
     "output_type": "execute_result"
    }
   ],
   "source": [
    "os.path.basename('D:\\\\Projects\\\\PythonLecture\\\\a.png')"
   ]
  },
  {
   "cell_type": "code",
   "execution_count": 8,
   "metadata": {
    "collapsed": false,
    "deletable": true,
    "editable": true
   },
   "outputs": [
    {
     "data": {
      "text/plain": [
       "''"
      ]
     },
     "execution_count": 8,
     "metadata": {},
     "output_type": "execute_result"
    }
   ],
   "source": [
    "os.path.commonpath(['D:\\\\Projects\\\\PythonLecture', 'D:\\\\Projects\\\\PythonLecture\\\\DeepLearning'])"
   ]
  },
  {
   "cell_type": "code",
   "execution_count": 9,
   "metadata": {
    "collapsed": false,
    "deletable": true,
    "editable": true
   },
   "outputs": [
    {
     "data": {
      "text/plain": [
       "'/home/idea/Dropbox/pythonlecture sj'"
      ]
     },
     "execution_count": 9,
     "metadata": {},
     "output_type": "execute_result"
    }
   ],
   "source": [
    "os.getcwd()"
   ]
  },
  {
   "cell_type": "code",
   "execution_count": 10,
   "metadata": {
    "collapsed": false,
    "deletable": true,
    "editable": true
   },
   "outputs": [
    {
     "data": {
      "text/plain": [
       "''"
      ]
     },
     "execution_count": 10,
     "metadata": {},
     "output_type": "execute_result"
    }
   ],
   "source": [
    "os.path.dirname('D:\\\\Projects\\\\PythonLecture\\\\a.png')"
   ]
  },
  {
   "cell_type": "code",
   "execution_count": 11,
   "metadata": {
    "collapsed": false,
    "deletable": true,
    "editable": true
   },
   "outputs": [
    {
     "data": {
      "text/plain": [
       "'.\\\\..\\\\.'"
      ]
     },
     "execution_count": 11,
     "metadata": {},
     "output_type": "execute_result"
    }
   ],
   "source": [
    "os.path.normpath('.\\\\..\\\\.')"
   ]
  },
  {
   "cell_type": "code",
   "execution_count": 12,
   "metadata": {
    "collapsed": false,
    "deletable": true,
    "editable": true
   },
   "outputs": [
    {
     "data": {
      "text/plain": [
       "('', 'D:\\\\Projects\\\\PythonLecture\\\\a.png')"
      ]
     },
     "execution_count": 12,
     "metadata": {},
     "output_type": "execute_result"
    }
   ],
   "source": [
    "os.path.split('D:\\\\Projects\\\\PythonLecture\\\\a.png')"
   ]
  },
  {
   "cell_type": "code",
   "execution_count": 13,
   "metadata": {
    "collapsed": false,
    "deletable": true,
    "editable": true
   },
   "outputs": [
    {
     "data": {
      "text/plain": [
       "('', 'D:\\\\Projects\\\\PythonLecture\\\\a.png')"
      ]
     },
     "execution_count": 13,
     "metadata": {},
     "output_type": "execute_result"
    }
   ],
   "source": [
    "os.path.splitdrive('D:\\\\Projects\\\\PythonLecture\\\\a.png')"
   ]
  },
  {
   "cell_type": "code",
   "execution_count": 14,
   "metadata": {
    "collapsed": false,
    "deletable": true,
    "editable": true
   },
   "outputs": [
    {
     "data": {
      "text/plain": [
       "('D:\\\\Projects\\\\PythonLecture\\\\a', '.png')"
      ]
     },
     "execution_count": 14,
     "metadata": {},
     "output_type": "execute_result"
    }
   ],
   "source": [
    "os.path.splitext('D:\\\\Projects\\\\PythonLecture\\\\a.png')"
   ]
  },
  {
   "cell_type": "code",
   "execution_count": 15,
   "metadata": {
    "collapsed": false,
    "deletable": true,
    "editable": true
   },
   "outputs": [
    {
     "data": {
      "text/plain": [
       "'d:/\\\\root/a.png'"
      ]
     },
     "execution_count": 15,
     "metadata": {},
     "output_type": "execute_result"
    }
   ],
   "source": [
    "os.path.join('d:', '\\\\root', 'a.png')"
   ]
  },
  {
   "cell_type": "markdown",
   "metadata": {
    "deletable": true,
    "editable": true
   },
   "source": [
    "## 6.3 파일 속성 정보 알아내기\n",
    "\n",
    "파일 목록을 얻었으면 각 파일에 대한 속성 정보를 구해야 한다. 이 정보를 알아야 여러가지 작업이 가능하기 때문이다. \n",
    "`os.path` 모듈을 이용하여 파일의 다양한 속성을 확인할 수 있다."
   ]
  },
  {
   "cell_type": "code",
   "execution_count": 16,
   "metadata": {
    "collapsed": true,
    "deletable": true,
    "editable": true
   },
   "outputs": [],
   "source": [
    "import os\n",
    "\n",
    "fpath = \"C:\\\\Windows\\\\notepad.exe\""
   ]
  },
  {
   "cell_type": "code",
   "execution_count": 17,
   "metadata": {
    "collapsed": false,
    "deletable": true,
    "editable": true
   },
   "outputs": [
    {
     "data": {
      "text/plain": [
       "False"
      ]
     },
     "execution_count": 17,
     "metadata": {},
     "output_type": "execute_result"
    }
   ],
   "source": [
    "os.path.isfile(fpath)  # fpath가 일반파일이면 True를 반환한다."
   ]
  },
  {
   "cell_type": "code",
   "execution_count": 18,
   "metadata": {
    "collapsed": false,
    "deletable": true,
    "editable": true
   },
   "outputs": [
    {
     "data": {
      "text/plain": [
       "False"
      ]
     },
     "execution_count": 18,
     "metadata": {},
     "output_type": "execute_result"
    }
   ],
   "source": [
    "os.path.isdir(fpath)   # fpath가 디렉터리(폴더)이면 True를 반환한다."
   ]
  },
  {
   "cell_type": "code",
   "execution_count": 19,
   "metadata": {
    "collapsed": false,
    "deletable": true,
    "editable": true
   },
   "outputs": [
    {
     "data": {
      "text/plain": [
       "False"
      ]
     },
     "execution_count": 19,
     "metadata": {},
     "output_type": "execute_result"
    }
   ],
   "source": [
    "os.path.exists(fpath)  # fpath 파일이 존재하면 True를 반환한다."
   ]
  },
  {
   "cell_type": "code",
   "execution_count": 20,
   "metadata": {
    "collapsed": false,
    "deletable": true,
    "editable": true
   },
   "outputs": [
    {
     "ename": "FileNotFoundError",
     "evalue": "[Errno 2] No such file or directory: 'C:\\\\Windows\\\\notepad.exe'",
     "output_type": "error",
     "traceback": [
      "\u001b[0;31m---------------------------------------------------------------------------\u001b[0m",
      "\u001b[0;31mFileNotFoundError\u001b[0m                         Traceback (most recent call last)",
      "\u001b[0;32m<ipython-input-20-84cf5a614d3b>\u001b[0m in \u001b[0;36m<module>\u001b[0;34m()\u001b[0m\n\u001b[0;32m----> 1\u001b[0;31m \u001b[0mos\u001b[0m\u001b[0;34m.\u001b[0m\u001b[0mpath\u001b[0m\u001b[0;34m.\u001b[0m\u001b[0mgetsize\u001b[0m\u001b[0;34m(\u001b[0m\u001b[0mfpath\u001b[0m\u001b[0;34m)\u001b[0m \u001b[0;31m# 파일의 크기를 얻는다\u001b[0m\u001b[0;34m\u001b[0m\u001b[0m\n\u001b[0m",
      "\u001b[0;32m/usr/lib/python3.5/genericpath.py\u001b[0m in \u001b[0;36mgetsize\u001b[0;34m(filename)\u001b[0m\n\u001b[1;32m     48\u001b[0m \u001b[0;32mdef\u001b[0m \u001b[0mgetsize\u001b[0m\u001b[0;34m(\u001b[0m\u001b[0mfilename\u001b[0m\u001b[0;34m)\u001b[0m\u001b[0;34m:\u001b[0m\u001b[0;34m\u001b[0m\u001b[0m\n\u001b[1;32m     49\u001b[0m     \u001b[0;34m\"\"\"Return the size of a file, reported by os.stat().\"\"\"\u001b[0m\u001b[0;34m\u001b[0m\u001b[0m\n\u001b[0;32m---> 50\u001b[0;31m     \u001b[0;32mreturn\u001b[0m \u001b[0mos\u001b[0m\u001b[0;34m.\u001b[0m\u001b[0mstat\u001b[0m\u001b[0;34m(\u001b[0m\u001b[0mfilename\u001b[0m\u001b[0;34m)\u001b[0m\u001b[0;34m.\u001b[0m\u001b[0mst_size\u001b[0m\u001b[0;34m\u001b[0m\u001b[0m\n\u001b[0m\u001b[1;32m     51\u001b[0m \u001b[0;34m\u001b[0m\u001b[0m\n\u001b[1;32m     52\u001b[0m \u001b[0;34m\u001b[0m\u001b[0m\n",
      "\u001b[0;31mFileNotFoundError\u001b[0m: [Errno 2] No such file or directory: 'C:\\\\Windows\\\\notepad.exe'"
     ]
    }
   ],
   "source": [
    "os.path.getsize(fpath) # 파일의 크기를 얻는다"
   ]
  },
  {
   "cell_type": "markdown",
   "metadata": {
    "deletable": true,
    "editable": true
   },
   "source": [
    "### 6.3.1 파일 수정시간/접근시간\n"
   ]
  },
  {
   "cell_type": "code",
   "execution_count": 21,
   "metadata": {
    "collapsed": false,
    "deletable": true,
    "editable": true
   },
   "outputs": [
    {
     "ename": "FileNotFoundError",
     "evalue": "[Errno 2] No such file or directory: 'C:\\\\Windows\\\\notepad.exe'",
     "output_type": "error",
     "traceback": [
      "\u001b[0;31m---------------------------------------------------------------------------\u001b[0m",
      "\u001b[0;31mFileNotFoundError\u001b[0m                         Traceback (most recent call last)",
      "\u001b[0;32m<ipython-input-21-5fda9f2f77c3>\u001b[0m in \u001b[0;36m<module>\u001b[0;34m()\u001b[0m\n\u001b[0;32m----> 1\u001b[0;31m \u001b[0mos\u001b[0m\u001b[0;34m.\u001b[0m\u001b[0mpath\u001b[0m\u001b[0;34m.\u001b[0m\u001b[0mgetmtime\u001b[0m\u001b[0;34m(\u001b[0m\u001b[0mfpath\u001b[0m\u001b[0;34m)\u001b[0m  \u001b[0;31m# 파일 수정 시간\u001b[0m\u001b[0;34m\u001b[0m\u001b[0m\n\u001b[0m",
      "\u001b[0;32m/usr/lib/python3.5/genericpath.py\u001b[0m in \u001b[0;36mgetmtime\u001b[0;34m(filename)\u001b[0m\n\u001b[1;32m     53\u001b[0m \u001b[0;32mdef\u001b[0m \u001b[0mgetmtime\u001b[0m\u001b[0;34m(\u001b[0m\u001b[0mfilename\u001b[0m\u001b[0;34m)\u001b[0m\u001b[0;34m:\u001b[0m\u001b[0;34m\u001b[0m\u001b[0m\n\u001b[1;32m     54\u001b[0m     \u001b[0;34m\"\"\"Return the last modification time of a file, reported by os.stat().\"\"\"\u001b[0m\u001b[0;34m\u001b[0m\u001b[0m\n\u001b[0;32m---> 55\u001b[0;31m     \u001b[0;32mreturn\u001b[0m \u001b[0mos\u001b[0m\u001b[0;34m.\u001b[0m\u001b[0mstat\u001b[0m\u001b[0;34m(\u001b[0m\u001b[0mfilename\u001b[0m\u001b[0;34m)\u001b[0m\u001b[0;34m.\u001b[0m\u001b[0mst_mtime\u001b[0m\u001b[0;34m\u001b[0m\u001b[0m\n\u001b[0m\u001b[1;32m     56\u001b[0m \u001b[0;34m\u001b[0m\u001b[0m\n\u001b[1;32m     57\u001b[0m \u001b[0;34m\u001b[0m\u001b[0m\n",
      "\u001b[0;31mFileNotFoundError\u001b[0m: [Errno 2] No such file or directory: 'C:\\\\Windows\\\\notepad.exe'"
     ]
    }
   ],
   "source": [
    "os.path.getmtime(fpath)  # 파일 수정 시간"
   ]
  },
  {
   "cell_type": "code",
   "execution_count": 22,
   "metadata": {
    "collapsed": false,
    "deletable": true,
    "editable": true
   },
   "outputs": [
    {
     "ename": "FileNotFoundError",
     "evalue": "[Errno 2] No such file or directory: 'C:\\\\Windows\\\\notepad.exe'",
     "output_type": "error",
     "traceback": [
      "\u001b[0;31m---------------------------------------------------------------------------\u001b[0m",
      "\u001b[0;31mFileNotFoundError\u001b[0m                         Traceback (most recent call last)",
      "\u001b[0;32m<ipython-input-22-ba72a1ae0f9d>\u001b[0m in \u001b[0;36m<module>\u001b[0;34m()\u001b[0m\n\u001b[0;32m----> 1\u001b[0;31m \u001b[0mos\u001b[0m\u001b[0;34m.\u001b[0m\u001b[0mpath\u001b[0m\u001b[0;34m.\u001b[0m\u001b[0mgetatime\u001b[0m\u001b[0;34m(\u001b[0m\u001b[0mfpath\u001b[0m\u001b[0;34m)\u001b[0m  \u001b[0;31m# 파일 접근 시간\u001b[0m\u001b[0;34m\u001b[0m\u001b[0m\n\u001b[0m",
      "\u001b[0;32m/usr/lib/python3.5/genericpath.py\u001b[0m in \u001b[0;36mgetatime\u001b[0;34m(filename)\u001b[0m\n\u001b[1;32m     58\u001b[0m \u001b[0;32mdef\u001b[0m \u001b[0mgetatime\u001b[0m\u001b[0;34m(\u001b[0m\u001b[0mfilename\u001b[0m\u001b[0;34m)\u001b[0m\u001b[0;34m:\u001b[0m\u001b[0;34m\u001b[0m\u001b[0m\n\u001b[1;32m     59\u001b[0m     \u001b[0;34m\"\"\"Return the last access time of a file, reported by os.stat().\"\"\"\u001b[0m\u001b[0;34m\u001b[0m\u001b[0m\n\u001b[0;32m---> 60\u001b[0;31m     \u001b[0;32mreturn\u001b[0m \u001b[0mos\u001b[0m\u001b[0;34m.\u001b[0m\u001b[0mstat\u001b[0m\u001b[0;34m(\u001b[0m\u001b[0mfilename\u001b[0m\u001b[0;34m)\u001b[0m\u001b[0;34m.\u001b[0m\u001b[0mst_atime\u001b[0m\u001b[0;34m\u001b[0m\u001b[0m\n\u001b[0m\u001b[1;32m     61\u001b[0m \u001b[0;34m\u001b[0m\u001b[0m\n\u001b[1;32m     62\u001b[0m \u001b[0;34m\u001b[0m\u001b[0m\n",
      "\u001b[0;31mFileNotFoundError\u001b[0m: [Errno 2] No such file or directory: 'C:\\\\Windows\\\\notepad.exe'"
     ]
    }
   ],
   "source": [
    "os.path.getatime(fpath)  # 파일 접근 시간"
   ]
  },
  {
   "cell_type": "markdown",
   "metadata": {
    "deletable": true,
    "editable": true
   },
   "source": [
    "### 6.3.2 시간의 해석\n"
   ]
  },
  {
   "cell_type": "code",
   "execution_count": 23,
   "metadata": {
    "collapsed": true,
    "deletable": true,
    "editable": true
   },
   "outputs": [],
   "source": [
    "import time"
   ]
  },
  {
   "cell_type": "markdown",
   "metadata": {
    "deletable": true,
    "editable": true
   },
   "source": [
    "`time.time()`은 현재 시간을 돌려준다."
   ]
  },
  {
   "cell_type": "code",
   "execution_count": 24,
   "metadata": {
    "collapsed": false,
    "deletable": true,
    "editable": true
   },
   "outputs": [
    {
     "data": {
      "text/plain": [
       "1487124796.2009144"
      ]
     },
     "execution_count": 24,
     "metadata": {},
     "output_type": "execute_result"
    }
   ],
   "source": [
    "time.time()"
   ]
  },
  {
   "cell_type": "code",
   "execution_count": 25,
   "metadata": {
    "collapsed": false,
    "deletable": true,
    "editable": true
   },
   "outputs": [
    {
     "data": {
      "text/plain": [
       "time.struct_time(tm_year=2017, tm_mon=2, tm_mday=15, tm_hour=11, tm_min=13, tm_sec=21, tm_wday=2, tm_yday=46, tm_isdst=0)"
      ]
     },
     "execution_count": 25,
     "metadata": {},
     "output_type": "execute_result"
    }
   ],
   "source": [
    "time.localtime()"
   ]
  },
  {
   "cell_type": "code",
   "execution_count": 26,
   "metadata": {
    "collapsed": false,
    "deletable": true,
    "editable": true
   },
   "outputs": [
    {
     "data": {
      "text/plain": [
       "time.struct_time(tm_year=1973, tm_mon=11, tm_mday=26, tm_hour=9, tm_min=52, tm_sec=3, tm_wday=0, tm_yday=330, tm_isdst=0)"
      ]
     },
     "execution_count": 26,
     "metadata": {},
     "output_type": "execute_result"
    }
   ],
   "source": [
    "time.localtime(123123123)"
   ]
  },
  {
   "cell_type": "markdown",
   "metadata": {
    "deletable": true,
    "editable": true
   },
   "source": [
    "구조화된 시간을 변수에 저장해보자.\n",
    "이 값은 이름있는 튜플은 이름으로 접근할 수도 있고 인덱스로도 접근할 수 있다."
   ]
  },
  {
   "cell_type": "code",
   "execution_count": 27,
   "metadata": {
    "collapsed": false,
    "deletable": true,
    "editable": true
   },
   "outputs": [
    {
     "data": {
      "text/plain": [
       "(2015, 11, 11, 6, 56, 0)"
      ]
     },
     "execution_count": 27,
     "metadata": {},
     "output_type": "execute_result"
    }
   ],
   "source": [
    "t = time.localtime(1447192560.872364)\n",
    "t.tm_year, t.tm_mon, t.tm_mday, t.tm_hour, t.tm_min, t.tm_sec"
   ]
  },
  {
   "cell_type": "markdown",
   "metadata": {
    "deletable": true,
    "editable": true
   },
   "source": [
    "슬라이싱으로 년월일, 시분초 등의 정보를 추출하면 편하다."
   ]
  },
  {
   "cell_type": "code",
   "execution_count": 28,
   "metadata": {
    "collapsed": false,
    "deletable": true,
    "editable": true
   },
   "outputs": [
    {
     "data": {
      "text/plain": [
       "((2015, 11, 11), (2015, 11, 11, 6, 56, 0))"
      ]
     },
     "execution_count": 28,
     "metadata": {},
     "output_type": "execute_result"
    }
   ],
   "source": [
    "t[:3], t[:6]"
   ]
  },
  {
   "cell_type": "markdown",
   "metadata": {
    "deletable": true,
    "editable": true
   },
   "source": [
    "이 것으로 시간 형식을 만들 수 있다."
   ]
  },
  {
   "cell_type": "code",
   "execution_count": 30,
   "metadata": {
    "collapsed": false,
    "deletable": true,
    "editable": true
   },
   "outputs": [
    {
     "data": {
      "text/plain": [
       "'2015-11-11 6:56:0'"
      ]
     },
     "execution_count": 30,
     "metadata": {},
     "output_type": "execute_result"
    }
   ],
   "source": [
    "'{}-{}-{} {}:{}:{}'.format(*t[:6]) # *를 앞에 붙이면 각각 분리해서 입력한 것과 같은 효과"
   ]
  },
  {
   "cell_type": "markdown",
   "metadata": {
    "deletable": true,
    "editable": true
   },
   "source": [
    "이 구조화된 정보로 부터 다시 숫자 시간으로 변환하려면 `time.mktime()`을 이용한다."
   ]
  },
  {
   "cell_type": "code",
   "execution_count": 31,
   "metadata": {
    "collapsed": false,
    "deletable": true,
    "editable": true
   },
   "outputs": [
    {
     "data": {
      "text/plain": [
       "1447192560.0"
      ]
     },
     "execution_count": 31,
     "metadata": {},
     "output_type": "execute_result"
    }
   ],
   "source": [
    "time.mktime(t)"
   ]
  },
  {
   "cell_type": "markdown",
   "metadata": {
    "deletable": true,
    "editable": true
   },
   "source": [
    "`struct_time` 자료형 대신에 9개 값의 튜플을 이용할 수도 있다. \n",
    "다음은 주어진 시간 2015년 10월 19일 18시 8분 30초에 대한 하나의 숫자 시간을 계산한 예이다."
   ]
  },
  {
   "cell_type": "code",
   "execution_count": 32,
   "metadata": {
    "collapsed": false,
    "deletable": true,
    "editable": true
   },
   "outputs": [
    {
     "data": {
      "text/plain": [
       "1445245710.0"
      ]
     },
     "execution_count": 32,
     "metadata": {},
     "output_type": "execute_result"
    }
   ],
   "source": [
    "time.mktime((2015, 10, 19, 18, 8, 30, 0, 0, 0))"
   ]
  },
  {
   "cell_type": "markdown",
   "metadata": {
    "deletable": true,
    "editable": true
   },
   "source": [
    "## 6.4 파일 다루기\n",
    "\n",
    "`os` 모듈의 `rename()`은 파일 이름을 바꾼다. 파일을 이동하는데도 사용할 수 있다."
   ]
  },
  {
   "cell_type": "code",
   "execution_count": 33,
   "metadata": {
    "collapsed": false,
    "deletable": true,
    "editable": true
   },
   "outputs": [
    {
     "ename": "FileNotFoundError",
     "evalue": "[Errno 2] No such file or directory: 'a.py' -> 'b.py'",
     "output_type": "error",
     "traceback": [
      "\u001b[0;31m---------------------------------------------------------------------------\u001b[0m",
      "\u001b[0;31mFileNotFoundError\u001b[0m                         Traceback (most recent call last)",
      "\u001b[0;32m<ipython-input-33-f33ead9baf46>\u001b[0m in \u001b[0;36m<module>\u001b[0;34m()\u001b[0m\n\u001b[0;32m----> 1\u001b[0;31m \u001b[0mos\u001b[0m\u001b[0;34m.\u001b[0m\u001b[0mrename\u001b[0m\u001b[0;34m(\u001b[0m\u001b[0;34m'a.py'\u001b[0m\u001b[0;34m,\u001b[0m \u001b[0;34m'b.py'\u001b[0m\u001b[0;34m)\u001b[0m   \u001b[0;31m# a.py --> b.py\u001b[0m\u001b[0;34m\u001b[0m\u001b[0m\n\u001b[0m",
      "\u001b[0;31mFileNotFoundError\u001b[0m: [Errno 2] No such file or directory: 'a.py' -> 'b.py'"
     ]
    }
   ],
   "source": [
    "os.rename('a.py', 'b.py')   # a.py --> b.py"
   ]
  },
  {
   "cell_type": "code",
   "execution_count": 34,
   "metadata": {
    "collapsed": false,
    "deletable": true,
    "editable": true
   },
   "outputs": [
    {
     "ename": "FileNotFoundError",
     "evalue": "[Errno 2] No such file or directory: 't1.py' -> 'public_html/t1.py'",
     "output_type": "error",
     "traceback": [
      "\u001b[0;31m---------------------------------------------------------------------------\u001b[0m",
      "\u001b[0;31mFileNotFoundError\u001b[0m                         Traceback (most recent call last)",
      "\u001b[0;32m<ipython-input-34-ff721ace2a99>\u001b[0m in \u001b[0;36m<module>\u001b[0;34m()\u001b[0m\n\u001b[0;32m----> 1\u001b[0;31m \u001b[0mos\u001b[0m\u001b[0;34m.\u001b[0m\u001b[0mrename\u001b[0m\u001b[0;34m(\u001b[0m\u001b[0;34m't1.py'\u001b[0m\u001b[0;34m,\u001b[0m \u001b[0;34m'public_html/t1.py'\u001b[0m\u001b[0;34m)\u001b[0m  \u001b[0;31m# 파일의 이동\u001b[0m\u001b[0;34m\u001b[0m\u001b[0m\n\u001b[0m",
      "\u001b[0;31mFileNotFoundError\u001b[0m: [Errno 2] No such file or directory: 't1.py' -> 'public_html/t1.py'"
     ]
    }
   ],
   "source": [
    "os.rename('t1.py', 'public_html/t1.py')  # 파일의 이동"
   ]
  },
  {
   "cell_type": "markdown",
   "metadata": {
    "deletable": true,
    "editable": true
   },
   "source": [
    "파일을 복사하는데는 `shutil` 모듈의 `copyfile`을 사용할 수 있다."
   ]
  },
  {
   "cell_type": "code",
   "execution_count": 33,
   "metadata": {
    "collapsed": true,
    "deletable": true,
    "editable": true
   },
   "outputs": [],
   "source": [
    "import shutil\n",
    "\n",
    "shutil.copyfile('a.py', 'b.py')"
   ]
  },
  {
   "cell_type": "markdown",
   "metadata": {
    "deletable": true,
    "editable": true
   },
   "source": [
    "`os.remove()`는 파일을 삭제한다."
   ]
  },
  {
   "cell_type": "code",
   "execution_count": 34,
   "metadata": {
    "collapsed": true,
    "deletable": true,
    "editable": true
   },
   "outputs": [],
   "source": [
    "os.remove('t.py')"
   ]
  },
  {
   "cell_type": "markdown",
   "metadata": {
    "deletable": true,
    "editable": true
   },
   "source": [
    "## 6.5 디렉터리 다루기\n"
   ]
  },
  {
   "cell_type": "code",
   "execution_count": 35,
   "metadata": {
    "collapsed": false,
    "deletable": true,
    "editable": true
   },
   "outputs": [],
   "source": [
    "os.getcwd() # 현재 프로세스의 작업 디렉터리"
   ]
  },
  {
   "cell_type": "code",
   "execution_count": 36,
   "metadata": {
    "collapsed": true,
    "deletable": true,
    "editable": true
   },
   "outputs": [],
   "source": [
    "os.chdir('d:\\\\') # 작업 중인 디렉터리를 변경"
   ]
  },
  {
   "cell_type": "code",
   "execution_count": 37,
   "metadata": {
    "collapsed": true,
    "deletable": true,
    "editable": true
   },
   "outputs": [],
   "source": [
    "os.mkdir('temp')"
   ]
  },
  {
   "cell_type": "code",
   "execution_count": 38,
   "metadata": {
    "collapsed": true,
    "deletable": true,
    "editable": true
   },
   "outputs": [],
   "source": [
    "os.rmdir('temp2')  # 내용이 없는 빈 디렉터리를 삭제"
   ]
  },
  {
   "cell_type": "code",
   "execution_count": 39,
   "metadata": {
    "collapsed": true,
    "deletable": true,
    "editable": true
   },
   "outputs": [],
   "source": [
    "os.removedirs('level1/level2')"
   ]
  },
  {
   "cell_type": "code",
   "execution_count": 40,
   "metadata": {
    "collapsed": true,
    "deletable": true,
    "editable": true
   },
   "outputs": [],
   "source": [
    "import shutil\n",
    "\n",
    "shutil.rmtree('temp')  # 주의!!! 하위 디렉터리까지 모두 한꺼번에 삭제"
   ]
  },
  {
   "cell_type": "markdown",
   "metadata": {
    "deletable": true,
    "editable": true
   },
   "source": [
    "디렉토리를 통째로 복사하는 것도 가능하다."
   ]
  },
  {
   "cell_type": "code",
   "execution_count": 41,
   "metadata": {
    "collapsed": true,
    "deletable": true,
    "editable": true
   },
   "outputs": [],
   "source": [
    "shutil.copytree('public_html', 'myweb_backup')"
   ]
  },
  {
   "cell_type": "markdown",
   "metadata": {
    "deletable": true,
    "editable": true
   },
   "source": [
    "## 6.6 파일 다루기 예제\n",
    "\n",
    "지정된 날짜 이후에 수정된 파일들 복사하기"
   ]
  },
  {
   "cell_type": "code",
   "execution_count": 42,
   "metadata": {
    "collapsed": false,
    "deletable": true,
    "editable": true
   },
   "outputs": [
    {
     "name": "stdout",
     "output_type": "stream",
     "text": [
      "[skipping directory] D:\\Projects\\PythonLecture\\DeepLearnigConference2017\\notebook\\.ipynb_checkpoints\n",
      "D:\\Projects\\PythonLecture\\DeepLearnigConference2017\\notebook\\.ipynb_checkpoints\\03_문자열-checkpoint.ipynb ==> d:\\tmp\\.ipynb_checkpoints\\03_문자열-checkpoint.ipynb\n",
      "D:\\Projects\\PythonLecture\\DeepLearnigConference2017\\notebook\\.ipynb_checkpoints\\04_수치자료형-checkpoint.ipynb ==> d:\\tmp\\.ipynb_checkpoints\\04_수치자료형-checkpoint.ipynb\n",
      "D:\\Projects\\PythonLecture\\DeepLearnigConference2017\\notebook\\.ipynb_checkpoints\\05_리스트-checkpoint.ipynb ==> d:\\tmp\\.ipynb_checkpoints\\05_리스트-checkpoint.ipynb\n",
      "D:\\Projects\\PythonLecture\\DeepLearnigConference2017\\notebook\\.ipynb_checkpoints\\05_리스트_활용-checkpoint.ipynb ==> d:\\tmp\\.ipynb_checkpoints\\05_리스트_활용-checkpoint.ipynb\n",
      "D:\\Projects\\PythonLecture\\DeepLearnigConference2017\\notebook\\.ipynb_checkpoints\\06_사전-checkpoint.ipynb ==> d:\\tmp\\.ipynb_checkpoints\\06_사전-checkpoint.ipynb\n",
      "D:\\Projects\\PythonLecture\\DeepLearnigConference2017\\notebook\\.ipynb_checkpoints\\07_객체직렬화-checkpoint.ipynb ==> d:\\tmp\\.ipynb_checkpoints\\07_객체직렬화-checkpoint.ipynb\n",
      "D:\\Projects\\PythonLecture\\DeepLearnigConference2017\\notebook\\.ipynb_checkpoints\\08_클래스와객체-checkpoint.ipynb ==> d:\\tmp\\.ipynb_checkpoints\\08_클래스와객체-checkpoint.ipynb\n",
      "D:\\Projects\\PythonLecture\\DeepLearnigConference2017\\notebook\\.ipynb_checkpoints\\numpy_codes-checkpoint.ipynb ==> d:\\tmp\\.ipynb_checkpoints\\numpy_codes-checkpoint.ipynb\n",
      "D:\\Projects\\PythonLecture\\DeepLearnigConference2017\\notebook\\.ipynb_checkpoints\\utility-checkpoint.ipynb ==> d:\\tmp\\.ipynb_checkpoints\\utility-checkpoint.ipynb\n",
      "[skipping directory] D:\\Projects\\PythonLecture\\DeepLearnigConference2017\\notebook\\.ipynb_checkpoints\\test\n",
      "D:\\Projects\\PythonLecture\\DeepLearnigConference2017\\notebook\\.ipynb_checkpoints\\test\\03_문자열-checkpoint.ipynb ==> d:\\tmp\\.ipynb_checkpoints\\test\\03_문자열-checkpoint.ipynb\n"
     ]
    }
   ],
   "source": [
    "import time\n",
    "import os\n",
    "import shutil\n",
    "import ctypes\n",
    "\n",
    "def is_hidden(filepath):\n",
    "    for name in filepath.split(os.sep):\n",
    "        if name.startswith('.'):\n",
    "            return True\n",
    "    return False\n",
    "\n",
    "start_tm = '2017-2-9 00:00:00'\n",
    "src_dir = os.path.abspath('.')\n",
    "dest = 'd:\\\\tmp'\n",
    "\n",
    "st = time.strptime(start_tm, '%Y-%m-%d %H:%M:%S')\n",
    "tm = time.mktime(st)\n",
    "\n",
    "for curdir, dirs, files in os.walk(src_dir):\n",
    "    if is_hidden(curdir):\n",
    "        print('[skipping directory]', curdir)\n",
    "        continue\n",
    "    for fname in files:\n",
    "        if os.path.splitext(fname)[1] in ('.ipynb', '.jpg'):\n",
    "            fpath = os.path.join(curdir, fname)\n",
    "            try:\n",
    "                if os.path.getmtime(fpath) >= tm:\n",
    "                    common = os.path.commonpath([src_dir, fpath])\n",
    "                    fpath2 = os.path.normpath(os.path.join(dest, fpath[len(common)+1:]))\n",
    "                    fpath2_dir = os.path.split(fpath2)[0]\n",
    "                    if not os.path.exists(fpath2_dir):\n",
    "                        os.makedirs(fpath2_dir)\n",
    "                    if not os.path.exists(fpath2):\n",
    "                        print(fpath, '==>', fpath2)\n",
    "                        shutil.copyfile(fpath, fpath2)\n",
    "            except FileNotFoundError as e:\n",
    "                print(e)"
   ]
  },
  {
   "cell_type": "markdown",
   "metadata": {
    "deletable": true,
    "editable": true
   },
   "source": [
    "### 6.6.1 퀴즈 1\n",
    "\n",
    "오늘 오전 7시 이후로 수정된 모든 파일 목록을 출력해보고, `backup_2015_11_10`과 같이 오늘 날짜로 된 폴더를 생성하여 한 장소에 모두 복사한다."
   ]
  },
  {
   "cell_type": "markdown",
   "metadata": {
    "deletable": true,
    "editable": true
   },
   "source": [
    "### 6.6.2 퀴즈 2\n",
    "\n",
    "작업을 하다보면 필요 없는 파일들이 생겨난다. 이들을 일괄적으로 삭제해보자. 예를 들어 확장자가 `.bak` 파일을 삭제해본다."
   ]
  },
  {
   "cell_type": "markdown",
   "metadata": {
    "deletable": true,
    "editable": true
   },
   "source": [
    "### 6.6.3 퀴즈 3\n",
    "\n",
    "파일 찾기 `os.walk`를 이용하여 부분 파일 이름으로 파일을 찾아보자."
   ]
  },
  {
   "cell_type": "markdown",
   "metadata": {
    "deletable": true,
    "editable": true
   },
   "source": [
    "만일 원한다면 찾아진 파일들을 다음 명령으로 한 번에 에디터로 불러올 수도 있다.\n",
    "만일 EditPlus3 혹은 sublime text가 설치 되어 있다면 다음 명령으로 위의 파일들은 한 번에 에디터에 올라온다."
   ]
  },
  {
   "cell_type": "code",
   "execution_count": 43,
   "metadata": {
    "collapsed": false,
    "deletable": true,
    "editable": true
   },
   "outputs": [
    {
     "data": {
      "text/plain": [
       "<subprocess.Popen at 0x579ff60>"
      ]
     },
     "execution_count": 43,
     "metadata": {},
     "output_type": "execute_result"
    }
   ],
   "source": [
    "from subprocess import Popen\n",
    "\n",
    "Popen([r\"C:\\Program Files (x86)\\EditPlus 3\\editplus.exe\"] + flist)"
   ]
  },
  {
   "cell_type": "code",
   "execution_count": 44,
   "metadata": {
    "collapsed": false,
    "deletable": true,
    "editable": true
   },
   "outputs": [
    {
     "data": {
      "text/plain": [
       "<subprocess.Popen at 0x579f198>"
      ]
     },
     "execution_count": 44,
     "metadata": {},
     "output_type": "execute_result"
    }
   ],
   "source": [
    "from subprocess import Popen\n",
    "\n",
    "Popen([r\"C:\\Program Files\\Sublime Text 3\\sublime_text.exe\"] + flist)"
   ]
  },
  {
   "cell_type": "code",
   "execution_count": 45,
   "metadata": {
    "collapsed": true,
    "deletable": true,
    "editable": true
   },
   "outputs": [],
   "source": []
  }
 ],
 "metadata": {
  "kernelspec": {
   "display_name": "Python 3",
   "language": "python",
   "name": "python3"
  },
  "language_info": {
   "codemirror_mode": {
    "name": "ipython",
    "version": 3
   },
   "file_extension": ".py",
   "mimetype": "text/x-python",
   "name": "python",
   "nbconvert_exporter": "python",
   "pygments_lexer": "ipython3",
   "version": "3.5.2"
  }
 },
 "nbformat": 4,
 "nbformat_minor": 0
}
