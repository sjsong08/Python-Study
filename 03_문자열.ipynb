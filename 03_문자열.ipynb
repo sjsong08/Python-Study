{
 "cells": [
  {
   "cell_type": "markdown",
   "metadata": {
    "deletable": true,
    "editable": true
   },
   "source": [
    "# 3 문자열 연산\n",
    "\n",
    "## 3.1 문자열 정의\n",
    "\n",
    "파이썬 문자열은 유니코드"
   ]
  },
  {
   "cell_type": "code",
   "execution_count": 1,
   "metadata": {
    "collapsed": true,
    "deletable": true,
    "editable": true
   },
   "outputs": [],
   "source": [
    "s1 = 'big data and deep learning'\n",
    "s2 = \"big data and deep learning\""
   ]
  },
  {
   "cell_type": "markdown",
   "metadata": {
    "deletable": true,
    "editable": true
   },
   "source": [
    "다중 라인 문자열은 단일인용부호 세 개(''') 혹은 이중인용부호 세 개(\"\"\")로 정의된다."
   ]
  },
  {
   "cell_type": "code",
   "execution_count": 2,
   "metadata": {
    "collapsed": false,
    "deletable": true,
    "editable": true,
    "scrolled": false
   },
   "outputs": [
    {
     "name": "stdout",
     "output_type": "stream",
     "text": [
      "Big data is a term that describes the large volume of data – both structured and unstructured\n",
      "That inundates a business on a day-to-day basis.\n",
      "But it’s not the amount of data that’s important.\n",
      "It’s what organizations do with the data that matters.\n",
      "Big data can be analyzed for insights that lead to better decisions and strategic business moves.\n",
      "\n",
      "-- from http://www.sas.com\n",
      "\n",
      "Deep learning (also known as deep structured learning, hierarchical learning or deep machine learning) is a branch of machine learning based on a set of algorithms that attempt to model high level abstractions in data. In a simple case, there might be two sets of neurons: ones that receive an input signal and ones that send an output signal. When the input layer receives an input it passes on a modified version of the input to the next layer. In a deep network, there are many layers between the input and output (and the layers are not made of neurons but it can help to think of it that way), allowing the algorithm to use multiple processing layers, composed of multiple linear and non-linear transformations.[1][2][3][4][5][6][7][8][9]\n",
      "\n",
      "Deep learning is part of a broader family of machine learning methods based on learning representations of data. An observation (e.g., an image) can be represented in many ways such as a vector of intensity values per pixel, or in a more abstract way as a set of edges, regions of particular shape, etc. Some representations are better than others at simplifying the learning task (e.g., face recognition or facial expression recognition[10]). One of the promises of deep learning is replacing handcrafted features with efficient algorithms for unsupervised or semi-supervised feature learning and hierarchical feature extraction.[11]\n",
      "\n",
      "Research in this area attempts to make better representations and create models to learn these representations from large-scale unlabeled data. Some of the representations are inspired by advances in neuroscience and are loosely based on interpretation of information processing and communication patterns in a nervous system, such as neural coding which attempts to define a relationship between various stimuli and associated neuronal responses in the brain.[12]\n",
      "\n",
      "Various deep learning architectures such as deep neural networks, convolutional deep neural networks, deep belief networks and recurrent neural networks have been applied to fields like computer vision, automatic speech recognition, natural language processing, audio recognition and bioinformatics where they have been shown to produce state-of-the-art results on various tasks.\n",
      "\n",
      "Deep learning has been characterized as a buzzword, or a rebranding of neural networks.[13][14]\n",
      "\n",
      "-- from wikipedia\n",
      "\n"
     ]
    }
   ],
   "source": [
    "s3 = '''Big data is a term that describes the large volume of data – both structured and unstructured\n",
    "That inundates a business on a day-to-day basis.\n",
    "But it’s not the amount of data that’s important.\n",
    "It’s what organizations do with the data that matters.\n",
    "Big data can be analyzed for insights that lead to better decisions and strategic business moves.\n",
    "\n",
    "-- from http://www.sas.com\n",
    "'''\n",
    "s4 = \"\"\"Deep learning (also known as deep structured learning, hierarchical learning or deep machine learning) is a branch of machine learning based on a set of algorithms that attempt to model high level abstractions in data. In a simple case, there might be two sets of neurons: ones that receive an input signal and ones that send an output signal. When the input layer receives an input it passes on a modified version of the input to the next layer. In a deep network, there are many layers between the input and output (and the layers are not made of neurons but it can help to think of it that way), allowing the algorithm to use multiple processing layers, composed of multiple linear and non-linear transformations.[1][2][3][4][5][6][7][8][9]\n",
    "\n",
    "Deep learning is part of a broader family of machine learning methods based on learning representations of data. An observation (e.g., an image) can be represented in many ways such as a vector of intensity values per pixel, or in a more abstract way as a set of edges, regions of particular shape, etc. Some representations are better than others at simplifying the learning task (e.g., face recognition or facial expression recognition[10]). One of the promises of deep learning is replacing handcrafted features with efficient algorithms for unsupervised or semi-supervised feature learning and hierarchical feature extraction.[11]\n",
    "\n",
    "Research in this area attempts to make better representations and create models to learn these representations from large-scale unlabeled data. Some of the representations are inspired by advances in neuroscience and are loosely based on interpretation of information processing and communication patterns in a nervous system, such as neural coding which attempts to define a relationship between various stimuli and associated neuronal responses in the brain.[12]\n",
    "\n",
    "Various deep learning architectures such as deep neural networks, convolutional deep neural networks, deep belief networks and recurrent neural networks have been applied to fields like computer vision, automatic speech recognition, natural language processing, audio recognition and bioinformatics where they have been shown to produce state-of-the-art results on various tasks.\n",
    "\n",
    "Deep learning has been characterized as a buzzword, or a rebranding of neural networks.[13][14]\n",
    "\n",
    "-- from wikipedia\n",
    "\"\"\"\n",
    "\n",
    "print(s3)\n",
    "print(s4)"
   ]
  },
  {
   "cell_type": "markdown",
   "metadata": {
    "deletable": true,
    "editable": true
   },
   "source": [
    "문자열 표현을 얻으려면 `str()` 혹은 `repr()` 함수를 이용한다."
   ]
  },
  {
   "cell_type": "code",
   "execution_count": 3,
   "metadata": {
    "collapsed": false,
    "deletable": true,
    "editable": true
   },
   "outputs": [
    {
     "data": {
      "text/plain": [
       "'123'"
      ]
     },
     "execution_count": 3,
     "metadata": {},
     "output_type": "execute_result"
    }
   ],
   "source": [
    "str(123)"
   ]
  },
  {
   "cell_type": "code",
   "execution_count": 4,
   "metadata": {
    "collapsed": false,
    "deletable": true,
    "editable": true
   },
   "outputs": [
    {
     "data": {
      "text/plain": [
       "'1.23456'"
      ]
     },
     "execution_count": 4,
     "metadata": {},
     "output_type": "execute_result"
    }
   ],
   "source": [
    "str(1.23456)"
   ]
  },
  {
   "cell_type": "code",
   "execution_count": 5,
   "metadata": {
    "collapsed": false,
    "deletable": true,
    "editable": true
   },
   "outputs": [
    {
     "data": {
      "text/plain": [
       "'True'"
      ]
     },
     "execution_count": 5,
     "metadata": {},
     "output_type": "execute_result"
    }
   ],
   "source": [
    "str(True)"
   ]
  },
  {
   "cell_type": "code",
   "execution_count": 6,
   "metadata": {
    "collapsed": false,
    "deletable": true,
    "editable": true
   },
   "outputs": [
    {
     "data": {
      "text/plain": [
       "\"[1, 2, 3, 'Python']\""
      ]
     },
     "execution_count": 6,
     "metadata": {},
     "output_type": "execute_result"
    }
   ],
   "source": [
    "str([1,2,3, 'Python'])"
   ]
  },
  {
   "cell_type": "markdown",
   "metadata": {
    "deletable": true,
    "editable": true
   },
   "source": [
    "## 3.2 특수문자\n",
    "\n",
    "파이썬에서는 문자열을 표현할 때 백슬래시 `\\`를 사용하여 키보드로 표현하기 힘든 문자들을 표현한다.\n",
    "\n",
    "`\\'`는 `'` 문자 자체를 나타낸다."
   ]
  },
  {
   "cell_type": "code",
   "execution_count": 7,
   "metadata": {
    "collapsed": false,
    "deletable": true,
    "editable": true
   },
   "outputs": [
    {
     "data": {
      "text/plain": [
       "\"I've been there\""
      ]
     },
     "execution_count": 7,
     "metadata": {},
     "output_type": "execute_result"
    }
   ],
   "source": [
    "s = \"I've been there\"\n",
    "s = 'I\\'ve been there'\n",
    "s"
   ]
  },
  {
   "cell_type": "markdown",
   "metadata": {
    "deletable": true,
    "editable": true
   },
   "source": [
    "white spaces\n",
    "\n",
    "`'\\r\\n\\t \\b'`\n"
   ]
  },
  {
   "cell_type": "code",
   "execution_count": 8,
   "metadata": {
    "collapsed": false,
    "deletable": true,
    "editable": true
   },
   "outputs": [
    {
     "name": "stdout",
     "output_type": "stream",
     "text": [
      "first line\n",
      "second line\ttabbed text\n"
     ]
    }
   ],
   "source": [
    "print('first line\\nsecond line\\ttabbed text')"
   ]
  },
  {
   "cell_type": "markdown",
   "metadata": {
    "deletable": true,
    "editable": true
   },
   "source": [
    "만일 `\\` 문자 자체를 표시하려면 `\\\\`를 사용해야 한다."
   ]
  },
  {
   "cell_type": "code",
   "execution_count": 9,
   "metadata": {
    "collapsed": false,
    "deletable": true,
    "editable": true
   },
   "outputs": [
    {
     "name": "stdout",
     "output_type": "stream",
     "text": [
      "\\n\n"
     ]
    }
   ],
   "source": [
    "print('\\\\n')"
   ]
  },
  {
   "cell_type": "markdown",
   "metadata": {
    "deletable": true,
    "editable": true
   },
   "source": [
    "파일 경로를 표현하는데 `\\` 문자를 많이 사용하게 된다. 이 때 모든 `\\` 문자는 `\\\\`로 표현해야 문제 없이 처리된다."
   ]
  },
  {
   "cell_type": "code",
   "execution_count": 10,
   "metadata": {
    "collapsed": false,
    "deletable": true,
    "editable": true
   },
   "outputs": [
    {
     "name": "stdout",
     "output_type": "stream",
     "text": [
      "E:\bigdata\\deeplearning\n"
     ]
    }
   ],
   "source": [
    "path1 = 'E:\\bigdata\\deeplearning'\n",
    "print(path1)"
   ]
  },
  {
   "cell_type": "code",
   "execution_count": 11,
   "metadata": {
    "collapsed": false,
    "deletable": true,
    "editable": true
   },
   "outputs": [
    {
     "name": "stdout",
     "output_type": "stream",
     "text": [
      "E:\\bigdata\\deeplearning\n"
     ]
    }
   ],
   "source": [
    "path2 = 'E:\\\\bigdata\\\\deeplearning'\n",
    "print(path2)"
   ]
  },
  {
   "cell_type": "markdown",
   "metadata": {
    "deletable": true,
    "editable": true
   },
   "source": [
    "날(raw) 문자열\n",
    "\n",
    "`r'..'`와 같은 표현"
   ]
  },
  {
   "cell_type": "code",
   "execution_count": 12,
   "metadata": {
    "collapsed": false,
    "deletable": true,
    "editable": true
   },
   "outputs": [
    {
     "name": "stdout",
     "output_type": "stream",
     "text": [
      "E:\\bigdata\\deeplearning\n"
     ]
    }
   ],
   "source": [
    "path2 = r'E:\\bigdata\\deeplearning'\n",
    "print(path2)"
   ]
  },
  {
   "cell_type": "markdown",
   "metadata": {
    "deletable": true,
    "editable": true
   },
   "source": [
    "`\\x??` Hexa char"
   ]
  },
  {
   "cell_type": "code",
   "execution_count": 13,
   "metadata": {
    "collapsed": false,
    "deletable": true,
    "editable": true
   },
   "outputs": [
    {
     "data": {
      "text/plain": [
       "'A'"
      ]
     },
     "execution_count": 13,
     "metadata": {},
     "output_type": "execute_result"
    }
   ],
   "source": [
    "'\\x41'"
   ]
  },
  {
   "cell_type": "markdown",
   "metadata": {
    "deletable": true,
    "editable": true
   },
   "source": [
    "`\\u????`는 유니코드"
   ]
  },
  {
   "cell_type": "code",
   "execution_count": 14,
   "metadata": {
    "collapsed": false,
    "deletable": true,
    "editable": true
   },
   "outputs": [
    {
     "data": {
      "text/plain": [
       "'가'"
      ]
     },
     "execution_count": 14,
     "metadata": {},
     "output_type": "execute_result"
    }
   ],
   "source": [
    "'\\uac00'"
   ]
  },
  {
   "cell_type": "markdown",
   "metadata": {
    "deletable": true,
    "editable": true
   },
   "source": [
    "### 3.2.1 `ord(), chr()`\n"
   ]
  },
  {
   "cell_type": "code",
   "execution_count": 15,
   "metadata": {
    "collapsed": false,
    "deletable": true,
    "editable": true
   },
   "outputs": [
    {
     "data": {
      "text/plain": [
       "97"
      ]
     },
     "execution_count": 15,
     "metadata": {},
     "output_type": "execute_result"
    }
   ],
   "source": [
    "ord('a')"
   ]
  },
  {
   "cell_type": "code",
   "execution_count": 16,
   "metadata": {
    "collapsed": false,
    "deletable": true,
    "editable": true
   },
   "outputs": [
    {
     "data": {
      "text/plain": [
       "'a'"
      ]
     },
     "execution_count": 16,
     "metadata": {},
     "output_type": "execute_result"
    }
   ],
   "source": [
    "chr(97)"
   ]
  },
  {
   "cell_type": "code",
   "execution_count": 17,
   "metadata": {
    "collapsed": false,
    "deletable": true,
    "editable": true
   },
   "outputs": [
    {
     "data": {
      "text/plain": [
       "44032"
      ]
     },
     "execution_count": 17,
     "metadata": {},
     "output_type": "execute_result"
    }
   ],
   "source": [
    "ord('가')"
   ]
  },
  {
   "cell_type": "code",
   "execution_count": 18,
   "metadata": {
    "collapsed": false,
    "deletable": true,
    "editable": true
   },
   "outputs": [
    {
     "data": {
      "text/plain": [
       "'가'"
      ]
     },
     "execution_count": 18,
     "metadata": {},
     "output_type": "execute_result"
    }
   ],
   "source": [
    "chr(44032)"
   ]
  },
  {
   "cell_type": "code",
   "execution_count": 19,
   "metadata": {
    "collapsed": true,
    "deletable": true,
    "editable": true
   },
   "outputs": [],
   "source": []
  },
  {
   "cell_type": "markdown",
   "metadata": {
    "deletable": true,
    "editable": true
   },
   "source": [
    "## 3.3 시퀀스 자료형의 연산\n",
    "\n",
    "문자열은 시퀀스(sequence) 자료형. 따라서 시퀀스 자료형에 적용 가능한 일반적인 연산 다섯 가지(인덱싱, 슬라이싱, 연결하기, 반복하기, 멤버십 테스트, 길이정보)를 사용할 수 있다.\n"
   ]
  },
  {
   "cell_type": "code",
   "execution_count": 20,
   "metadata": {
    "collapsed": false,
    "deletable": true,
    "editable": true
   },
   "outputs": [
    {
     "name": "stdout",
     "output_type": "stream",
     "text": [
      "w h y\n",
      "wha wha  day!\n",
      "what a wonderful day!what a wonderful day!\n",
      "what a wonderful day!what a wonderful day!\n",
      "False True\n",
      "21\n"
     ]
    }
   ],
   "source": [
    "s = 'what a wonderful day!'\n",
    "print(s[0], s[1], s[-2])   # 인덱싱\n",
    "print(s[0:3], s[:3], s[-5:])  # 슬라이싱\n",
    "print(s + s)   # 연결하기, 두 문자열을 연결한다\n",
    "print(s*2)  # 반복하기\n",
    "print('abc' in s, 'abc' not in s)  # 멤버십 테스트\n",
    "print(len(s))"
   ]
  },
  {
   "cell_type": "markdown",
   "metadata": {
    "deletable": true,
    "editable": true
   },
   "source": [
    "슬라이싱은 `[시작오프셋:끝오프셋]` 형식\n",
    "\n",
    "문자열은 변경불가능한 자료형이므로 값을 대입할 수는 없다."
   ]
  },
  {
   "cell_type": "code",
   "execution_count": 21,
   "metadata": {
    "collapsed": false,
    "deletable": true,
    "editable": true
   },
   "outputs": [
    {
     "ename": "TypeError",
     "evalue": "'str' object does not support item assignment",
     "output_type": "error",
     "traceback": [
      "\u001b[1;31m---------------------------------------------------------------------------\u001b[0m",
      "\u001b[1;31mTypeError\u001b[0m                                 Traceback (most recent call last)",
      "\u001b[1;32m<ipython-input-14-2d593d402d3b>\u001b[0m in \u001b[0;36m<module>\u001b[1;34m()\u001b[0m\n\u001b[1;32m----> 1\u001b[1;33m \u001b[0ms\u001b[0m\u001b[1;33m[\u001b[0m\u001b[1;36m0\u001b[0m\u001b[1;33m]\u001b[0m \u001b[1;33m=\u001b[0m \u001b[1;34m'W'\u001b[0m\u001b[1;33m\u001b[0m\u001b[0m\n\u001b[0m",
      "\u001b[1;31mTypeError\u001b[0m: 'str' object does not support item assignment"
     ]
    }
   ],
   "source": [
    "s[0] = 'W'"
   ]
  },
  {
   "cell_type": "markdown",
   "metadata": {
    "deletable": true,
    "editable": true
   },
   "source": [
    "문자열이 시퀀스 자료형 이므로 `for` 문에 적용하면 각 문자에 대해서 반복한다."
   ]
  },
  {
   "cell_type": "code",
   "execution_count": 22,
   "metadata": {
    "collapsed": false,
    "deletable": true,
    "editable": true
   },
   "outputs": [
    {
     "name": "stdout",
     "output_type": "stream",
     "text": [
      "파 이 썬 만 세 "
     ]
    }
   ],
   "source": [
    "for c in '파이썬만세':\n",
    "    print(c, end = ' ')"
   ]
  },
  {
   "cell_type": "markdown",
   "metadata": {
    "deletable": true,
    "editable": true
   },
   "source": [
    "리스트로 변환하면 인덱싱이 가능한 단위로 리스트에 저장된다."
   ]
  },
  {
   "cell_type": "code",
   "execution_count": 23,
   "metadata": {
    "collapsed": false,
    "deletable": true,
    "editable": true
   },
   "outputs": [
    {
     "data": {
      "text/plain": [
       "['파', '이', '썬', '만', '세']"
      ]
     },
     "execution_count": 23,
     "metadata": {},
     "output_type": "execute_result"
    }
   ],
   "source": [
    "list('파이썬만세')"
   ]
  },
  {
   "cell_type": "markdown",
   "metadata": {
    "deletable": true,
    "editable": true
   },
   "source": [
    "### 3.3.1 예제\n",
    "\n",
    "알파벳 대문자 A-Z의 아스키 코드 값을 확인해보자. 대문자는 직접 정의해도 좋고, 다음과 같이 string 모듈에서 가져다가 사용해도 된다."
   ]
  },
  {
   "cell_type": "code",
   "execution_count": 24,
   "metadata": {
    "collapsed": false,
    "deletable": true,
    "editable": true
   },
   "outputs": [
    {
     "data": {
      "text/plain": [
       "'ABCDEFGHIJKLMNOPQRSTUVWXYZ'"
      ]
     },
     "execution_count": 24,
     "metadata": {},
     "output_type": "execute_result"
    }
   ],
   "source": [
    "import string\n",
    "\n",
    "string.ascii_uppercase"
   ]
  },
  {
   "cell_type": "code",
   "execution_count": 25,
   "metadata": {
    "collapsed": false,
    "deletable": true,
    "editable": true
   },
   "outputs": [
    {
     "name": "stdout",
     "output_type": "stream",
     "text": [
      "A 65   B 66   C 67   D 68   E 69   F 70   G 71   H 72   I 73   J 74   K 75   L 76   M 77   N 78   O 79   P 80   Q 81   R 82   S 83   T 84   U 85   V 86   W 87   X 88   Y 89   Z 90   "
     ]
    }
   ],
   "source": [
    "for c in string.ascii_uppercase:\n",
    "    print(c, ord(c), end='   ')"
   ]
  },
  {
   "cell_type": "markdown",
   "metadata": {
    "deletable": true,
    "editable": true
   },
   "source": [
    "## 3.4 문자열 메서드\n",
    "\n",
    "문자열 객체는 문자열 조작에 필요한 여러가지 메서드를 준비하고 있다. 메서드의 결과로 문자열이 내부에서 변경되는 것은 아니고, 새로 만들어진 문자열을 되돌려준다.\n",
    "다음은 대소문자 변환에 관련된 메서드를 사용한 예이다."
   ]
  },
  {
   "cell_type": "code",
   "execution_count": 26,
   "metadata": {
    "collapsed": false,
    "deletable": true,
    "editable": true
   },
   "outputs": [
    {
     "data": {
      "text/plain": [
       "'I LIKE PROGRAMMING AND PLAYING LINEAGE.'"
      ]
     },
     "execution_count": 26,
     "metadata": {},
     "output_type": "execute_result"
    }
   ],
   "source": [
    "s = 'i like programming and playing Lineage.'\n",
    "s.upper()   # 대문자로 변환한다."
   ]
  },
  {
   "cell_type": "code",
   "execution_count": 27,
   "metadata": {
    "collapsed": false,
    "deletable": true,
    "editable": true
   },
   "outputs": [
    {
     "data": {
      "text/plain": [
       "'i like programming and playing lineage.'"
      ]
     },
     "execution_count": 27,
     "metadata": {},
     "output_type": "execute_result"
    }
   ],
   "source": [
    "s.lower()   # 소문자로 변환한다."
   ]
  },
  {
   "cell_type": "code",
   "execution_count": 28,
   "metadata": {
    "collapsed": false,
    "deletable": true,
    "editable": true
   },
   "outputs": [
    {
     "data": {
      "text/plain": [
       "'I LIKE PROGRAMMING AND PLAYING lINEAGE.'"
      ]
     },
     "execution_count": 28,
     "metadata": {},
     "output_type": "execute_result"
    }
   ],
   "source": [
    "s.swapcase()  # 대소문자를 바꾼다"
   ]
  },
  {
   "cell_type": "code",
   "execution_count": 29,
   "metadata": {
    "collapsed": false,
    "deletable": true,
    "editable": true
   },
   "outputs": [
    {
     "data": {
      "text/plain": [
       "'I like programming and playing lineage.'"
      ]
     },
     "execution_count": 29,
     "metadata": {},
     "output_type": "execute_result"
    }
   ],
   "source": [
    "s.capitalize()  # 첫 글자를 대문자로 바꾼다"
   ]
  },
  {
   "cell_type": "code",
   "execution_count": 30,
   "metadata": {
    "collapsed": false,
    "deletable": true,
    "editable": true
   },
   "outputs": [
    {
     "data": {
      "text/plain": [
       "'I Like Programming And Playing Lineage.'"
      ]
     },
     "execution_count": 30,
     "metadata": {},
     "output_type": "execute_result"
    }
   ],
   "source": [
    "s.title()   # 각 단어의 시작을 대문자로 바꾼다"
   ]
  },
  {
   "cell_type": "markdown",
   "metadata": {
    "deletable": true,
    "editable": true
   },
   "source": [
    "다음은 검색에 관련된 메서드의 사용 예이다."
   ]
  },
  {
   "cell_type": "code",
   "execution_count": 31,
   "metadata": {
    "collapsed": true,
    "deletable": true,
    "editable": true
   },
   "outputs": [],
   "source": [
    "s = 'i like programming, i like swimming.'"
   ]
  },
  {
   "cell_type": "code",
   "execution_count": 32,
   "metadata": {
    "collapsed": false,
    "deletable": true,
    "editable": true
   },
   "outputs": [
    {
     "data": {
      "text/plain": [
       "2"
      ]
     },
     "execution_count": 32,
     "metadata": {},
     "output_type": "execute_result"
    }
   ],
   "source": [
    "s.count('like') # 문자열 s에서 'like'라는 부분 문자열이 발생한 횟수를 반환한다."
   ]
  },
  {
   "cell_type": "code",
   "execution_count": 33,
   "metadata": {
    "collapsed": false,
    "deletable": true,
    "editable": true
   },
   "outputs": [
    {
     "data": {
      "text/plain": [
       "2"
      ]
     },
     "execution_count": 33,
     "metadata": {},
     "output_type": "execute_result"
    }
   ],
   "source": [
    "s.find('like') # 문자열 s에서 'like'의 오프셋을 반환한다. 검색에 해당한다."
   ]
  },
  {
   "cell_type": "code",
   "execution_count": 34,
   "metadata": {
    "collapsed": false,
    "deletable": true,
    "editable": true
   },
   "outputs": [
    {
     "data": {
      "text/plain": [
       "22"
      ]
     },
     "execution_count": 34,
     "metadata": {},
     "output_type": "execute_result"
    }
   ],
   "source": [
    "s.find('like', 3) # 문자열 3번째 위치부터 검색한다."
   ]
  },
  {
   "cell_type": "code",
   "execution_count": 35,
   "metadata": {
    "collapsed": false,
    "deletable": true,
    "editable": true
   },
   "outputs": [
    {
     "data": {
      "text/plain": [
       "-1"
      ]
     },
     "execution_count": 35,
     "metadata": {},
     "output_type": "execute_result"
    }
   ],
   "source": [
    "s.find('my') # 찾는 문자열이 없을 경우 -1을 반환한다."
   ]
  },
  {
   "cell_type": "code",
   "execution_count": 36,
   "metadata": {
    "collapsed": false,
    "deletable": true,
    "editable": true
   },
   "outputs": [
    {
     "data": {
      "text/plain": [
       "22"
      ]
     },
     "execution_count": 36,
     "metadata": {},
     "output_type": "execute_result"
    }
   ],
   "source": [
    "s.rfind('like') # find( ) 메서드와 같지만 문자열 s의 뒤쪽부터 검색한다."
   ]
  },
  {
   "cell_type": "code",
   "execution_count": 37,
   "metadata": {
    "collapsed": false,
    "deletable": true,
    "editable": true
   },
   "outputs": [
    {
     "data": {
      "text/plain": [
       "2"
      ]
     },
     "execution_count": 37,
     "metadata": {},
     "output_type": "execute_result"
    }
   ],
   "source": [
    "s.index('like') # find( ) 메서드와 같지만,"
   ]
  },
  {
   "cell_type": "code",
   "execution_count": 38,
   "metadata": {
    "collapsed": false,
    "deletable": true,
    "editable": true
   },
   "outputs": [
    {
     "ename": "ValueError",
     "evalue": "substring not found",
     "output_type": "error",
     "traceback": [
      "\u001b[1;31m---------------------------------------------------------------------------\u001b[0m",
      "\u001b[1;31mValueError\u001b[0m                                Traceback (most recent call last)",
      "\u001b[1;32m<ipython-input-35-35021137c259>\u001b[0m in \u001b[0;36m<module>\u001b[1;34m()\u001b[0m\n\u001b[1;32m----> 1\u001b[1;33m \u001b[0ms\u001b[0m\u001b[1;33m.\u001b[0m\u001b[0mindex\u001b[0m\u001b[1;33m(\u001b[0m\u001b[1;34m'my'\u001b[0m\u001b[1;33m)\u001b[0m \u001b[1;31m# 찾는 문자열이 없을 경우 예외가 발생한다.\u001b[0m\u001b[1;33m\u001b[0m\u001b[0m\n\u001b[0m",
      "\u001b[1;31mValueError\u001b[0m: substring not found"
     ]
    }
   ],
   "source": [
    "s.index('my') # 찾는 문자열이 없을 경우 예외가 발생한다."
   ]
  },
  {
   "cell_type": "markdown",
   "metadata": {
    "deletable": true,
    "editable": true
   },
   "source": [
    "예외가 발생하는 경우의 처리는 다음과 같이 `try-except` 구문을 이용할 수 있다.\n",
    "정상적으로 처리해야 할 코드는 `try` 영역에 온다. 만일 예외를 일으키면 즉시 `except` 영역이 실행된다."
   ]
  },
  {
   "cell_type": "code",
   "execution_count": 39,
   "metadata": {
    "collapsed": false,
    "deletable": true,
    "editable": true
   },
   "outputs": [
    {
     "name": "stdout",
     "output_type": "stream",
     "text": [
      "string not found\n"
     ]
    }
   ],
   "source": [
    "try:\n",
    "    s.index('my')\n",
    "except ValueError:\n",
    "    print('string not found')"
   ]
  },
  {
   "cell_type": "code",
   "execution_count": 40,
   "metadata": {
    "collapsed": false,
    "deletable": true,
    "editable": true
   },
   "outputs": [
    {
     "data": {
      "text/plain": [
       "22"
      ]
     },
     "execution_count": 40,
     "metadata": {},
     "output_type": "execute_result"
    }
   ],
   "source": [
    "s.rindex('like') # index( ) 메서드와 같지만 문자열 s의 뒤쪽부터 검색한다."
   ]
  },
  {
   "cell_type": "markdown",
   "metadata": {
    "deletable": true,
    "editable": true
   },
   "source": [
    "다음은 부분 문자열의 내용을 확인하는데 사용되는 메서드들이다."
   ]
  },
  {
   "cell_type": "code",
   "execution_count": 41,
   "metadata": {
    "collapsed": false,
    "deletable": true,
    "editable": true
   },
   "outputs": [
    {
     "data": {
      "text/plain": [
       "True"
      ]
     },
     "execution_count": 41,
     "metadata": {},
     "output_type": "execute_result"
    }
   ],
   "source": [
    "s.startswith('i like') # i like로 시작하는 문자열인가?"
   ]
  },
  {
   "cell_type": "code",
   "execution_count": 42,
   "metadata": {
    "collapsed": false,
    "deletable": true,
    "editable": true
   },
   "outputs": [
    {
     "data": {
      "text/plain": [
       "True"
      ]
     },
     "execution_count": 42,
     "metadata": {},
     "output_type": "execute_result"
    }
   ],
   "source": [
    "s.endswith('swimming.') # swimming.으로 끝나는 문자열인가?"
   ]
  },
  {
   "cell_type": "code",
   "execution_count": 43,
   "metadata": {
    "collapsed": false,
    "deletable": true,
    "editable": true
   },
   "outputs": [
    {
     "data": {
      "text/plain": [
       "True"
      ]
     },
     "execution_count": 43,
     "metadata": {},
     "output_type": "execute_result"
    }
   ],
   "source": [
    "s.startswith('progr', 7) # 7번째 문자열이 progr로 시작하는가?"
   ]
  },
  {
   "cell_type": "code",
   "execution_count": 44,
   "metadata": {
    "collapsed": false,
    "deletable": true,
    "editable": true
   },
   "outputs": [
    {
     "data": {
      "text/plain": [
       "True"
      ]
     },
     "execution_count": 44,
     "metadata": {},
     "output_type": "execute_result"
    }
   ],
   "source": [
    "s.endswith('like', 0, 26) # 0부터 26번째 사이의 문자열이 like로 끝나는가?"
   ]
  },
  {
   "cell_type": "markdown",
   "metadata": {
    "deletable": true,
    "editable": true
   },
   "source": [
    "다음은 편집과 치환에 관련된 메서드를 사용한 예이다."
   ]
  },
  {
   "cell_type": "code",
   "execution_count": 45,
   "metadata": {
    "collapsed": true,
    "deletable": true,
    "editable": true
   },
   "outputs": [],
   "source": [
    "u = ' spam and ham '"
   ]
  },
  {
   "cell_type": "code",
   "execution_count": 46,
   "metadata": {
    "collapsed": false,
    "deletable": true,
    "editable": true
   },
   "outputs": [
    {
     "data": {
      "text/plain": [
       "'spam and ham'"
      ]
     },
     "execution_count": 46,
     "metadata": {},
     "output_type": "execute_result"
    }
   ],
   "source": [
    "u.strip( ) # 좌우 공백을 없앤다."
   ]
  },
  {
   "cell_type": "code",
   "execution_count": 47,
   "metadata": {
    "collapsed": false,
    "deletable": true,
    "editable": true
   },
   "outputs": [
    {
     "data": {
      "text/plain": [
       "' spam and ham'"
      ]
     },
     "execution_count": 47,
     "metadata": {},
     "output_type": "execute_result"
    }
   ],
   "source": [
    "u.rstrip( )"
   ]
  },
  {
   "cell_type": "code",
   "execution_count": 48,
   "metadata": {
    "collapsed": false,
    "deletable": true,
    "editable": true
   },
   "outputs": [
    {
     "data": {
      "text/plain": [
       "'spam and ham '"
      ]
     },
     "execution_count": 48,
     "metadata": {},
     "output_type": "execute_result"
    }
   ],
   "source": [
    "u.lstrip( ) # 왼쪽 공백을 없앤다."
   ]
  },
  {
   "cell_type": "code",
   "execution_count": 49,
   "metadata": {
    "collapsed": false,
    "deletable": true,
    "editable": true
   },
   "outputs": [
    {
     "data": {
      "text/plain": [
       "'abc'"
      ]
     },
     "execution_count": 49,
     "metadata": {},
     "output_type": "execute_result"
    }
   ],
   "source": [
    "' abc '.strip( )"
   ]
  },
  {
   "cell_type": "code",
   "execution_count": 50,
   "metadata": {
    "collapsed": false,
    "deletable": true,
    "editable": true
   },
   "outputs": [
    {
     "data": {
      "text/plain": [
       "'abc'"
      ]
     },
     "execution_count": 50,
     "metadata": {},
     "output_type": "execute_result"
    }
   ],
   "source": [
    "'><><abc<><><>'.strip('<>')"
   ]
  },
  {
   "cell_type": "code",
   "execution_count": 51,
   "metadata": {
    "collapsed": false,
    "deletable": true,
    "editable": true
   },
   "outputs": [
    {
     "data": {
      "text/plain": [
       "'abc<><><>\\n'"
      ]
     },
     "execution_count": 51,
     "metadata": {},
     "output_type": "execute_result"
    }
   ],
   "source": [
    "'><><abc<><><>\\n'.strip('<>')"
   ]
  },
  {
   "cell_type": "code",
   "execution_count": 52,
   "metadata": {
    "collapsed": false,
    "deletable": true,
    "editable": true
   },
   "outputs": [
    {
     "data": {
      "text/plain": [
       "' 파이썬 만세 '"
      ]
     },
     "execution_count": 52,
     "metadata": {},
     "output_type": "execute_result"
    }
   ],
   "source": [
    "'ㅎㅎ 파이썬 만세 ㅎㅎ'.strip('ㅎ')"
   ]
  },
  {
   "cell_type": "code",
   "execution_count": 53,
   "metadata": {
    "collapsed": false,
    "deletable": true,
    "editable": true
   },
   "outputs": [
    {
     "data": {
      "text/plain": [
       "' spam, egg and ham '"
      ]
     },
     "execution_count": 53,
     "metadata": {},
     "output_type": "execute_result"
    }
   ],
   "source": [
    "u = ' spam and ham '\n",
    "u.replace('spam', 'spam, egg') # 'spam'을 'spam, egg'로 치환한다."
   ]
  },
  {
   "cell_type": "markdown",
   "metadata": {
    "deletable": true,
    "editable": true
   },
   "source": [
    "문자열의 분리와 결합에 관련된 메서드는 가장 자주 사용된다."
   ]
  },
  {
   "cell_type": "code",
   "execution_count": 54,
   "metadata": {
    "collapsed": true,
    "deletable": true,
    "editable": true
   },
   "outputs": [],
   "source": [
    "u = ' spam and ham '"
   ]
  },
  {
   "cell_type": "code",
   "execution_count": 55,
   "metadata": {
    "collapsed": false,
    "deletable": true,
    "editable": true
   },
   "outputs": [
    {
     "data": {
      "text/plain": [
       "['spam', 'and', 'ham']"
      ]
     },
     "execution_count": 55,
     "metadata": {},
     "output_type": "execute_result"
    }
   ],
   "source": [
    "u.split( ) # 공백으로 분리한다."
   ]
  },
  {
   "cell_type": "code",
   "execution_count": 56,
   "metadata": {
    "collapsed": false,
    "deletable": true,
    "editable": true
   },
   "outputs": [
    {
     "data": {
      "text/plain": [
       "[' spam ', ' ham ']"
      ]
     },
     "execution_count": 56,
     "metadata": {},
     "output_type": "execute_result"
    }
   ],
   "source": [
    "u.split('and') # 'and'로 분리한다."
   ]
  },
  {
   "cell_type": "code",
   "execution_count": 57,
   "metadata": {
    "collapsed": false,
    "deletable": true,
    "editable": true
   },
   "outputs": [
    {
     "data": {
      "text/plain": [
       "'spam:and:ham'"
      ]
     },
     "execution_count": 57,
     "metadata": {},
     "output_type": "execute_result"
    }
   ],
   "source": [
    "t = ' spam and ham '.split( )\n",
    "':'.join(t) # ':' 문자로 결합한다. 틀리기 쉬우므로 주의가 필요하다."
   ]
  },
  {
   "cell_type": "code",
   "execution_count": 58,
   "metadata": {
    "collapsed": false,
    "deletable": true,
    "editable": true
   },
   "outputs": [
    {
     "name": "stdout",
     "output_type": "stream",
     "text": [
      "spam\n",
      "and\n",
      "ham\n"
     ]
    }
   ],
   "source": [
    "print('\\n'.join(t)) # 줄 바꾸기로 결합한다."
   ]
  },
  {
   "cell_type": "code",
   "execution_count": 59,
   "metadata": {
    "collapsed": false,
    "deletable": true,
    "editable": true
   },
   "outputs": [
    {
     "data": {
      "text/plain": [
       "['first line # 3줄 문자열이다.', 'second line', 'third line']"
      ]
     },
     "execution_count": 59,
     "metadata": {},
     "output_type": "execute_result"
    }
   ],
   "source": [
    "lines = '''first line # 3줄 문자열이다.\n",
    "second line\n",
    "third line'''\n",
    "\n",
    "lines.splitlines( ) # 줄 단위로 분리한다."
   ]
  },
  {
   "cell_type": "markdown",
   "metadata": {
    "deletable": true,
    "editable": true
   },
   "source": [
    "split( ) 메서드는 두 번째 인수로 최대 분리 개수를 지정할 수 있다. rsplit( ) 메서드는 오른쪽 부터 분리하는 것을 제외하면 split( ) 메서드와 같다."
   ]
  },
  {
   "cell_type": "code",
   "execution_count": 60,
   "metadata": {
    "collapsed": true,
    "deletable": true,
    "editable": true
   },
   "outputs": [],
   "source": [
    "s = 'one:two:three:four'"
   ]
  },
  {
   "cell_type": "code",
   "execution_count": 61,
   "metadata": {
    "collapsed": false,
    "deletable": true,
    "editable": true
   },
   "outputs": [
    {
     "data": {
      "text/plain": [
       "['one', 'two', 'three:four']"
      ]
     },
     "execution_count": 61,
     "metadata": {},
     "output_type": "execute_result"
    }
   ],
   "source": [
    "s.split(':', 2) # 두 번만 분리한다."
   ]
  },
  {
   "cell_type": "code",
   "execution_count": 62,
   "metadata": {
    "collapsed": false,
    "deletable": true,
    "editable": true
   },
   "outputs": [
    {
     "data": {
      "text/plain": [
       "['one:two:three', 'four']"
      ]
     },
     "execution_count": 62,
     "metadata": {},
     "output_type": "execute_result"
    }
   ],
   "source": [
    "s.rsplit(':', 1) # 오른쪽부터 처리한다."
   ]
  },
  {
   "cell_type": "markdown",
   "metadata": {
    "deletable": true,
    "editable": true
   },
   "source": [
    "숫자로만 구성된 문자열인지 영문자로만 구성된 문자열인지를 판별할 수 있다."
   ]
  },
  {
   "cell_type": "code",
   "execution_count": 63,
   "metadata": {
    "collapsed": false,
    "deletable": true,
    "editable": true
   },
   "outputs": [
    {
     "data": {
      "text/plain": [
       "True"
      ]
     },
     "execution_count": 63,
     "metadata": {},
     "output_type": "execute_result"
    }
   ],
   "source": [
    "'1234'.isdigit( ) # 문자열이 숫자인가?"
   ]
  },
  {
   "cell_type": "code",
   "execution_count": 64,
   "metadata": {
    "collapsed": false,
    "deletable": true,
    "editable": true
   },
   "outputs": [
    {
     "data": {
      "text/plain": [
       "True"
      ]
     },
     "execution_count": 64,
     "metadata": {},
     "output_type": "execute_result"
    }
   ],
   "source": [
    "'123⅕⅖'.isnumeric( ) # 문자열이 유니코드 수치 혹은 일반 수치 문자인가?"
   ]
  },
  {
   "cell_type": "code",
   "execution_count": 65,
   "metadata": {
    "collapsed": false,
    "deletable": true,
    "editable": true
   },
   "outputs": [
    {
     "data": {
      "text/plain": [
       "True"
      ]
     },
     "execution_count": 65,
     "metadata": {},
     "output_type": "execute_result"
    }
   ],
   "source": [
    "'123'.isdecimal( ) # 일반 수치 혹은 유니코드 수치(Nd category) 문자인가?"
   ]
  },
  {
   "cell_type": "code",
   "execution_count": 66,
   "metadata": {
    "collapsed": false,
    "deletable": true,
    "editable": true
   },
   "outputs": [
    {
     "data": {
      "text/plain": [
       "True"
      ]
     },
     "execution_count": 66,
     "metadata": {},
     "output_type": "execute_result"
    }
   ],
   "source": [
    "'abcd한글'.isalpha( ) # 문자열이 영문자 혹은 유니코드 Letter 문자인가?"
   ]
  },
  {
   "cell_type": "code",
   "execution_count": 67,
   "metadata": {
    "collapsed": false,
    "deletable": true,
    "editable": true
   },
   "outputs": [
    {
     "data": {
      "text/plain": [
       "True"
      ]
     },
     "execution_count": 67,
     "metadata": {},
     "output_type": "execute_result"
    }
   ],
   "source": [
    "'1abc234'.isalnum( ) # 문자열이 숫자나 영문자 혹은 유니코드 Letter 문자인가?"
   ]
  },
  {
   "cell_type": "code",
   "execution_count": 68,
   "metadata": {
    "collapsed": false,
    "deletable": true,
    "editable": true
   },
   "outputs": [
    {
     "data": {
      "text/plain": [
       "True"
      ]
     },
     "execution_count": 68,
     "metadata": {},
     "output_type": "execute_result"
    }
   ],
   "source": [
    "'abc'.islower( ) # 문자열이 소문자인가?"
   ]
  },
  {
   "cell_type": "code",
   "execution_count": 69,
   "metadata": {
    "collapsed": false,
    "deletable": true,
    "editable": true
   },
   "outputs": [
    {
     "data": {
      "text/plain": [
       "True"
      ]
     },
     "execution_count": 69,
     "metadata": {},
     "output_type": "execute_result"
    }
   ],
   "source": [
    "'ABC'.isupper( ) # 문자열이 대문자인가?"
   ]
  },
  {
   "cell_type": "code",
   "execution_count": 70,
   "metadata": {
    "collapsed": false,
    "deletable": true,
    "editable": true
   },
   "outputs": [
    {
     "data": {
      "text/plain": [
       "True"
      ]
     },
     "execution_count": 70,
     "metadata": {},
     "output_type": "execute_result"
    }
   ],
   "source": [
    "' \\t\\r\\n'.isspace( ) # 공백 문자인가?"
   ]
  },
  {
   "cell_type": "code",
   "execution_count": 71,
   "metadata": {
    "collapsed": false,
    "deletable": true,
    "editable": true
   },
   "outputs": [
    {
     "data": {
      "text/plain": [
       "True"
      ]
     },
     "execution_count": 71,
     "metadata": {},
     "output_type": "execute_result"
    }
   ],
   "source": [
    "'This Is A Title'.istitle( ) # 제목 문자열인가?"
   ]
  },
  {
   "cell_type": "code",
   "execution_count": 72,
   "metadata": {
    "collapsed": false,
    "deletable": true,
    "editable": true
   },
   "outputs": [
    {
     "data": {
      "text/plain": [
       "True"
      ]
     },
     "execution_count": 72,
     "metadata": {},
     "output_type": "execute_result"
    }
   ],
   "source": [
    "' \\n\\t'.isspace( ) # 공백 문자열인가?"
   ]
  },
  {
   "cell_type": "code",
   "execution_count": 73,
   "metadata": {
    "collapsed": false,
    "deletable": true,
    "editable": true
   },
   "outputs": [
    {
     "data": {
      "text/plain": [
       "True"
      ]
     },
     "execution_count": 73,
     "metadata": {},
     "output_type": "execute_result"
    }
   ],
   "source": [
    "'def'.isidentifier( ) # 문자열이 예약어인가?"
   ]
  },
  {
   "cell_type": "code",
   "execution_count": 74,
   "metadata": {
    "collapsed": false,
    "deletable": true,
    "editable": true
   },
   "outputs": [
    {
     "data": {
      "text/plain": [
       "False"
      ]
     },
     "execution_count": 74,
     "metadata": {},
     "output_type": "execute_result"
    }
   ],
   "source": [
    "' \\n\\t'.isprintable( ) # 문자열이 인쇄 가능한 문자들의 모임인가?"
   ]
  },
  {
   "cell_type": "markdown",
   "metadata": {
    "deletable": true,
    "editable": true
   },
   "source": [
    "## 3.5 한글처리\n"
   ]
  },
  {
   "cell_type": "code",
   "execution_count": 75,
   "metadata": {
    "collapsed": false,
    "deletable": true,
    "editable": true
   },
   "outputs": [
    {
     "data": {
      "text/plain": [
       "'㎡, 한글'"
      ]
     },
     "execution_count": 75,
     "metadata": {},
     "output_type": "execute_result"
    }
   ],
   "source": [
    "# 유니코드 문자의 표현\n",
    "\n",
    "'\\u33a1, \\ud55c\\uae00'  # 평방제곱미터, 한글"
   ]
  },
  {
   "cell_type": "markdown",
   "metadata": {
    "deletable": true,
    "editable": true
   },
   "source": [
    "키보드로 입력 가능한 문자들은 그 자체로 유니코드로 표현된다."
   ]
  },
  {
   "cell_type": "code",
   "execution_count": 76,
   "metadata": {
    "collapsed": false,
    "deletable": true,
    "editable": true
   },
   "outputs": [
    {
     "data": {
      "text/plain": [
       "8"
      ]
     },
     "execution_count": 76,
     "metadata": {},
     "output_type": "execute_result"
    }
   ],
   "source": [
    "s = '한글과 세종대왕'\n",
    "len(s)"
   ]
  },
  {
   "cell_type": "markdown",
   "metadata": {
    "deletable": true,
    "editable": true
   },
   "source": [
    "인덱싱등의 연산도 문자 단위로 처리된다."
   ]
  },
  {
   "cell_type": "code",
   "execution_count": 77,
   "metadata": {
    "collapsed": false,
    "deletable": true,
    "editable": true
   },
   "outputs": [
    {
     "data": {
      "text/plain": [
       "'글'"
      ]
     },
     "execution_count": 77,
     "metadata": {},
     "output_type": "execute_result"
    }
   ],
   "source": [
    "s[1]"
   ]
  },
  {
   "cell_type": "code",
   "execution_count": 78,
   "metadata": {
    "collapsed": false,
    "deletable": true,
    "editable": true
   },
   "outputs": [
    {
     "data": {
      "text/plain": [
       "b'\\xc6\\xc4\\xc0\\xcc\\xbd\\xe3\\xb8\\xb8\\xbc\\xbc'"
      ]
     },
     "execution_count": 78,
     "metadata": {},
     "output_type": "execute_result"
    }
   ],
   "source": [
    "'파이썬만세'.encode('euc-kr')"
   ]
  },
  {
   "cell_type": "markdown",
   "metadata": {
    "deletable": true,
    "editable": true
   },
   "source": [
    "encode() 메서드의 출력 결과는 문자열(str)이 아니라 **바이트열(bytes)** 임에 주의해야 한다. 바이트 열은 b'..'와 같이 표현된다. 바이트열은 문자열과 아주 유사하지만 바이트(8비트) 단위로 값을 관리하는 자료형이다."
   ]
  },
  {
   "cell_type": "code",
   "execution_count": 79,
   "metadata": {
    "collapsed": false,
    "deletable": true,
    "editable": true
   },
   "outputs": [
    {
     "data": {
      "text/plain": [
       "(str, bytes)"
      ]
     },
     "execution_count": 79,
     "metadata": {},
     "output_type": "execute_result"
    }
   ],
   "source": [
    "type('abc'), type(b'abc')"
   ]
  },
  {
   "cell_type": "markdown",
   "metadata": {
    "deletable": true,
    "editable": true
   },
   "source": [
    "문자열은 멀티바이트를 하나의 문자로 해석하는 유니코드로만 표현하기 때문에 인코딩이 된 개개의 바이트는 bytes 자료형으로 전환된다. 즉, 바이트열은 0 ~ 255 사이의 코드 값의 열이며, 문자열은 여러 바이트를 하나의 문자로 해석하는 추상적인 문자의 열이다."
   ]
  },
  {
   "cell_type": "code",
   "execution_count": 80,
   "metadata": {
    "collapsed": false,
    "deletable": true,
    "editable": true
   },
   "outputs": [
    {
     "data": {
      "text/plain": [
       "b'\\xed\\x8c\\x8c\\xec\\x9d\\xb4\\xec\\x8d\\xac\\xeb\\xa7\\x8c\\xec\\x84\\xb8'"
      ]
     },
     "execution_count": 80,
     "metadata": {},
     "output_type": "execute_result"
    }
   ],
   "source": [
    "'파이썬만세'.encode('utf-8')"
   ]
  },
  {
   "cell_type": "code",
   "execution_count": 81,
   "metadata": {
    "collapsed": false,
    "deletable": true,
    "editable": true
   },
   "outputs": [
    {
     "data": {
      "text/plain": [
       "'파이썬만세'"
      ]
     },
     "execution_count": 81,
     "metadata": {},
     "output_type": "execute_result"
    }
   ],
   "source": [
    "b'\\xed\\x8c\\x8c\\xec\\x9d\\xb4\\xec\\x8d\\xac\\xeb\\xa7\\x8c\\xec\\x84\\xb8'.decode('utf-8')"
   ]
  },
  {
   "cell_type": "code",
   "execution_count": 82,
   "metadata": {
    "collapsed": false,
    "deletable": true,
    "editable": true
   },
   "outputs": [
    {
     "data": {
      "text/plain": [
       "'파이썬만세'"
      ]
     },
     "execution_count": 82,
     "metadata": {},
     "output_type": "execute_result"
    }
   ],
   "source": [
    "b'\\xc6\\xc4\\xc0\\xcc\\xbd\\xe3\\xb8\\xb8\\xbc\\xbc'.decode('euc-kr')"
   ]
  },
  {
   "cell_type": "markdown",
   "metadata": {
    "deletable": true,
    "editable": true
   },
   "source": [
    "## 3.6 파일 입출력\n",
    "\n",
    "### 3.6.1 text file\n"
   ]
  },
  {
   "cell_type": "code",
   "execution_count": 2,
   "metadata": {
    "collapsed": true,
    "deletable": true,
    "editable": true
   },
   "outputs": [],
   "source": [
    "f = open('data/alice.txt')\n",
    "txt_all = f.read()\n",
    "...\n",
    "f.close()"
   ]
  },
  {
   "cell_type": "code",
   "execution_count": 84,
   "metadata": {
    "collapsed": true,
    "deletable": true,
    "editable": true
   },
   "outputs": [],
   "source": [
    "f = open('alice.txt', 'r')\n",
    "txt_all = f.read()"
   ]
  },
  {
   "cell_type": "code",
   "execution_count": 85,
   "metadata": {
    "collapsed": true,
    "deletable": true,
    "editable": true
   },
   "outputs": [],
   "source": [
    "open('alice.txt', encoding='utf-8')"
   ]
  },
  {
   "cell_type": "code",
   "execution_count": 86,
   "metadata": {
    "collapsed": true,
    "deletable": true,
    "editable": true
   },
   "outputs": [],
   "source": [
    "f = open('noname.txt', 'w')\n",
    "f.write('...')\n",
    "f.close()"
   ]
  },
  {
   "cell_type": "markdown",
   "metadata": {
    "deletable": true,
    "editable": true
   },
   "source": [
    "### 3.6.2 with 문\n"
   ]
  },
  {
   "cell_type": "code",
   "execution_count": 3,
   "metadata": {
    "collapsed": false,
    "deletable": true,
    "editable": true
   },
   "outputs": [],
   "source": [
    "with open('data/alice.txt', encoding='utf-8-sig') as f:\n",
    "    txt = f.read()"
   ]
  },
  {
   "cell_type": "markdown",
   "metadata": {
    "deletable": true,
    "editable": true
   },
   "source": [
    "### 3.6.3 binary file\n"
   ]
  },
  {
   "cell_type": "code",
   "execution_count": 88,
   "metadata": {
    "collapsed": true,
    "deletable": true,
    "editable": true
   },
   "outputs": [],
   "source": [
    "f = open('img/string_index.png', 'rb')\n",
    "b = f.read()"
   ]
  },
  {
   "cell_type": "code",
   "execution_count": 89,
   "metadata": {
    "collapsed": false,
    "deletable": true,
    "editable": true
   },
   "outputs": [
    {
     "data": {
      "text/plain": [
       "b'\\x89PNG\\r\\n\\x1a\\n\\x00\\x00\\x00\\rIHDR\\x00\\x00\\x02`\\x00\\x00\\x01[\\x08\\x06\\x00\\x00\\x00r>2#\\x00\\x00\\x00\\x01sRGB\\x00\\xae\\xce\\x1c\\xe9\\x00\\x00\\x00\\x04gAMA\\x00\\x00\\xb1\\x8f\\x0b\\xfca\\x05\\x00\\x00\\x00\\tpHYs\\x00\\x00\\x12t\\x00\\x00\\x12t\\x01\\xdef\\x1fx\\x00\\x00\\x1c\\xf2IDATx^\\xed\\xddO\\x8bniw'"
      ]
     },
     "execution_count": 89,
     "metadata": {},
     "output_type": "execute_result"
    }
   ],
   "source": [
    "b[:100]"
   ]
  },
  {
   "cell_type": "markdown",
   "metadata": {
    "deletable": true,
    "editable": true
   },
   "source": [
    "## 3.7 문자열 통계\n",
    "\n",
    "소설 이상한 나라의 앨리스 (Alice’s Advanture in Wonderland)\n",
    " * 문자수\n",
    " * 단어수\n",
    " * 어휘\n",
    " * 빈도수 높은 어휘\n",
    " * 알파벳 빈도수\n",
    " * 불용어(stop words)\n",
    "  * http://www.ranks.nl/stopwords \n"
   ]
  },
  {
   "cell_type": "code",
   "execution_count": 10,
   "metadata": {
    "collapsed": false,
    "deletable": true,
    "editable": true
   },
   "outputs": [],
   "source": [
    "ta = open('data/alice.txt', encoding='utf-8-sig').read()"
   ]
  },
  {
   "cell_type": "code",
   "execution_count": 11,
   "metadata": {
    "collapsed": false,
    "deletable": true,
    "editable": true
   },
   "outputs": [
    {
     "data": {
      "text/plain": [
       "'Project Gutenberg’s Alice’s Adventures in Wonderland, by Lewis Carroll\\n\\nThis eBook is for the use of'"
      ]
     },
     "execution_count": 11,
     "metadata": {},
     "output_type": "execute_result"
    }
   ],
   "source": [
    "ta[:100]"
   ]
  },
  {
   "cell_type": "code",
   "execution_count": 12,
   "metadata": {
    "collapsed": false,
    "deletable": true,
    "editable": true
   },
   "outputs": [
    {
     "data": {
      "text/plain": [
       "163816"
      ]
     },
     "execution_count": 12,
     "metadata": {},
     "output_type": "execute_result"
    }
   ],
   "source": [
    "len(ta)"
   ]
  },
  {
   "cell_type": "code",
   "execution_count": 14,
   "metadata": {
    "collapsed": false,
    "deletable": true,
    "editable": true
   },
   "outputs": [
    {
     "data": {
      "text/plain": [
       "29465"
      ]
     },
     "execution_count": 14,
     "metadata": {},
     "output_type": "execute_result"
    }
   ],
   "source": [
    "len(ta.split()) #기호나 숫자, 공백 들도 포함됨."
   ]
  },
  {
   "cell_type": "code",
   "execution_count": 15,
   "metadata": {
    "collapsed": true,
    "deletable": true,
    "editable": true
   },
   "outputs": [],
   "source": [
    "import re"
   ]
  },
  {
   "cell_type": "code",
   "execution_count": 16,
   "metadata": {
    "collapsed": false,
    "deletable": true,
    "editable": true
   },
   "outputs": [
    {
     "data": {
      "text/plain": [
       "' b b b b b b b b'"
      ]
     },
     "execution_count": 16,
     "metadata": {},
     "output_type": "execute_result"
    }
   ],
   "source": [
    "re.sub('a', ' ', 'abababababababab')"
   ]
  },
  {
   "cell_type": "code",
   "execution_count": 19,
   "metadata": {
    "collapsed": false,
    "deletable": true,
    "editable": true
   },
   "outputs": [
    {
     "data": {
      "text/plain": [
       "'                c'"
      ]
     },
     "execution_count": 19,
     "metadata": {},
     "output_type": "execute_result"
    }
   ],
   "source": [
    "re.sub('[ab]', ' ', 'ababababababababc') #[ab] = a or b"
   ]
  },
  {
   "cell_type": "code",
   "execution_count": 21,
   "metadata": {
    "collapsed": false,
    "deletable": true,
    "editable": true
   },
   "outputs": [
    {
     "data": {
      "text/plain": [
       "'                 !!!'"
      ]
     },
     "execution_count": 21,
     "metadata": {},
     "output_type": "execute_result"
    }
   ],
   "source": [
    "re.sub('[a-z]', ' ', 'ababababababababc!!!')"
   ]
  },
  {
   "cell_type": "code",
   "execution_count": 22,
   "metadata": {
    "collapsed": false,
    "deletable": true,
    "editable": true
   },
   "outputs": [
    {
     "data": {
      "text/plain": [
       "'abababababababac   DFEb'"
      ]
     },
     "execution_count": 22,
     "metadata": {},
     "output_type": "execute_result"
    }
   ],
   "source": [
    "re.sub('[^a-zA-Z]', ' ', 'abababababababac!%@DFEb')"
   ]
  },
  {
   "cell_type": "code",
   "execution_count": 32,
   "metadata": {
    "collapsed": false,
    "deletable": true,
    "editable": true
   },
   "outputs": [],
   "source": [
    "text2 = re.sub('[^a-zA-Z]', ' ', ta)"
   ]
  },
  {
   "cell_type": "code",
   "execution_count": 34,
   "metadata": {
    "collapsed": false,
    "deletable": true,
    "editable": true
   },
   "outputs": [
    {
     "data": {
      "text/plain": [
       "3009"
      ]
     },
     "execution_count": 34,
     "metadata": {},
     "output_type": "execute_result"
    }
   ],
   "source": [
    "len(set(text2.casefold().split()))"
   ]
  },
  {
   "cell_type": "code",
   "execution_count": 35,
   "metadata": {
    "collapsed": true,
    "deletable": true,
    "editable": true
   },
   "outputs": [],
   "source": [
    "from collections import Counter"
   ]
  },
  {
   "cell_type": "code",
   "execution_count": null,
   "metadata": {
    "collapsed": true
   },
   "outputs": [],
   "source": [
    "words = text2.casefold().split()"
   ]
  },
  {
   "cell_type": "code",
   "execution_count": 71,
   "metadata": {
    "collapsed": false,
    "deletable": true,
    "editable": true
   },
   "outputs": [],
   "source": [
    "vocab = list(set(words))"
   ]
  },
  {
   "cell_type": "code",
   "execution_count": 40,
   "metadata": {
    "collapsed": false,
    "deletable": true,
    "editable": true
   },
   "outputs": [],
   "source": [
    "c=Counter(words)"
   ]
  },
  {
   "cell_type": "code",
   "execution_count": 42,
   "metadata": {
    "collapsed": false,
    "deletable": true,
    "editable": true
   },
   "outputs": [
    {
     "data": {
      "text/plain": [
       "[('the', 1818),\n",
       " ('and', 940),\n",
       " ('to', 809),\n",
       " ('a', 690),\n",
       " ('of', 631),\n",
       " ('it', 610),\n",
       " ('she', 553),\n",
       " ('i', 545),\n",
       " ('you', 481),\n",
       " ('said', 462),\n",
       " ('in', 431),\n",
       " ('alice', 403),\n",
       " ('was', 358),\n",
       " ('that', 330),\n",
       " ('as', 274),\n",
       " ('her', 248),\n",
       " ('with', 228),\n",
       " ('at', 227),\n",
       " ('s', 219),\n",
       " ('t', 218)]"
      ]
     },
     "execution_count": 42,
     "metadata": {},
     "output_type": "execute_result"
    }
   ],
   "source": [
    "c.most_common(20)"
   ]
  },
  {
   "cell_type": "code",
   "execution_count": 51,
   "metadata": {
    "collapsed": false,
    "deletable": true,
    "editable": true
   },
   "outputs": [
    {
     "data": {
      "text/plain": [
       "[(' ', 40805),\n",
       " ('e', 15396),\n",
       " ('t', 12204),\n",
       " ('a', 9804),\n",
       " ('o', 9480),\n",
       " ('i', 8634),\n",
       " ('n', 8053),\n",
       " ('h', 7890),\n",
       " ('s', 7269),\n",
       " ('r', 6612),\n",
       " ('d', 5469),\n",
       " ('l', 5211),\n",
       " ('u', 3979),\n",
       " ('c', 3003),\n",
       " ('w', 2952),\n",
       " ('g', 2944),\n",
       " ('y', 2584),\n",
       " ('m', 2466),\n",
       " ('f', 2383),\n",
       " ('p', 1968)]"
      ]
     },
     "execution_count": 51,
     "metadata": {},
     "output_type": "execute_result"
    }
   ],
   "source": [
    "Counter(text2.casefold()).most_common(20)"
   ]
  },
  {
   "cell_type": "code",
   "execution_count": 45,
   "metadata": {
    "collapsed": false,
    "deletable": true,
    "editable": true
   },
   "outputs": [
    {
     "data": {
      "text/plain": [
       "['Project',\n",
       " 'Gutenberg’s',\n",
       " 'Alice’s',\n",
       " 'Adventures',\n",
       " 'in',\n",
       " 'Wonderland,',\n",
       " 'by',\n",
       " 'Lewis',\n",
       " 'Carroll',\n",
       " 'This',\n",
       " 'eBook',\n",
       " 'is',\n",
       " 'for',\n",
       " 'the',\n",
       " 'use',\n",
       " 'of',\n",
       " 'anyone',\n",
       " 'anywhere',\n",
       " 'at',\n",
       " 'no',\n",
       " 'cost',\n",
       " 'and',\n",
       " 'with',\n",
       " 'almost',\n",
       " 'no',\n",
       " 'restrictions',\n",
       " 'whatsoever.',\n",
       " 'You',\n",
       " 'may',\n",
       " 'copy',\n",
       " 'it,',\n",
       " 'give',\n",
       " 'it',\n",
       " 'away',\n",
       " 'or',\n",
       " 're-use',\n",
       " 'it',\n",
       " 'under',\n",
       " 'the',\n",
       " 'terms',\n",
       " 'of',\n",
       " 'the',\n",
       " 'Project',\n",
       " 'Gutenberg',\n",
       " 'License',\n",
       " 'included',\n",
       " 'with',\n",
       " 'this',\n",
       " 'eBook',\n",
       " 'or',\n",
       " 'online',\n",
       " 'at',\n",
       " 'www.gutenberg.org',\n",
       " 'Title:',\n",
       " 'Alice’s',\n",
       " 'Adventures',\n",
       " 'in',\n",
       " 'Wonderland',\n",
       " 'Author:',\n",
       " 'Lewis',\n",
       " 'Carroll',\n",
       " 'Posting',\n",
       " 'Date:',\n",
       " 'June',\n",
       " '25,',\n",
       " '2008',\n",
       " '[EBook',\n",
       " '#11]',\n",
       " 'Release',\n",
       " 'Date:',\n",
       " 'March,',\n",
       " '1994',\n",
       " 'Last',\n",
       " 'Updated:',\n",
       " 'October',\n",
       " '6,',\n",
       " '2016',\n",
       " 'Language:',\n",
       " 'English',\n",
       " 'Character',\n",
       " 'set',\n",
       " 'encoding:',\n",
       " 'UTF-8',\n",
       " '***',\n",
       " 'START',\n",
       " 'OF',\n",
       " 'THIS',\n",
       " 'PROJECT',\n",
       " 'GUTENBERG',\n",
       " 'EBOOK',\n",
       " 'ALICE’S',\n",
       " 'ADVENTURES',\n",
       " 'IN',\n",
       " 'WONDERLAND',\n",
       " '***',\n",
       " 'ALICE’S',\n",
       " 'ADVENTURES',\n",
       " 'IN',\n",
       " 'WONDERLAND',\n",
       " 'Lewis',\n",
       " 'Carroll',\n",
       " 'THE',\n",
       " 'MILLENNIUM',\n",
       " 'FULCRUM',\n",
       " 'EDITION',\n",
       " '3.0',\n",
       " 'CHAPTER',\n",
       " 'I.',\n",
       " 'Down',\n",
       " 'the',\n",
       " 'Rabbit-Hole',\n",
       " 'Alice',\n",
       " 'was',\n",
       " 'beginning',\n",
       " 'to',\n",
       " 'get',\n",
       " 'very',\n",
       " 'tired',\n",
       " 'of',\n",
       " 'sitting',\n",
       " 'by',\n",
       " 'her',\n",
       " 'sister',\n",
       " 'on',\n",
       " 'the',\n",
       " 'bank,',\n",
       " 'and',\n",
       " 'of',\n",
       " 'having',\n",
       " 'nothing',\n",
       " 'to',\n",
       " 'do:',\n",
       " 'once',\n",
       " 'or',\n",
       " 'twice',\n",
       " 'she',\n",
       " 'had',\n",
       " 'peeped',\n",
       " 'into',\n",
       " 'the',\n",
       " 'book',\n",
       " 'her',\n",
       " 'sister',\n",
       " 'was',\n",
       " 'reading,',\n",
       " 'but',\n",
       " 'it',\n",
       " 'had',\n",
       " 'no',\n",
       " 'pictures',\n",
       " 'or',\n",
       " 'conversations',\n",
       " 'in',\n",
       " 'it,',\n",
       " '‘and',\n",
       " 'what',\n",
       " 'is',\n",
       " 'the',\n",
       " 'use',\n",
       " 'of',\n",
       " 'a',\n",
       " 'book,’',\n",
       " 'thought',\n",
       " 'Alice',\n",
       " '‘without',\n",
       " 'pictures',\n",
       " 'or',\n",
       " 'conversations?’',\n",
       " 'So',\n",
       " 'she',\n",
       " 'was',\n",
       " 'considering',\n",
       " 'in',\n",
       " 'her',\n",
       " 'own',\n",
       " 'mind',\n",
       " '(as',\n",
       " 'well',\n",
       " 'as',\n",
       " 'she',\n",
       " 'could,',\n",
       " 'for',\n",
       " 'the',\n",
       " 'hot',\n",
       " 'day',\n",
       " 'made',\n",
       " 'her',\n",
       " 'feel',\n",
       " 'very',\n",
       " 'sleepy',\n",
       " 'and',\n",
       " 'stupid),',\n",
       " 'whether',\n",
       " 'the',\n",
       " 'pleasure',\n",
       " 'of',\n",
       " 'making',\n",
       " 'a',\n",
       " 'daisy-chain',\n",
       " 'would',\n",
       " 'be',\n",
       " 'worth',\n",
       " 'the',\n",
       " 'trouble',\n",
       " 'of',\n",
       " 'getting',\n",
       " 'up',\n",
       " 'and',\n",
       " 'picking',\n",
       " 'the',\n",
       " 'daisies,',\n",
       " 'when',\n",
       " 'suddenly',\n",
       " 'a',\n",
       " 'White',\n",
       " 'Rabbit',\n",
       " 'with',\n",
       " 'pink',\n",
       " 'eyes',\n",
       " 'ran',\n",
       " 'close',\n",
       " 'by',\n",
       " 'her.',\n",
       " 'There',\n",
       " 'was',\n",
       " 'nothing',\n",
       " 'so',\n",
       " 'VERY',\n",
       " 'remarkable',\n",
       " 'in',\n",
       " 'that;',\n",
       " 'nor',\n",
       " 'did',\n",
       " 'Alice',\n",
       " 'think',\n",
       " 'it',\n",
       " 'so',\n",
       " 'VERY',\n",
       " 'much',\n",
       " 'out',\n",
       " 'of',\n",
       " 'the',\n",
       " 'way',\n",
       " 'to',\n",
       " 'hear',\n",
       " 'the',\n",
       " 'Rabbit',\n",
       " 'say',\n",
       " 'to',\n",
       " 'itself,',\n",
       " '‘Oh',\n",
       " 'dear!',\n",
       " 'Oh',\n",
       " 'dear!',\n",
       " 'I',\n",
       " 'shall',\n",
       " 'be',\n",
       " 'late!’',\n",
       " '(when',\n",
       " 'she',\n",
       " 'thought',\n",
       " 'it',\n",
       " 'over',\n",
       " 'afterwards,',\n",
       " 'it',\n",
       " 'occurred',\n",
       " 'to',\n",
       " 'her',\n",
       " 'that',\n",
       " 'she',\n",
       " 'ought',\n",
       " 'to',\n",
       " 'have',\n",
       " 'wondered',\n",
       " 'at',\n",
       " 'this,',\n",
       " 'but',\n",
       " 'at',\n",
       " 'the',\n",
       " 'time',\n",
       " 'it',\n",
       " 'all',\n",
       " 'seemed',\n",
       " 'quite',\n",
       " 'natural);',\n",
       " 'but',\n",
       " 'when',\n",
       " 'the',\n",
       " 'Rabbit',\n",
       " 'actually',\n",
       " 'TOOK',\n",
       " 'A',\n",
       " 'WATCH',\n",
       " 'OUT',\n",
       " 'OF',\n",
       " 'ITS',\n",
       " 'WAISTCOAT-POCKET,',\n",
       " 'and',\n",
       " 'looked',\n",
       " 'at',\n",
       " 'it,',\n",
       " 'and',\n",
       " 'then',\n",
       " 'hurried',\n",
       " 'on,',\n",
       " 'Alice',\n",
       " 'started',\n",
       " 'to',\n",
       " 'her',\n",
       " 'feet,',\n",
       " 'for',\n",
       " 'it',\n",
       " 'flashed',\n",
       " 'across',\n",
       " 'her',\n",
       " 'mind',\n",
       " 'that',\n",
       " 'she',\n",
       " 'had',\n",
       " 'never',\n",
       " 'before',\n",
       " 'seen',\n",
       " 'a',\n",
       " 'rabbit',\n",
       " 'with',\n",
       " 'either',\n",
       " 'a',\n",
       " 'waistcoat-pocket,',\n",
       " 'or',\n",
       " 'a',\n",
       " 'watch',\n",
       " 'to',\n",
       " 'take',\n",
       " 'out',\n",
       " 'of',\n",
       " 'it,',\n",
       " 'and',\n",
       " 'burning',\n",
       " 'with',\n",
       " 'curiosity,',\n",
       " 'she',\n",
       " 'ran',\n",
       " 'across',\n",
       " 'the',\n",
       " 'field',\n",
       " 'after',\n",
       " 'it,',\n",
       " 'and',\n",
       " 'fortunately',\n",
       " 'was',\n",
       " 'just',\n",
       " 'in',\n",
       " 'time',\n",
       " 'to',\n",
       " 'see',\n",
       " 'it',\n",
       " 'pop',\n",
       " 'down',\n",
       " 'a',\n",
       " 'large',\n",
       " 'rabbit-hole',\n",
       " 'under',\n",
       " 'the',\n",
       " 'hedge.',\n",
       " 'In',\n",
       " 'another',\n",
       " 'moment',\n",
       " 'down',\n",
       " 'went',\n",
       " 'Alice',\n",
       " 'after',\n",
       " 'it,',\n",
       " 'never',\n",
       " 'once',\n",
       " 'considering',\n",
       " 'how',\n",
       " 'in',\n",
       " 'the',\n",
       " 'world',\n",
       " 'she',\n",
       " 'was',\n",
       " 'to',\n",
       " 'get',\n",
       " 'out',\n",
       " 'again.',\n",
       " 'The',\n",
       " 'rabbit-hole',\n",
       " 'went',\n",
       " 'straight',\n",
       " 'on',\n",
       " 'like',\n",
       " 'a',\n",
       " 'tunnel',\n",
       " 'for',\n",
       " 'some',\n",
       " 'way,',\n",
       " 'and',\n",
       " 'then',\n",
       " 'dipped',\n",
       " 'suddenly',\n",
       " 'down,',\n",
       " 'so',\n",
       " 'suddenly',\n",
       " 'that',\n",
       " 'Alice',\n",
       " 'had',\n",
       " 'not',\n",
       " 'a',\n",
       " 'moment',\n",
       " 'to',\n",
       " 'think',\n",
       " 'about',\n",
       " 'stopping',\n",
       " 'herself',\n",
       " 'before',\n",
       " 'she',\n",
       " 'found',\n",
       " 'herself',\n",
       " 'falling',\n",
       " 'down',\n",
       " 'a',\n",
       " 'very',\n",
       " 'deep',\n",
       " 'well.',\n",
       " 'Either',\n",
       " 'the',\n",
       " 'well',\n",
       " 'was',\n",
       " 'very',\n",
       " 'deep,',\n",
       " 'or',\n",
       " 'she',\n",
       " 'fell',\n",
       " 'very',\n",
       " 'slowly,',\n",
       " 'for',\n",
       " 'she',\n",
       " 'had',\n",
       " 'plenty',\n",
       " 'of',\n",
       " 'time',\n",
       " 'as',\n",
       " 'she',\n",
       " 'went',\n",
       " 'down',\n",
       " 'to',\n",
       " 'look',\n",
       " 'about',\n",
       " 'her',\n",
       " 'and',\n",
       " 'to',\n",
       " 'wonder',\n",
       " 'what',\n",
       " 'was',\n",
       " 'going',\n",
       " 'to',\n",
       " 'happen',\n",
       " 'next.',\n",
       " 'First,',\n",
       " 'she',\n",
       " 'tried',\n",
       " 'to',\n",
       " 'look',\n",
       " 'down',\n",
       " 'and',\n",
       " 'make',\n",
       " 'out',\n",
       " 'what',\n",
       " 'she',\n",
       " 'was',\n",
       " 'coming',\n",
       " 'to,',\n",
       " 'but',\n",
       " 'it',\n",
       " 'was',\n",
       " 'too',\n",
       " 'dark',\n",
       " 'to',\n",
       " 'see',\n",
       " 'anything;',\n",
       " 'then',\n",
       " 'she',\n",
       " 'looked',\n",
       " 'at',\n",
       " 'the',\n",
       " 'sides',\n",
       " 'of',\n",
       " 'the',\n",
       " 'well,',\n",
       " 'and',\n",
       " 'noticed',\n",
       " 'that',\n",
       " 'they',\n",
       " 'were',\n",
       " 'filled',\n",
       " 'with',\n",
       " 'cupboards',\n",
       " 'and',\n",
       " 'book-shelves;',\n",
       " 'here',\n",
       " 'and',\n",
       " 'there',\n",
       " 'she',\n",
       " 'saw',\n",
       " 'maps',\n",
       " 'and',\n",
       " 'pictures',\n",
       " 'hung',\n",
       " 'upon',\n",
       " 'pegs.',\n",
       " 'She',\n",
       " 'took',\n",
       " 'down',\n",
       " 'a',\n",
       " 'jar',\n",
       " 'from',\n",
       " 'one',\n",
       " 'of',\n",
       " 'the',\n",
       " 'shelves',\n",
       " 'as',\n",
       " 'she',\n",
       " 'passed;',\n",
       " 'it',\n",
       " 'was',\n",
       " 'labelled',\n",
       " '‘ORANGE',\n",
       " 'MARMALADE’,',\n",
       " 'but',\n",
       " 'to',\n",
       " 'her',\n",
       " 'great',\n",
       " 'disappointment',\n",
       " 'it',\n",
       " 'was',\n",
       " 'empty:',\n",
       " 'she',\n",
       " 'did',\n",
       " 'not',\n",
       " 'like',\n",
       " 'to',\n",
       " 'drop',\n",
       " 'the',\n",
       " 'jar',\n",
       " 'for',\n",
       " 'fear',\n",
       " 'of',\n",
       " 'killing',\n",
       " 'somebody,',\n",
       " 'so',\n",
       " 'managed',\n",
       " 'to',\n",
       " 'put',\n",
       " 'it',\n",
       " 'into',\n",
       " 'one',\n",
       " 'of',\n",
       " 'the',\n",
       " 'cupboards',\n",
       " 'as',\n",
       " 'she',\n",
       " 'fell',\n",
       " 'past',\n",
       " 'it.',\n",
       " '‘Well!’',\n",
       " 'thought',\n",
       " 'Alice',\n",
       " 'to',\n",
       " 'herself,',\n",
       " '‘after',\n",
       " 'such',\n",
       " 'a',\n",
       " 'fall',\n",
       " 'as',\n",
       " 'this,',\n",
       " 'I',\n",
       " 'shall',\n",
       " 'think',\n",
       " 'nothing',\n",
       " 'of',\n",
       " 'tumbling',\n",
       " 'down',\n",
       " 'stairs!',\n",
       " 'How',\n",
       " 'brave',\n",
       " 'they’ll',\n",
       " 'all',\n",
       " 'think',\n",
       " 'me',\n",
       " 'at',\n",
       " 'home!',\n",
       " 'Why,',\n",
       " 'I',\n",
       " 'wouldn’t',\n",
       " 'say',\n",
       " 'anything',\n",
       " 'about',\n",
       " 'it,',\n",
       " 'even',\n",
       " 'if',\n",
       " 'I',\n",
       " 'fell',\n",
       " 'off',\n",
       " 'the',\n",
       " 'top',\n",
       " 'of',\n",
       " 'the',\n",
       " 'house!’',\n",
       " '(Which',\n",
       " 'was',\n",
       " 'very',\n",
       " 'likely',\n",
       " 'true.)',\n",
       " 'Down,',\n",
       " 'down,',\n",
       " 'down.',\n",
       " 'Would',\n",
       " 'the',\n",
       " 'fall',\n",
       " 'NEVER',\n",
       " 'come',\n",
       " 'to',\n",
       " 'an',\n",
       " 'end!',\n",
       " '‘I',\n",
       " 'wonder',\n",
       " 'how',\n",
       " 'many',\n",
       " 'miles',\n",
       " 'I’ve',\n",
       " 'fallen',\n",
       " 'by',\n",
       " 'this',\n",
       " 'time?’',\n",
       " 'she',\n",
       " 'said',\n",
       " 'aloud.',\n",
       " '‘I',\n",
       " 'must',\n",
       " 'be',\n",
       " 'getting',\n",
       " 'somewhere',\n",
       " 'near',\n",
       " 'the',\n",
       " 'centre',\n",
       " 'of',\n",
       " 'the',\n",
       " 'earth.',\n",
       " 'Let',\n",
       " 'me',\n",
       " 'see:',\n",
       " 'that',\n",
       " 'would',\n",
       " 'be',\n",
       " 'four',\n",
       " 'thousand',\n",
       " 'miles',\n",
       " 'down,',\n",
       " 'I',\n",
       " 'think--’',\n",
       " '(for,',\n",
       " 'you',\n",
       " 'see,',\n",
       " 'Alice',\n",
       " 'had',\n",
       " 'learnt',\n",
       " 'several',\n",
       " 'things',\n",
       " 'of',\n",
       " 'this',\n",
       " 'sort',\n",
       " 'in',\n",
       " 'her',\n",
       " 'lessons',\n",
       " 'in',\n",
       " 'the',\n",
       " 'schoolroom,',\n",
       " 'and',\n",
       " 'though',\n",
       " 'this',\n",
       " 'was',\n",
       " 'not',\n",
       " 'a',\n",
       " 'VERY',\n",
       " 'good',\n",
       " 'opportunity',\n",
       " 'for',\n",
       " 'showing',\n",
       " 'off',\n",
       " 'her',\n",
       " 'knowledge,',\n",
       " 'as',\n",
       " 'there',\n",
       " 'was',\n",
       " 'no',\n",
       " 'one',\n",
       " 'to',\n",
       " 'listen',\n",
       " 'to',\n",
       " 'her,',\n",
       " 'still',\n",
       " 'it',\n",
       " 'was',\n",
       " 'good',\n",
       " 'practice',\n",
       " 'to',\n",
       " 'say',\n",
       " 'it',\n",
       " 'over)',\n",
       " '‘--yes,',\n",
       " 'that’s',\n",
       " 'about',\n",
       " 'the',\n",
       " 'right',\n",
       " 'distance--but',\n",
       " 'then',\n",
       " 'I',\n",
       " 'wonder',\n",
       " 'what',\n",
       " 'Latitude',\n",
       " 'or',\n",
       " 'Longitude',\n",
       " 'I’ve',\n",
       " 'got',\n",
       " 'to?’',\n",
       " '(Alice',\n",
       " 'had',\n",
       " 'no',\n",
       " 'idea',\n",
       " 'what',\n",
       " 'Latitude',\n",
       " 'was,',\n",
       " 'or',\n",
       " 'Longitude',\n",
       " 'either,',\n",
       " 'but',\n",
       " 'thought',\n",
       " 'they',\n",
       " 'were',\n",
       " 'nice',\n",
       " 'grand',\n",
       " 'words',\n",
       " 'to',\n",
       " 'say.)',\n",
       " 'Presently',\n",
       " 'she',\n",
       " 'began',\n",
       " 'again.',\n",
       " '‘I',\n",
       " 'wonder',\n",
       " 'if',\n",
       " 'I',\n",
       " 'shall',\n",
       " 'fall',\n",
       " 'right',\n",
       " 'THROUGH',\n",
       " 'the',\n",
       " 'earth!',\n",
       " 'How',\n",
       " 'funny',\n",
       " 'it’ll',\n",
       " 'seem',\n",
       " 'to',\n",
       " 'come',\n",
       " 'out',\n",
       " 'among',\n",
       " 'the',\n",
       " 'people',\n",
       " 'that',\n",
       " 'walk',\n",
       " 'with',\n",
       " 'their',\n",
       " 'heads',\n",
       " 'downward!',\n",
       " 'The',\n",
       " 'Antipathies,',\n",
       " 'I',\n",
       " 'think--’',\n",
       " '(she',\n",
       " 'was',\n",
       " 'rather',\n",
       " 'glad',\n",
       " 'there',\n",
       " 'WAS',\n",
       " 'no',\n",
       " 'one',\n",
       " 'listening,',\n",
       " 'this',\n",
       " 'time,',\n",
       " 'as',\n",
       " 'it',\n",
       " 'didn’t',\n",
       " 'sound',\n",
       " 'at',\n",
       " 'all',\n",
       " 'the',\n",
       " 'right',\n",
       " 'word)',\n",
       " '‘--but',\n",
       " 'I',\n",
       " 'shall',\n",
       " 'have',\n",
       " 'to',\n",
       " 'ask',\n",
       " 'them',\n",
       " 'what',\n",
       " 'the',\n",
       " 'name',\n",
       " 'of',\n",
       " 'the',\n",
       " 'country',\n",
       " 'is,',\n",
       " 'you',\n",
       " 'know.',\n",
       " 'Please,',\n",
       " 'Ma’am,',\n",
       " 'is',\n",
       " 'this',\n",
       " 'New',\n",
       " 'Zealand',\n",
       " 'or',\n",
       " 'Australia?’',\n",
       " '(and',\n",
       " 'she',\n",
       " 'tried',\n",
       " 'to',\n",
       " 'curtsey',\n",
       " 'as',\n",
       " 'she',\n",
       " 'spoke--fancy',\n",
       " 'CURTSEYING',\n",
       " 'as',\n",
       " 'you’re',\n",
       " 'falling',\n",
       " 'through',\n",
       " 'the',\n",
       " 'air!',\n",
       " 'Do',\n",
       " 'you',\n",
       " 'think',\n",
       " 'you',\n",
       " 'could',\n",
       " 'manage',\n",
       " 'it?)',\n",
       " '‘And',\n",
       " 'what',\n",
       " 'an',\n",
       " 'ignorant',\n",
       " 'little',\n",
       " 'girl',\n",
       " 'she’ll',\n",
       " 'think',\n",
       " 'me',\n",
       " 'for',\n",
       " 'asking!',\n",
       " 'No,',\n",
       " 'it’ll',\n",
       " 'never',\n",
       " 'do',\n",
       " 'to',\n",
       " 'ask:',\n",
       " 'perhaps',\n",
       " 'I',\n",
       " 'shall',\n",
       " 'see',\n",
       " 'it',\n",
       " 'written',\n",
       " 'up',\n",
       " 'somewhere.’',\n",
       " 'Down,',\n",
       " 'down,',\n",
       " 'down.',\n",
       " 'There',\n",
       " 'was',\n",
       " 'nothing',\n",
       " 'else',\n",
       " 'to',\n",
       " 'do,',\n",
       " 'so',\n",
       " 'Alice',\n",
       " 'soon',\n",
       " 'began',\n",
       " 'talking',\n",
       " 'again.',\n",
       " '‘Dinah’ll',\n",
       " 'miss',\n",
       " 'me',\n",
       " 'very',\n",
       " 'much',\n",
       " 'to-night,',\n",
       " 'I',\n",
       " 'should',\n",
       " 'think!’',\n",
       " '(Dinah',\n",
       " 'was',\n",
       " 'the',\n",
       " 'cat.)',\n",
       " '‘I',\n",
       " 'hope',\n",
       " 'they’ll',\n",
       " 'remember',\n",
       " 'her',\n",
       " 'saucer',\n",
       " 'of',\n",
       " 'milk',\n",
       " 'at',\n",
       " 'tea-time.',\n",
       " 'Dinah',\n",
       " 'my',\n",
       " 'dear!',\n",
       " 'I',\n",
       " 'wish',\n",
       " 'you',\n",
       " 'were',\n",
       " 'down',\n",
       " 'here',\n",
       " 'with',\n",
       " 'me!',\n",
       " 'There',\n",
       " 'are',\n",
       " 'no',\n",
       " 'mice',\n",
       " 'in',\n",
       " 'the',\n",
       " 'air,',\n",
       " 'I’m',\n",
       " 'afraid,',\n",
       " 'but',\n",
       " 'you',\n",
       " 'might',\n",
       " 'catch',\n",
       " 'a',\n",
       " 'bat,',\n",
       " 'and',\n",
       " 'that’s',\n",
       " 'very',\n",
       " 'like',\n",
       " 'a',\n",
       " 'mouse,',\n",
       " 'you',\n",
       " 'know.',\n",
       " 'But',\n",
       " 'do',\n",
       " 'cats',\n",
       " 'eat',\n",
       " 'bats,',\n",
       " 'I',\n",
       " 'wonder?’',\n",
       " 'And',\n",
       " 'here',\n",
       " 'Alice',\n",
       " 'began',\n",
       " 'to',\n",
       " 'get',\n",
       " 'rather',\n",
       " 'sleepy,',\n",
       " 'and',\n",
       " 'went',\n",
       " 'on',\n",
       " 'saying',\n",
       " 'to',\n",
       " 'herself,',\n",
       " 'in',\n",
       " 'a',\n",
       " 'dreamy',\n",
       " 'sort',\n",
       " 'of',\n",
       " 'way,',\n",
       " '‘Do',\n",
       " 'cats',\n",
       " 'eat',\n",
       " 'bats?',\n",
       " 'Do',\n",
       " 'cats',\n",
       " 'eat',\n",
       " 'bats?’',\n",
       " 'and',\n",
       " 'sometimes,',\n",
       " '‘Do',\n",
       " 'bats',\n",
       " 'eat',\n",
       " 'cats?’',\n",
       " 'for,',\n",
       " 'you',\n",
       " 'see,',\n",
       " 'as',\n",
       " 'she',\n",
       " 'couldn’t',\n",
       " 'answer',\n",
       " 'either',\n",
       " 'question,',\n",
       " 'it',\n",
       " 'didn’t',\n",
       " 'much',\n",
       " 'matter',\n",
       " 'which',\n",
       " 'way',\n",
       " 'she',\n",
       " 'put',\n",
       " 'it.',\n",
       " ...]"
      ]
     },
     "execution_count": 45,
     "metadata": {},
     "output_type": "execute_result"
    }
   ],
   "source": []
  },
  {
   "cell_type": "code",
   "execution_count": 52,
   "metadata": {
    "collapsed": true,
    "deletable": true,
    "editable": true
   },
   "outputs": [],
   "source": [
    "s = 'abcd'"
   ]
  },
  {
   "cell_type": "code",
   "execution_count": 53,
   "metadata": {
    "collapsed": false,
    "deletable": true,
    "editable": true
   },
   "outputs": [
    {
     "data": {
      "text/plain": [
       "'ab'"
      ]
     },
     "execution_count": 53,
     "metadata": {},
     "output_type": "execute_result"
    }
   ],
   "source": [
    "s[0:2]"
   ]
  },
  {
   "cell_type": "code",
   "execution_count": 54,
   "metadata": {
    "collapsed": false,
    "deletable": true,
    "editable": true
   },
   "outputs": [
    {
     "data": {
      "text/plain": [
       "'bc'"
      ]
     },
     "execution_count": 54,
     "metadata": {},
     "output_type": "execute_result"
    }
   ],
   "source": [
    "s[1:3]"
   ]
  },
  {
   "cell_type": "code",
   "execution_count": 55,
   "metadata": {
    "collapsed": false,
    "deletable": true,
    "editable": true
   },
   "outputs": [
    {
     "data": {
      "text/plain": [
       "[('a', 'b'), ('b', 'c'), ('c', 'd')]"
      ]
     },
     "execution_count": 55,
     "metadata": {},
     "output_type": "execute_result"
    }
   ],
   "source": [
    "list(zip(s[:-1], s[1:]))"
   ]
  },
  {
   "cell_type": "code",
   "execution_count": 59,
   "metadata": {
    "collapsed": false,
    "deletable": true,
    "editable": true
   },
   "outputs": [],
   "source": [
    "def bigram_str(s):\n",
    "\n",
    "    L = []\n",
    "    for pair in zip(s[:-1], s[1:]):\n",
    "        L.append(''.join(pair))\n",
    "    return L"
   ]
  },
  {
   "cell_type": "code",
   "execution_count": 60,
   "metadata": {
    "collapsed": false,
    "deletable": true,
    "editable": true
   },
   "outputs": [
    {
     "data": {
      "text/plain": [
       "['ab', 'bc']"
      ]
     },
     "execution_count": 60,
     "metadata": {},
     "output_type": "execute_result"
    }
   ],
   "source": [
    "bigram_str('abc')"
   ]
  },
  {
   "cell_type": "code",
   "execution_count": 63,
   "metadata": {
    "collapsed": false,
    "deletable": true,
    "editable": true
   },
   "outputs": [],
   "source": [
    "seq = []\n",
    "for w in text2.casefold().split():\n",
    "    L = bigram_str(w)\n",
    "    seq.extend(L)"
   ]
  },
  {
   "cell_type": "code",
   "execution_count": 64,
   "metadata": {
    "collapsed": false,
    "deletable": true,
    "editable": true
   },
   "outputs": [
    {
     "data": {
      "text/plain": [
       "92588"
      ]
     },
     "execution_count": 64,
     "metadata": {},
     "output_type": "execute_result"
    }
   ],
   "source": [
    "len(seq)"
   ]
  },
  {
   "cell_type": "code",
   "execution_count": 65,
   "metadata": {
    "collapsed": true,
    "deletable": true,
    "editable": true
   },
   "outputs": [],
   "source": [
    "h='가나다'"
   ]
  },
  {
   "cell_type": "code",
   "execution_count": 69,
   "metadata": {
    "collapsed": false,
    "deletable": true,
    "editable": true
   },
   "outputs": [
    {
     "data": {
      "text/plain": [
       "Counter({'가': 1, '나': 1, '다': 1})"
      ]
     },
     "execution_count": 69,
     "metadata": {},
     "output_type": "execute_result"
    }
   ],
   "source": []
  },
  {
   "cell_type": "code",
   "execution_count": null,
   "metadata": {
    "collapsed": true,
    "deletable": true,
    "editable": true
   },
   "outputs": [],
   "source": []
  },
  {
   "cell_type": "code",
   "execution_count": 72,
   "metadata": {
    "collapsed": false,
    "deletable": true,
    "editable": true
   },
   "outputs": [
    {
     "data": {
      "text/plain": [
       "['ate', 'are', 'age']"
      ]
     },
     "execution_count": 72,
     "metadata": {},
     "output_type": "execute_result"
    }
   ],
   "source": [
    "[w for w in vocab if re.match('a.e$', w)]"
   ]
  },
  {
   "cell_type": "code",
   "execution_count": null,
   "metadata": {
    "collapsed": true
   },
   "outputs": [],
   "source": []
  }
 ],
 "metadata": {
  "kernelspec": {
   "display_name": "Python 3",
   "language": "python",
   "name": "python3"
  },
  "language_info": {
   "codemirror_mode": {
    "name": "ipython",
    "version": 3
   },
   "file_extension": ".py",
   "mimetype": "text/x-python",
   "name": "python",
   "nbconvert_exporter": "python",
   "pygments_lexer": "ipython3",
   "version": "3.5.2"
  }
 },
 "nbformat": 4,
 "nbformat_minor": 0
}
