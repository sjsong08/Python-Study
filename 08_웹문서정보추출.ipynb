{
 "cells": [
  {
   "cell_type": "markdown",
   "metadata": {
    "deletable": true,
    "editable": true
   },
   "source": [
    "# 8 사전의 활용\n",
    "\n",
    "`BeautifulSoup` 모듈을 이용한 HTML 문서에서의 정보 추출"
   ]
  },
  {
   "cell_type": "code",
   "execution_count": 1,
   "metadata": {
    "collapsed": true,
    "deletable": true,
    "editable": true
   },
   "outputs": [],
   "source": [
    "from bs4 import BeautifulSoup"
   ]
  },
  {
   "cell_type": "code",
   "execution_count": 2,
   "metadata": {
    "collapsed": false,
    "deletable": true,
    "editable": true
   },
   "outputs": [],
   "source": [
    "import requests\n",
    "\n",
    "url = 'http://www.alba.co.kr/job/Detail.asp?adid=76635854&productcd=84'\n",
    "r = requests.get(url)\n",
    "html = r.text"
   ]
  },
  {
   "cell_type": "code",
   "execution_count": 3,
   "metadata": {
    "collapsed": false,
    "deletable": true,
    "editable": true
   },
   "outputs": [],
   "source": [
    "soup = BeautifulSoup(html, 'lxml')"
   ]
  },
  {
   "cell_type": "markdown",
   "metadata": {
    "deletable": true,
    "editable": true
   },
   "source": [
    "## 8.1 `select()` 를 이용한 검색\n"
   ]
  },
  {
   "cell_type": "markdown",
   "metadata": {
    "deletable": true,
    "editable": true
   },
   "source": [
    "`id`가 `link1`인 태그를 추출한다."
   ]
  },
  {
   "cell_type": "code",
   "execution_count": 4,
   "metadata": {
    "collapsed": false,
    "deletable": true,
    "editable": true
   },
   "outputs": [
    {
     "data": {
      "text/plain": [
       "[<input id=\"gourl\" type=\"hidden\" value=\"http://www.alba.co.kr/job/detail.asp?adid=76635854&amp;productcd=84\"/>]"
      ]
     },
     "execution_count": 4,
     "metadata": {},
     "output_type": "execute_result"
    }
   ],
   "source": [
    "soup.select('#gourl') "
   ]
  },
  {
   "cell_type": "markdown",
   "metadata": {
    "deletable": true,
    "editable": true
   },
   "source": [
    "CSS `class`가 `story`인 태그를 추출한다."
   ]
  },
  {
   "cell_type": "code",
   "execution_count": 5,
   "metadata": {
    "collapsed": false,
    "deletable": true,
    "editable": true
   },
   "outputs": [
    {
     "data": {
      "text/plain": [
       "[<div class=\"userInfo\">\n",
       " <div id=\"fb-root\"></div>\n",
       " <span class=\"sns\">\n",
       " <strong class=\"joinText\">가입</strong>\n",
       " <em class=\"snsType facebook\"><a href=\"#\" onclick=\"OauthLoginCLS.doLogin('F');return false;\">페이스북</a></em>\n",
       " <em class=\"snsType naver\"><a href=\"#\" onclick=\"OauthLoginCLS.doLogin('N');return false;\">네이버</a></em>\n",
       " <em class=\"snsType kakao\"><a href=\"#\" onclick=\"OauthLoginCLS.doLogin('K');return false;\">카카오톡</a></em>\n",
       " <div id=\"OauthFrame\"></div>\n",
       " <input id=\"gourl\" type=\"hidden\" value=\"http://www.alba.co.kr/job/detail.asp?adid=76635854&amp;productcd=84\"/>\n",
       " </span>\n",
       " </div>]"
      ]
     },
     "execution_count": 5,
     "metadata": {},
     "output_type": "execute_result"
    }
   ],
   "source": [
    "soup.select('.userInfo')"
   ]
  },
  {
   "cell_type": "markdown",
   "metadata": {
    "deletable": true,
    "editable": true
   },
   "source": [
    "CSS `class`가 `userInfo`인 하위 태그 중 `id`가 `OauthFrame`인 태그를 추출한다."
   ]
  },
  {
   "cell_type": "code",
   "execution_count": 6,
   "metadata": {
    "collapsed": false,
    "deletable": true,
    "editable": true
   },
   "outputs": [
    {
     "data": {
      "text/plain": [
       "[<div id=\"OauthFrame\"></div>]"
      ]
     },
     "execution_count": 6,
     "metadata": {},
     "output_type": "execute_result"
    }
   ],
   "source": [
    "soup.select('.userInfo #OauthFrame')"
   ]
  },
  {
   "cell_type": "markdown",
   "metadata": {
    "deletable": true,
    "editable": true
   },
   "source": [
    "`<a>` 태그 중에서 `name` 속성 값이 있는 태그만 추출한다."
   ]
  },
  {
   "cell_type": "code",
   "execution_count": 7,
   "metadata": {
    "collapsed": false,
    "deletable": true,
    "editable": true
   },
   "outputs": [
    {
     "data": {
      "text/plain": [
       "[]"
      ]
     },
     "execution_count": 7,
     "metadata": {},
     "output_type": "execute_result"
    }
   ],
   "source": [
    "soup.select('a[name]')"
   ]
  },
  {
   "cell_type": "markdown",
   "metadata": {
    "deletable": true,
    "editable": true
   },
   "source": [
    "`<a>` 태그 중에서 `name` 속성 값이 `work`인 태그만 추출한다."
   ]
  },
  {
   "cell_type": "code",
   "execution_count": 8,
   "metadata": {
    "collapsed": false,
    "deletable": true,
    "editable": true
   },
   "outputs": [
    {
     "data": {
      "text/plain": [
       "[]"
      ]
     },
     "execution_count": 8,
     "metadata": {},
     "output_type": "execute_result"
    }
   ],
   "source": [
    "soup.select('a[name=\"work\"]')"
   ]
  },
  {
   "cell_type": "markdown",
   "metadata": {
    "deletable": true,
    "editable": true
   },
   "source": [
    "CSS `class`가 `info`인 태그 하위에 있는 `<a>` 태그를 추출한다."
   ]
  },
  {
   "cell_type": "code",
   "execution_count": 9,
   "metadata": {
    "collapsed": false,
    "deletable": true,
    "editable": true
   },
   "outputs": [
    {
     "data": {
      "text/plain": [
       "[<a class=\"notice\" href=\"#SafeNumLayerT\">안심채용 전화번호</a>,\n",
       " <a class=\"what\" href=\"#SafeNumGuide\">안심채용 전화번호란?</a>,\n",
       " <a class=\"close\" href=\"#SafeNumLayerT\">안심채용 전화번호 안내 닫기</a>,\n",
       " <a class=\"jobKind2\" href=\"/job/occupation/List.asp?jobKind=08000000&amp;jobKindSub=08240000\">강사·교육 기타</a>,\n",
       " <a class=\"jobKind3\" href=\"/job/occupation/List.asp?jobKind=08000000&amp;jobKindSub=0824A001&amp;jobKindmulti=0824A001\">강사·교육 기타</a>,\n",
       " <a href=\"/job/object/Main.asp?targetcd=M01\">초보가능</a>,\n",
       " <a href=\"/job/object/Main.asp?targetcd=M02\">대학재학생 가능</a>,\n",
       " <a href=\"/job/object/Main.asp?targetcd=M03\">대학휴학생 가능</a>,\n",
       " <a href=\"/job/period/List.asp?workperiodcd=H02\">1주일이하</a>,\n",
       " <a href=\"/job/area/Mainlocal.asp?viewtype=L&amp;sidocd=031\" target=\"_blank\"><span class=\"line\">경기</span></a>,\n",
       " <a href=\"/job/area/Mainlocal.asp?schnm=LOCAL&amp;viewtype=L&amp;sidocd=031&amp;strAreaMulti=031%7C%7C%B0%ED%BE%E7%BD%C3+%B4%F6%BE%E7%B1%B8%7C%7C%C0%FC%C3%BC%2C\" target=\"_blank\"><span class=\"line\">고양시 덕양구</span></a>,\n",
       " <a class=\"mapView\" href=\"#InfoWork\">지도 상세보기</a>,\n",
       " <a href=\"/rsc/inc/common/Calculator.asp?paycd=I06&amp;payOrigin=300000\" onclick=\"window.open(this.href, 'popupName','width=376,height=630,top=0,left=0,status=no,scrollbars=no,resizable=no'); return false\" title=\"급여계산기 팝업 창\">급여계산기</a>,\n",
       " <a class=\"notice\" href=\"#SafeNumLayerB\">안심채용 전화번호</a>,\n",
       " <a class=\"what\" href=\"#SafeNumGuide\">안심채용 전화번호란?</a>,\n",
       " <a class=\"close\" href=\"#SafeNumLayerB\">안심채용 전화번호 안내 닫기</a>,\n",
       " <a href=\"/job/area/Mainlocal.asp?viewtype=L&amp;sidocd=031\" target=\"_blank\"><span class=\"line\">경기</span></a>,\n",
       " <a href=\"/job/area/Mainlocal.asp?schnm=LOCAL&amp;viewtype=L&amp;sidocd=031&amp;strAreaMulti=031%7C%7C%B0%ED%BE%E7%BD%C3+%B4%F6%BE%E7%B1%B8%7C%7C%C0%FC%C3%BC%2C\" target=\"_blank\"><span class=\"line\">고양시 덕양구</span></a>,\n",
       " <a href=\"#\" onclick=\"return false\"><img alt=\"\" src=\"//image.alba.kr/job/img_photo.gif\"/></a>,\n",
       " <a href=\"#\" onclick=\"return false\"><img alt=\"\" src=\"//image.alba.kr/job/img_photo.gif\"/></a>,\n",
       " <a href=\"#\" onclick=\"return false\"><img alt=\"\" src=\"//image.alba.kr/job/img_photo.gif\"/></a>]"
      ]
     },
     "execution_count": 9,
     "metadata": {},
     "output_type": "execute_result"
    }
   ],
   "source": [
    "soup.select('.info a')"
   ]
  },
  {
   "cell_type": "markdown",
   "metadata": {
    "deletable": true,
    "editable": true
   },
   "source": [
    "`<li>` 태그 안에 `<p>` 태그가 있는 경우만 추출한다."
   ]
  },
  {
   "cell_type": "code",
   "execution_count": 10,
   "metadata": {
    "collapsed": false,
    "deletable": true,
    "editable": true
   },
   "outputs": [
    {
     "data": {
      "text/plain": [
       "[<p class=\"contact\">마감된 채용공고입니다.</p>,\n",
       " <p class=\"emailshort\">마감된 채용공고입니다.</p>,\n",
       " <p class=\"guideTel\" style=\"color:#999\"><span></span> 구직이 아닌 광고 등의 목적으로 연락처를 이용할 경우 법적 처벌을 받을 수 있습니다.</p>,\n",
       " <p class=\"pay\"><img alt=\"건별\" src=\"//image.alba.kr/icon/pay_I06_detail.gif\"/> <strong>300,000</strong>원 </p>,\n",
       " <p class=\"calculator\">\n",
       " <a href=\"/rsc/inc/common/Calculator.asp?paycd=I06&amp;payOrigin=300000\" onclick=\"window.open(this.href, 'popupName','width=376,height=630,top=0,left=0,status=no,scrollbars=no,resizable=no'); return false\" title=\"급여계산기 팝업 창\">급여계산기</a>\n",
       " <span>최저시급 <strong>6,470</strong>원</span>\n",
       " </p>,\n",
       " <p class=\"contact\">마감된 채용공고입니다.</p>,\n",
       " <p class=\"emailshort\">마감된 채용공고입니다.</p>,\n",
       " <p class=\"guideTel\"><span></span> 구직이 아닌 광고 등의 목적으로 연락처를 이용할 경우 법적 처벌을 받을 수 있습니다.</p>,\n",
       " <p class=\"appBtn\">\n",
       " </p>,\n",
       " <p class=\"appEtc\">\n",
       " <span class=\"telVisit\"><strong>전화후방문</strong></span><span class=\"visit\">방문접수</span><span class=\"fax\">팩스</span><span class=\"post\">우편</span>\n",
       " </p>,\n",
       " <p class=\"workPhoto\"><a href=\"#\" onclick=\"return false\"><img alt=\"\" src=\"//image.alba.kr/job/img_photo.gif\"/></a>\n",
       " <a href=\"#\" onclick=\"return false\"><img alt=\"\" src=\"//image.alba.kr/job/img_photo.gif\"/></a>\n",
       " <a href=\"#\" onclick=\"return false\"><img alt=\"\" src=\"//image.alba.kr/job/img_photo.gif\"/></a>\n",
       " </p>,\n",
       " <p>* 로드뷰 내 근무지가 건물 위치 및 가로수, 차량 등 장애물로 인해 실제와 다르게 나타날 수 있습니다.</p>]"
      ]
     },
     "execution_count": 10,
     "metadata": {},
     "output_type": "execute_result"
    }
   ],
   "source": [
    "soup.select('li p')"
   ]
  },
  {
   "cell_type": "markdown",
   "metadata": {
    "deletable": true,
    "editable": true
   },
   "source": [
    "`<li>` 태그 안에 `<span>` 태그가 직접 포함된 경우만 추출한다."
   ]
  },
  {
   "cell_type": "code",
   "execution_count": 11,
   "metadata": {
    "collapsed": false,
    "deletable": true,
    "editable": true
   },
   "outputs": [
    {
     "data": {
      "text/plain": [
       "[<span class=\"item\">연락처</span>,\n",
       " <span class=\"item\">경력</span>,\n",
       " <span class=\"item\">성별</span>,\n",
       " <span class=\"item\">연령</span>,\n",
       " <span> <br/>미성년자 불가<br/></span>,\n",
       " <span class=\"item\">학력</span>,\n",
       " <span class=\"item\">모집직종</span>,\n",
       " <span class=\"item\">고용형태</span>,\n",
       " <span class=\"item\">모집인원</span>,\n",
       " <span class=\"item\">기타사항</span>,\n",
       " <span class=\"item\">근무기간</span>,\n",
       " <span class=\"item\">근무요일</span>,\n",
       " <span class=\"item\">근무시간</span>,\n",
       " <span class=\"item\">복리후생</span>,\n",
       " <span class=\"item\">근무지주소</span>,\n",
       " <span class=\"item\">급여</span>,\n",
       " <span class=\"item\">모집마감일</span>,\n",
       " <span class=\"itemDate\">2017년 2월 8일(수) ~ <em>2017년 2월 12일(일)</em></span>,\n",
       " <span class=\"item\">담당자명</span>,\n",
       " <span class=\"item\">연락처</span>,\n",
       " <span class=\"item\">지원방법</span>,\n",
       " <span class=\"item\">근무지명</span>,\n",
       " <span class=\"item\">사업내용</span>,\n",
       " <span class=\"item\">근무지주소</span>,\n",
       " <span class=\"item\">근무지사진</span>,\n",
       " <span class=\"item\">위치보기</span>,\n",
       " <span class=\"item\">회  사  명</span>,\n",
       " <span class=\"item\">사업내용</span>,\n",
       " <span class=\"item\">회사주소</span>,\n",
       " <span class=\"item\">직  원  수</span>]"
      ]
     },
     "execution_count": 11,
     "metadata": {},
     "output_type": "execute_result"
    }
   ],
   "source": [
    "soup.select('li > span')"
   ]
  },
  {
   "cell_type": "markdown",
   "metadata": {
    "deletable": true,
    "editable": true
   },
   "source": [
    "`select()`에 사용되는 문자열 패턴은 다양한 조합이 가능하므로 충분히 테스트 해 본 후 사용해보기 바란다."
   ]
  },
  {
   "cell_type": "markdown",
   "metadata": {
    "deletable": true,
    "editable": true
   },
   "source": [
    "## 8.2 속성 확인하기\n",
    "\n",
    "태그의 속성은 `attrs` 이름에 저장되어 있다."
   ]
  },
  {
   "cell_type": "code",
   "execution_count": 12,
   "metadata": {
    "collapsed": false,
    "deletable": true,
    "editable": true
   },
   "outputs": [
    {
     "data": {
      "text/plain": [
       "<span class=\"searchInput wordSearch\">\n",
       "<span></span><label for=\"wsSrchWord\">검색어</label><input id=\"wsSrchWord\" maxlength=\"20\" name=\"wsSrchWord\" onblur=\"gnbFunc.setDefaultKeyword()\" onclick=\"gnbFunc.clearSearchValue();\" title=\"통합 검색\" type=\"text\" value=\"\"/>\n",
       "</span>"
      ]
     },
     "execution_count": 12,
     "metadata": {},
     "output_type": "execute_result"
    }
   ],
   "source": [
    "tag = soup.find('span')\n",
    "tag"
   ]
  },
  {
   "cell_type": "code",
   "execution_count": 13,
   "metadata": {
    "collapsed": false,
    "deletable": true,
    "editable": true
   },
   "outputs": [
    {
     "data": {
      "text/plain": [
       "{'class': ['searchInput', 'wordSearch']}"
      ]
     },
     "execution_count": 13,
     "metadata": {},
     "output_type": "execute_result"
    }
   ],
   "source": [
    "tag.attrs"
   ]
  },
  {
   "cell_type": "markdown",
   "metadata": {
    "deletable": true,
    "editable": true
   },
   "source": [
    "이것은 사전이다."
   ]
  },
  {
   "cell_type": "code",
   "execution_count": 14,
   "metadata": {
    "collapsed": false,
    "deletable": true,
    "editable": true
   },
   "outputs": [
    {
     "data": {
      "text/plain": [
       "['searchInput', 'wordSearch']"
      ]
     },
     "execution_count": 14,
     "metadata": {},
     "output_type": "execute_result"
    }
   ],
   "source": [
    "tag.attrs['class']"
   ]
  },
  {
   "cell_type": "markdown",
   "metadata": {
    "deletable": true,
    "editable": true
   },
   "source": [
    "하지만 다음과 같이 태그 이름으로 직접 접근도 가능하다."
   ]
  },
  {
   "cell_type": "code",
   "execution_count": 15,
   "metadata": {
    "collapsed": false,
    "deletable": true,
    "editable": true
   },
   "outputs": [
    {
     "data": {
      "text/plain": [
       "['searchInput', 'wordSearch']"
      ]
     },
     "execution_count": 15,
     "metadata": {},
     "output_type": "execute_result"
    }
   ],
   "source": [
    "tag['class']"
   ]
  },
  {
   "cell_type": "markdown",
   "metadata": {
    "deletable": true,
    "editable": true
   },
   "source": [
    "사전의 `get` 메서드와 유사하게 동작한다."
   ]
  },
  {
   "cell_type": "code",
   "execution_count": 16,
   "metadata": {
    "collapsed": false,
    "deletable": true,
    "editable": true
   },
   "outputs": [
    {
     "data": {
      "text/plain": [
       "['searchInput', 'wordSearch']"
      ]
     },
     "execution_count": 16,
     "metadata": {},
     "output_type": "execute_result"
    }
   ],
   "source": [
    "tag.get('class')"
   ]
  },
  {
   "cell_type": "markdown",
   "metadata": {
    "deletable": true,
    "editable": true
   },
   "source": [
    "속성 값이 정의되지 않은 경우 당연히 `KeyError`가 발생한다."
   ]
  },
  {
   "cell_type": "code",
   "execution_count": 17,
   "metadata": {
    "collapsed": false,
    "deletable": true,
    "editable": true
   },
   "outputs": [
    {
     "ename": "KeyError",
     "evalue": "'link'",
     "output_type": "error",
     "traceback": [
      "\u001b[0;31m---------------------------------------------------------------------------\u001b[0m",
      "\u001b[0;31mKeyError\u001b[0m                                  Traceback (most recent call last)",
      "\u001b[0;32m<ipython-input-17-02ba6efee970>\u001b[0m in \u001b[0;36m<module>\u001b[0;34m()\u001b[0m\n\u001b[0;32m----> 1\u001b[0;31m \u001b[0mtag\u001b[0m\u001b[0;34m[\u001b[0m\u001b[0;34m'link'\u001b[0m\u001b[0;34m]\u001b[0m   \u001b[0;31m# KeyError 발생\u001b[0m\u001b[0;34m\u001b[0m\u001b[0m\n\u001b[0m",
      "\u001b[0;32m/usr/lib/python3/dist-packages/bs4/element.py\u001b[0m in \u001b[0;36m__getitem__\u001b[0;34m(self, key)\u001b[0m\n\u001b[1;32m    956\u001b[0m         \"\"\"tag[key] returns the value of the 'key' attribute for the tag,\n\u001b[1;32m    957\u001b[0m         and throws an exception if it's not there.\"\"\"\n\u001b[0;32m--> 958\u001b[0;31m         \u001b[0;32mreturn\u001b[0m \u001b[0mself\u001b[0m\u001b[0;34m.\u001b[0m\u001b[0mattrs\u001b[0m\u001b[0;34m[\u001b[0m\u001b[0mkey\u001b[0m\u001b[0;34m]\u001b[0m\u001b[0;34m\u001b[0m\u001b[0m\n\u001b[0m\u001b[1;32m    959\u001b[0m \u001b[0;34m\u001b[0m\u001b[0m\n\u001b[1;32m    960\u001b[0m     \u001b[0;32mdef\u001b[0m \u001b[0m__iter__\u001b[0m\u001b[0;34m(\u001b[0m\u001b[0mself\u001b[0m\u001b[0;34m)\u001b[0m\u001b[0;34m:\u001b[0m\u001b[0;34m\u001b[0m\u001b[0m\n",
      "\u001b[0;31mKeyError\u001b[0m: 'link'"
     ]
    }
   ],
   "source": [
    "tag['link']   # KeyError 발생"
   ]
  },
  {
   "cell_type": "markdown",
   "metadata": {
    "deletable": true,
    "editable": true
   },
   "source": [
    "`get` 메서드는 사전에서와 같이 속성이 등록되어 있지 않을 경우 기본 값(None)을 돌려준다."
   ]
  },
  {
   "cell_type": "code",
   "execution_count": 18,
   "metadata": {
    "collapsed": true,
    "deletable": true,
    "editable": true
   },
   "outputs": [],
   "source": [
    "tag.get('link')"
   ]
  },
  {
   "cell_type": "code",
   "execution_count": 19,
   "metadata": {
    "collapsed": false,
    "deletable": true,
    "editable": true
   },
   "outputs": [
    {
     "name": "stdout",
     "output_type": "stream",
     "text": [
      "1주일이하 /job/period/List.asp?workperiodcd=H02\n"
     ]
    }
   ],
   "source": [
    "for tag in soup.select('li[class=\"workperiodcd\"] a'):\n",
    "    print(tag.text, tag.get('href'))"
   ]
  },
  {
   "cell_type": "markdown",
   "metadata": {
    "collapsed": true,
    "deletable": true,
    "editable": true
   },
   "source": [
    "## 8.3 실제 웹 문서에서 정보 추출하기\n",
    "\n",
    "`BeautifulSoup`을 이용하여 실제 웹 문서에서 정보를 추출해보자. 먼저 알바천국 http://www.alba.co.kr 에서  알바를 하나 선택한다."
   ]
  },
  {
   "cell_type": "code",
   "execution_count": 20,
   "metadata": {
    "collapsed": true,
    "deletable": true,
    "editable": true
   },
   "outputs": [],
   "source": [
    "import requests\n",
    "from bs4 import BeautifulSoup\n",
    "\n",
    "url = 'http://www.alba.co.kr/job/Detail.asp?adid=76635854&productcd=84'\n",
    "r = requests.get(url)\n",
    "html = r.text"
   ]
  },
  {
   "cell_type": "code",
   "execution_count": 21,
   "metadata": {
    "collapsed": false,
    "deletable": true,
    "editable": true
   },
   "outputs": [],
   "source": [
    "soup = BeautifulSoup(html, 'lxml')\n",
    "info_table = {}  #  정보를 저장할 사전"
   ]
  },
  {
   "cell_type": "markdown",
   "metadata": {
    "deletable": true,
    "editable": true
   },
   "source": [
    "급여정보"
   ]
  },
  {
   "cell_type": "code",
   "execution_count": 22,
   "metadata": {
    "collapsed": false,
    "deletable": true,
    "editable": true
   },
   "outputs": [
    {
     "data": {
      "text/plain": [
       "[<p class=\"pay\"><img alt=\"건별\" src=\"//image.alba.kr/icon/pay_I06_detail.gif\"/> <strong>300,000</strong>원 </p>]"
      ]
     },
     "execution_count": 22,
     "metadata": {},
     "output_type": "execute_result"
    }
   ],
   "source": [
    "soup.select('.pay')"
   ]
  },
  {
   "cell_type": "code",
   "execution_count": 23,
   "metadata": {
    "collapsed": false,
    "deletable": true,
    "editable": true
   },
   "outputs": [
    {
     "data": {
      "text/plain": [
       "'\\xa0300,000원\\xa0'"
      ]
     },
     "execution_count": 23,
     "metadata": {},
     "output_type": "execute_result"
    }
   ],
   "source": [
    "soup.select('.pay')[0].text"
   ]
  },
  {
   "cell_type": "code",
   "execution_count": 24,
   "metadata": {
    "collapsed": false,
    "deletable": true,
    "editable": true
   },
   "outputs": [
    {
     "data": {
      "text/plain": [
       "'300,000원'"
      ]
     },
     "execution_count": 24,
     "metadata": {},
     "output_type": "execute_result"
    }
   ],
   "source": [
    "soup.select('.pay')[0].text.strip()"
   ]
  },
  {
   "cell_type": "code",
   "execution_count": 25,
   "metadata": {
    "collapsed": false,
    "deletable": true,
    "editable": true
   },
   "outputs": [
    {
     "data": {
      "text/plain": [
       "[<strong>300,000</strong>]"
      ]
     },
     "execution_count": 25,
     "metadata": {},
     "output_type": "execute_result"
    }
   ],
   "source": [
    "soup.select('.pay strong')"
   ]
  },
  {
   "cell_type": "code",
   "execution_count": 26,
   "metadata": {
    "collapsed": false,
    "deletable": true,
    "editable": true
   },
   "outputs": [
    {
     "data": {
      "text/plain": [
       "'300,000'"
      ]
     },
     "execution_count": 26,
     "metadata": {},
     "output_type": "execute_result"
    }
   ],
   "source": [
    "soup.select('.pay strong')[0].text"
   ]
  },
  {
   "cell_type": "markdown",
   "metadata": {
    "deletable": true,
    "editable": true
   },
   "source": [
    "이것을 다시 정수로 변환하려면 다음과 같이 콤마를 없앤 후에 `int` 함수를 통과하면 된다."
   ]
  },
  {
   "cell_type": "code",
   "execution_count": 27,
   "metadata": {
    "collapsed": false,
    "deletable": true,
    "editable": true
   },
   "outputs": [
    {
     "data": {
      "text/plain": [
       "300000"
      ]
     },
     "execution_count": 27,
     "metadata": {},
     "output_type": "execute_result"
    }
   ],
   "source": [
    "value = int(soup.select('.pay strong')[0].text.replace(',', ''))\n",
    "value"
   ]
  },
  {
   "cell_type": "code",
   "execution_count": 28,
   "metadata": {
    "collapsed": false,
    "deletable": true,
    "editable": true
   },
   "outputs": [],
   "source": [
    "info_table['급여'] = value"
   ]
  },
  {
   "cell_type": "markdown",
   "metadata": {
    "deletable": true,
    "editable": true
   },
   "source": [
    "급여계산기"
   ]
  },
  {
   "cell_type": "code",
   "execution_count": 29,
   "metadata": {
    "collapsed": false,
    "deletable": true,
    "editable": true
   },
   "outputs": [],
   "source": [
    "sal = int(soup.select('.calculator span strong')[0].text.replace(',', ''))"
   ]
  },
  {
   "cell_type": "markdown",
   "metadata": {
    "deletable": true,
    "editable": true
   },
   "source": [
    "이제 이 정보를 `info_table` 변수에 저장한다."
   ]
  },
  {
   "cell_type": "code",
   "execution_count": 30,
   "metadata": {
    "collapsed": false,
    "deletable": true,
    "editable": true
   },
   "outputs": [],
   "source": [
    "info_table['최저시급'] = sal"
   ]
  },
  {
   "cell_type": "code",
   "execution_count": 31,
   "metadata": {
    "collapsed": false,
    "deletable": true,
    "editable": true
   },
   "outputs": [
    {
     "data": {
      "text/plain": [
       "{'급여': 300000, '최저시급': 6470}"
      ]
     },
     "execution_count": 31,
     "metadata": {},
     "output_type": "execute_result"
    }
   ],
   "source": [
    "info_table"
   ]
  },
  {
   "cell_type": "markdown",
   "metadata": {
    "collapsed": true,
    "deletable": true,
    "editable": true
   },
   "source": [
    "### 8.3.1 지원자격 정보 추출\n"
   ]
  },
  {
   "cell_type": "code",
   "execution_count": 32,
   "metadata": {
    "collapsed": false,
    "deletable": true,
    "editable": true
   },
   "outputs": [
    {
     "data": {
      "text/plain": [
       "[<div class=\"infoQualify\">\n",
       " <h2 class=\"apply\">지원자격</h2>\n",
       " <ul class=\"info\">\n",
       " <li class=\"recruitOption_S\"><span class=\"item\">경력</span> 무관(신입+경력)</li>\n",
       " <li class=\"sex\"><span class=\"item\">성별</span> 성별무관</li>\n",
       " <li class=\"agetemp\"><span class=\"item\">연령</span> 20세(1998년생) ~ 29세(1989년생)<span> <br/>미성년자 불가<br/></span></li>\n",
       " <li class=\"lastSchool\"><span class=\"item\">학력</span> 대학(2,3년)졸업 이상</li>\n",
       " </ul>\n",
       " </div>]"
      ]
     },
     "execution_count": 32,
     "metadata": {},
     "output_type": "execute_result"
    }
   ],
   "source": [
    "soup.select('.infoQualify')"
   ]
  },
  {
   "cell_type": "markdown",
   "metadata": {
    "deletable": true,
    "editable": true
   },
   "source": [
    "제목 추출"
   ]
  },
  {
   "cell_type": "code",
   "execution_count": 33,
   "metadata": {
    "collapsed": false,
    "deletable": true,
    "editable": true
   },
   "outputs": [
    {
     "data": {
      "text/plain": [
       "[<span class=\"item\">경력</span>,\n",
       " <span class=\"item\">성별</span>,\n",
       " <span class=\"item\">연령</span>,\n",
       " <span> <br/>미성년자 불가<br/></span>,\n",
       " <span class=\"item\">학력</span>]"
      ]
     },
     "execution_count": 33,
     "metadata": {},
     "output_type": "execute_result"
    }
   ],
   "source": [
    "soup.select('.infoQualify li span')"
   ]
  },
  {
   "cell_type": "code",
   "execution_count": 34,
   "metadata": {
    "collapsed": false,
    "deletable": true,
    "editable": true
   },
   "outputs": [
    {
     "data": {
      "text/plain": [
       "[<span class=\"item\">경력</span>,\n",
       " <span class=\"item\">성별</span>,\n",
       " <span class=\"item\">연령</span>,\n",
       " <span class=\"item\">학력</span>]"
      ]
     },
     "execution_count": 34,
     "metadata": {},
     "output_type": "execute_result"
    }
   ],
   "source": [
    "soup.select('.infoQualify li .item')"
   ]
  },
  {
   "cell_type": "code",
   "execution_count": 35,
   "metadata": {
    "collapsed": false,
    "deletable": true,
    "editable": true
   },
   "outputs": [
    {
     "data": {
      "text/plain": [
       "['경력', '성별', '연령', '학력']"
      ]
     },
     "execution_count": 35,
     "metadata": {},
     "output_type": "execute_result"
    }
   ],
   "source": [
    "names = [tag.text for tag in soup.select('.infoQualify li .item')]\n",
    "names"
   ]
  },
  {
   "cell_type": "markdown",
   "metadata": {
    "deletable": true,
    "editable": true
   },
   "source": [
    "지원자격 추출"
   ]
  },
  {
   "cell_type": "code",
   "execution_count": 36,
   "metadata": {
    "collapsed": false,
    "deletable": true,
    "editable": true
   },
   "outputs": [
    {
     "data": {
      "text/plain": [
       "['무관(신입+경력)', '성별무관', '20세(1998년생) ~ 29세(1989년생)', '대학(2,3년)졸업 이상']"
      ]
     },
     "execution_count": 36,
     "metadata": {},
     "output_type": "execute_result"
    }
   ],
   "source": [
    "[tag.span.next_sibling.strip() for tag in soup.select('.infoQualify li')]"
   ]
  },
  {
   "cell_type": "code",
   "execution_count": 37,
   "metadata": {
    "collapsed": true,
    "deletable": true,
    "editable": true
   },
   "outputs": [],
   "source": [
    "values = [tag.span.next_sibling.strip() for tag in soup.select('.infoQualify li')]"
   ]
  },
  {
   "cell_type": "code",
   "execution_count": 38,
   "metadata": {
    "collapsed": false,
    "deletable": true,
    "editable": true
   },
   "outputs": [
    {
     "data": {
      "text/plain": [
       "<zip at 0x7ffb702e3788>"
      ]
     },
     "execution_count": 38,
     "metadata": {},
     "output_type": "execute_result"
    }
   ],
   "source": [
    "zip(names, values)"
   ]
  },
  {
   "cell_type": "code",
   "execution_count": 39,
   "metadata": {
    "collapsed": false,
    "deletable": true,
    "editable": true
   },
   "outputs": [
    {
     "data": {
      "text/plain": [
       "[('경력', '무관(신입+경력)'),\n",
       " ('성별', '성별무관'),\n",
       " ('연령', '20세(1998년생) ~ 29세(1989년생)'),\n",
       " ('학력', '대학(2,3년)졸업 이상')]"
      ]
     },
     "execution_count": 39,
     "metadata": {},
     "output_type": "execute_result"
    }
   ],
   "source": [
    "list(zip(names, values))"
   ]
  },
  {
   "cell_type": "code",
   "execution_count": 40,
   "metadata": {
    "collapsed": true,
    "deletable": true,
    "editable": true
   },
   "outputs": [],
   "source": [
    "info_table.update(zip(names, values) )"
   ]
  },
  {
   "cell_type": "code",
   "execution_count": 41,
   "metadata": {
    "collapsed": false,
    "deletable": true,
    "editable": true
   },
   "outputs": [
    {
     "data": {
      "text/plain": [
       "{'경력': '무관(신입+경력)',\n",
       " '급여': 300000,\n",
       " '성별': '성별무관',\n",
       " '연령': '20세(1998년생) ~ 29세(1989년생)',\n",
       " '최저시급': 6470,\n",
       " '학력': '대학(2,3년)졸업 이상'}"
      ]
     },
     "execution_count": 41,
     "metadata": {},
     "output_type": "execute_result"
    }
   ],
   "source": [
    "info_table"
   ]
  },
  {
   "cell_type": "markdown",
   "metadata": {
    "deletable": true,
    "editable": true
   },
   "source": [
    "모집내용 추출"
   ]
  },
  {
   "cell_type": "code",
   "execution_count": 42,
   "metadata": {
    "collapsed": false,
    "deletable": true,
    "editable": true
   },
   "outputs": [
    {
     "data": {
      "text/plain": [
       "[<div class=\"infoContent divide\">\n",
       " <h2 class=\"applyCnt\">모집내용</h2>\n",
       " <ul class=\"info\">\n",
       " <li class=\"jobKind\"><span class=\"item\">모집직종</span> <ul><li><a class=\"jobKind2\" href=\"/job/occupation/List.asp?jobKind=08000000&amp;jobKindSub=08240000\">강사·교육 기타</a> &gt; <a class=\"jobKind3\" href=\"/job/occupation/List.asp?jobKind=08000000&amp;jobKindSub=0824A001&amp;jobKindmulti=0824A001\">강사·교육 기타</a></li></ul></li>\n",
       " <li class=\"recruitOption_K\"><span class=\"item\">고용형태</span> 아르바이트</li>\n",
       " <li class=\"recruitNo\"><span class=\"item\">모집인원</span> 3명</li>\n",
       " <li class=\"recruitOption_M\"><span class=\"item\">기타사항</span> <a href=\"/job/object/Main.asp?targetcd=M01\">초보가능</a>, <a href=\"/job/object/Main.asp?targetcd=M02\">대학재학생 가능</a>, <a href=\"/job/object/Main.asp?targetcd=M03\">대학휴학생 가능</a>, 친구와 함께 지원&amp;근무 가능</li>\n",
       " </ul>\n",
       " </div>]"
      ]
     },
     "execution_count": 42,
     "metadata": {},
     "output_type": "execute_result"
    }
   ],
   "source": [
    "soup.select('.infoContent')"
   ]
  },
  {
   "cell_type": "code",
   "execution_count": 43,
   "metadata": {
    "collapsed": false,
    "deletable": true,
    "editable": true
   },
   "outputs": [
    {
     "data": {
      "text/plain": [
       "[<span class=\"item\">모집직종</span>,\n",
       " <span class=\"item\">고용형태</span>,\n",
       " <span class=\"item\">모집인원</span>,\n",
       " <span class=\"item\">기타사항</span>]"
      ]
     },
     "execution_count": 43,
     "metadata": {},
     "output_type": "execute_result"
    }
   ],
   "source": [
    "soup.select('.infoContent li .item')"
   ]
  },
  {
   "cell_type": "code",
   "execution_count": 44,
   "metadata": {
    "collapsed": false,
    "deletable": true,
    "editable": true
   },
   "outputs": [
    {
     "data": {
      "text/plain": [
       "['모집직종', '고용형태', '모집인원', '기타사항']"
      ]
     },
     "execution_count": 44,
     "metadata": {},
     "output_type": "execute_result"
    }
   ],
   "source": [
    "[tag.text for tag in soup.select('.infoContent li .item')]"
   ]
  },
  {
   "cell_type": "code",
   "execution_count": 45,
   "metadata": {
    "collapsed": false,
    "deletable": true,
    "editable": true
   },
   "outputs": [
    {
     "data": {
      "text/plain": [
       "['모집직종 강사·교육 기타 >강사·교육 기타',\n",
       " '고용형태 아르바이트',\n",
       " '모집인원 3명',\n",
       " '기타사항 초보가능, 대학재학생 가능, 대학휴학생 가능, 친구와 함께 지원&근무 가능']"
      ]
     },
     "execution_count": 45,
     "metadata": {},
     "output_type": "execute_result"
    }
   ],
   "source": [
    "[tag.text.strip().replace('\\xa0', '') for tag in soup.select('.infoContent > ul > li')]"
   ]
  },
  {
   "cell_type": "markdown",
   "metadata": {
    "deletable": true,
    "editable": true
   },
   "source": [
    "### 8.3.2 퀴즈\n",
    "\n",
    "1. 유사한 방법으로 근무조건 등을 `info_table`에 추가해보자."
   ]
  },
  {
   "cell_type": "code",
   "execution_count": null,
   "metadata": {
    "collapsed": true,
    "deletable": true,
    "editable": true
   },
   "outputs": [],
   "source": []
  },
  {
   "cell_type": "code",
   "execution_count": null,
   "metadata": {
    "collapsed": true
   },
   "outputs": [],
   "source": []
  },
  {
   "cell_type": "code",
   "execution_count": null,
   "metadata": {
    "collapsed": true
   },
   "outputs": [],
   "source": []
  },
  {
   "cell_type": "code",
   "execution_count": null,
   "metadata": {
    "collapsed": true
   },
   "outputs": [],
   "source": []
  },
  {
   "cell_type": "code",
   "execution_count": null,
   "metadata": {
    "collapsed": true
   },
   "outputs": [],
   "source": []
  },
  {
   "cell_type": "code",
   "execution_count": null,
   "metadata": {
    "collapsed": true
   },
   "outputs": [],
   "source": []
  },
  {
   "cell_type": "code",
   "execution_count": null,
   "metadata": {
    "collapsed": true
   },
   "outputs": [],
   "source": []
  }
 ],
 "metadata": {
  "kernelspec": {
   "display_name": "Python 3",
   "language": "python",
   "name": "python3"
  },
  "language_info": {
   "codemirror_mode": {
    "name": "ipython",
    "version": 3
   },
   "file_extension": ".py",
   "mimetype": "text/x-python",
   "name": "python",
   "nbconvert_exporter": "python",
   "pygments_lexer": "ipython3",
   "version": "3.5.2"
  }
 },
 "nbformat": 4,
 "nbformat_minor": 0
}
