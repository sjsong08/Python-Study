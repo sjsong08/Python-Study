{
 "cells": [
  {
   "cell_type": "markdown",
   "metadata": {
    "collapsed": true,
    "deletable": true,
    "editable": true
   },
   "source": [
    "# 9 객체 직렬화\n",
    "\n",
    "\n",
    "프로그램 메모리상에 존재하는 객체를 저장하거나 다른 프로그램으로 전달하려면 직렬화라는 작업이 필요하다.\n",
    "파이썬 프로그램간의 직렬화는 pickle로 이루어지며, 다른 프로그램간의 직렬화는 json, csv, avro 등이 이용될 수 있다.\n",
    "\n",
    "<img src=\"img/serialization.png\" width=600>"
   ]
  },
  {
   "cell_type": "markdown",
   "metadata": {
    "deletable": true,
    "editable": true
   },
   "source": [
    "고려사항들\n",
    "\n",
    " * 어떤 프로토콜을 사용?\n",
    " * 어떤 데이터를 전송?\n",
    " * 효율적인 저장 및 전송 메카니즘?\n",
    " * 확장(scaling) 가능?\n",
    " * 유연성\n",
    " * 사용하기 쉬운가?\n",
    " * 속도, 데이터 크기\n",
    " * 텍스트 / 바이너리\n",
    " * 여러 언어에서 지원\n",
    " \n",
    "SOAP, CORBA, DCOM, COM+, JSON, PLAIN TEXT, XML, ..."
   ]
  },
  {
   "cell_type": "markdown",
   "metadata": {
    "deletable": true,
    "editable": true
   },
   "source": [
    "## 9.1 피클링\n",
    "\n",
    "피클링을 이용하면 문자열 자료 이외의 복잡한 자료형도 선언 없이 저장할 수 있다.\n",
    "파이썬3는 이진 파일로 저장하며 \n",
    "객체를 파일로 출력하려면 pickle.dump를, 객체를 파일에서 읽어들이려면 pickle.load를 사용한다."
   ]
  },
  {
   "cell_type": "code",
   "execution_count": 9,
   "metadata": {
    "collapsed": true,
    "deletable": true,
    "editable": true
   },
   "outputs": [],
   "source": [
    "L = [1,2,'피클링']\n",
    "digits = {'one':'하나', 'two':'둘', 'three':'셋'}"
   ]
  },
  {
   "cell_type": "markdown",
   "metadata": {
    "deletable": true,
    "editable": true
   },
   "source": [
    "데이터들을 파일에 피클링한다."
   ]
  },
  {
   "cell_type": "code",
   "execution_count": 10,
   "metadata": {
    "collapsed": true,
    "deletable": true,
    "editable": true
   },
   "outputs": [],
   "source": [
    "import pickle \n",
    "\n",
    "with open('test.pickle', 'wb') as f:\n",
    "    pickle.dump(L, f)\n",
    "    pickle.dump(digits, f)"
   ]
  },
  {
   "cell_type": "markdown",
   "metadata": {
    "deletable": true,
    "editable": true
   },
   "source": [
    "데이터를 파일에서 읽어들인다."
   ]
  },
  {
   "cell_type": "code",
   "execution_count": 11,
   "metadata": {
    "collapsed": true,
    "deletable": true,
    "editable": true
   },
   "outputs": [],
   "source": [
    "with open('test.pickle', 'rb') as f: \n",
    "    L2 = pickle.load(f) # 언피클링 \n",
    "    digits2 = pickle.load(f)   # 한 번 더"
   ]
  },
  {
   "cell_type": "code",
   "execution_count": 12,
   "metadata": {
    "collapsed": false,
    "deletable": true,
    "editable": true
   },
   "outputs": [
    {
     "data": {
      "text/plain": [
       "[1, 2, '피클링']"
      ]
     },
     "execution_count": 12,
     "metadata": {},
     "output_type": "execute_result"
    }
   ],
   "source": [
    "L2"
   ]
  },
  {
   "cell_type": "code",
   "execution_count": 13,
   "metadata": {
    "collapsed": false,
    "deletable": true,
    "editable": true
   },
   "outputs": [
    {
     "data": {
      "text/plain": [
       "{'one': '하나', 'three': '셋', 'two': '둘'}"
      ]
     },
     "execution_count": 13,
     "metadata": {},
     "output_type": "execute_result"
    }
   ],
   "source": [
    "digits2"
   ]
  },
  {
   "cell_type": "markdown",
   "metadata": {
    "deletable": true,
    "editable": true
   },
   "source": [
    "피클링 할 객체를 파일이 아닌 바이트열로 출력하거나 바이트열에서 객체를 읽어 들이려면 dumps( ) 와loads( ) 함수를 사용할 수 있다.\n",
    "dumps 메서드의 출력 결과는 문자열이 아닌 바이트열임에 주의하자."
   ]
  },
  {
   "cell_type": "code",
   "execution_count": 14,
   "metadata": {
    "collapsed": false,
    "deletable": true,
    "editable": true
   },
   "outputs": [
    {
     "data": {
      "text/plain": [
       "b'\\x80\\x03]q\\x00(K\\x01K\\x02X\\t\\x00\\x00\\x00\\xed\\x94\\xbc\\xed\\x81\\xb4\\xeb\\xa7\\x81q\\x01e.'"
      ]
     },
     "execution_count": 14,
     "metadata": {},
     "output_type": "execute_result"
    }
   ],
   "source": [
    "b = pickle.dumps(L)\n",
    "b"
   ]
  },
  {
   "cell_type": "code",
   "execution_count": 15,
   "metadata": {
    "collapsed": false,
    "deletable": true,
    "editable": true
   },
   "outputs": [
    {
     "data": {
      "text/plain": [
       "[1, 2, '피클링']"
      ]
     },
     "execution_count": 15,
     "metadata": {},
     "output_type": "execute_result"
    }
   ],
   "source": [
    "pickle.loads(b)"
   ]
  },
  {
   "cell_type": "markdown",
   "metadata": {
    "deletable": true,
    "editable": true
   },
   "source": [
    "### 9.1.1 실전 예\n",
    "\n",
    "`ch07/simple_convnet.py`"
   ]
  },
  {
   "cell_type": "code",
   "execution_count": 17,
   "metadata": {
    "collapsed": true,
    "deletable": true,
    "editable": true
   },
   "outputs": [],
   "source": [
    "    # ...\n",
    "\n",
    "    def save_params(self, file_name=\"params.pkl\"):\n",
    "#        params = {}\n",
    "#        for key, val in self.params.items():\n",
    "#            params[key] = val\n",
    "        with open(file_name, 'wb') as f:\n",
    "            pickle.dump(self.params, f)\n",
    "\n",
    "    def load_params(self, file_name=\"params.pkl\"):\n",
    "        with open(file_name, 'rb') as f:\n",
    "            params = pickle.load(f)\n",
    "        for key, val in params.items():\n",
    "            self.params[key] = val\n",
    "\n",
    "        for i, key in enumerate(['Conv1', 'Affine1', 'Affine2']):\n",
    "            self.layers[key].W = self.params['W' + str(i+1)]\n",
    "            self.layers[key].b = self.params['b' + str(i+1)]"
   ]
  },
  {
   "cell_type": "markdown",
   "metadata": {
    "deletable": true,
    "editable": true
   },
   "source": [
    "## 9.2 JSON\n",
    "\n",
    "JSON (JavaScript Object Notation)은 자바스크립트 언어 에서 정의된 간단한 데이터 교환 형식이다. 이 형식은 텍스트 형식이어서 사람이나 기계가 분석하고 생성하기에 용이하다. JSON은 언어에 독립적으로 설계되었고 다양한 언어에서 지원하고 있다.\n",
    "다양한 시스템 사이의 데이터 교환 용도로 일반적으로 사용된다.\n",
    "json 객체의 (name value) object형은 파이썬의 사전과 유사하고, array형은 리스트와 유사하다.\n",
    "\n",
    "파이썬은 json 표준 모듈을 지원하고 있으며 pickle 모듈과 유사한 인터페이스를 제공한다.\n",
    "파이썬 객체를 json 포맷으로 변환하려면 dump 혹은 dumps 함수를 이용하고, json 객체를 파이썬 객체로 변환하려면 load, loads를 이용한다. dump, load는 파일로 객체를 입출력하고, dumps, loads는 문자열 객체를 다룬다.\n",
    "\n",
    "다음 코드는 dump, load의 활용 예이다."
   ]
  },
  {
   "cell_type": "code",
   "execution_count": 9,
   "metadata": {
    "collapsed": true,
    "deletable": true,
    "editable": true
   },
   "outputs": [],
   "source": [
    "import json\n",
    "\n",
    "t = (1,2,3, 'python', 'rules')  # tuple\n",
    "l = [3,4,5] \n",
    "d = {'tuple':t, 'list':l}\n",
    "\n",
    "with open('test1.json', 'w') as f:\n",
    "    json.dump(d, f)"
   ]
  },
  {
   "cell_type": "markdown",
   "metadata": {
    "deletable": true,
    "editable": true
   },
   "source": [
    "파일로 출력된 내용을 확인해보자. 텍스트 파일이며 사람이 읽을 수 있다."
   ]
  },
  {
   "cell_type": "code",
   "execution_count": 10,
   "metadata": {
    "collapsed": false,
    "deletable": true,
    "editable": true
   },
   "outputs": [
    {
     "name": "stdout",
     "output_type": "stream",
     "text": [
      "{\"list\": [3, 4, 5], \"tuple\": [1, 2, 3, \"python\", \"rules\"]}\n"
     ]
    }
   ],
   "source": [
    "print(open('test1.json').read())"
   ]
  },
  {
   "cell_type": "markdown",
   "metadata": {
    "deletable": true,
    "editable": true
   },
   "source": [
    "load를 이용하여 파일에서 읽어서 파이썬 객체로 변환한다."
   ]
  },
  {
   "cell_type": "code",
   "execution_count": 11,
   "metadata": {
    "collapsed": false,
    "deletable": true,
    "editable": true
   },
   "outputs": [
    {
     "name": "stdout",
     "output_type": "stream",
     "text": [
      "{'list': [3, 4, 5], 'tuple': [1, 2, 3, 'python', 'rules']}\n"
     ]
    }
   ],
   "source": [
    "with open('test1.json') as f:\n",
    "    print(json.load(f))"
   ]
  },
  {
   "cell_type": "markdown",
   "metadata": {
    "deletable": true,
    "editable": true
   },
   "source": [
    "다음 예는 문자열 객체로 json을 다루는 dumps, loads의 활용 예이다."
   ]
  },
  {
   "cell_type": "code",
   "execution_count": 12,
   "metadata": {
    "collapsed": false,
    "deletable": true,
    "editable": true
   },
   "outputs": [
    {
     "data": {
      "text/plain": [
       "'{\"list\": [3, 4, 5], \"tuple\": [1, 2, 3, \"python\", \"rules\"]}'"
      ]
     },
     "execution_count": 12,
     "metadata": {},
     "output_type": "execute_result"
    }
   ],
   "source": [
    "s = json.dumps(d)\n",
    "s"
   ]
  },
  {
   "cell_type": "code",
   "execution_count": 13,
   "metadata": {
    "collapsed": false,
    "deletable": true,
    "editable": true
   },
   "outputs": [
    {
     "data": {
      "text/plain": [
       "{'list': [3, 4, 5], 'tuple': [1, 2, 3, 'python', 'rules']}"
      ]
     },
     "execution_count": 13,
     "metadata": {},
     "output_type": "execute_result"
    }
   ],
   "source": [
    "json.loads(s)"
   ]
  },
  {
   "cell_type": "markdown",
   "metadata": {
    "deletable": true,
    "editable": true
   },
   "source": [
    "### 9.2.1 지오코딩(Geocoding)\n",
    "\n",
    "지오코딩은 주소를 지리적 좌표로 변환하는 프로세스이다.\n",
    "구글에서는 지오코딩 api를 제공하고 있다. 다음 링크를 따라가면 api 문서를 확인할 수 있다.\n",
    "\n",
    " * https://developers.google.com/maps/documentation/geocoding/\n",
    " "
   ]
  },
  {
   "cell_type": "code",
   "execution_count": 14,
   "metadata": {
    "collapsed": false,
    "deletable": true,
    "editable": true
   },
   "outputs": [
    {
     "name": "stdout",
     "output_type": "stream",
     "text": [
      "{\n",
      "   \"results\" : [\n",
      "      {\n",
      "         \"address_components\" : [\n",
      "            {\n",
      "               \"long_name\" : \"110\",\n",
      "               \"short_name\" : \"110\",\n",
      "               \"types\" : [ \"political\", \"premise\" ]\n",
      "            },\n",
      "            {\n",
      "               \"long_name\" : \"Sejong-daero\",\n",
      "               \"short_name\" : \"Sejong-daero\",\n",
      "               \"types\" : [ \"political\", \"sublocality\", \"sublocality_level_4\" ]\n",
      "            },\n",
      "            {\n",
      "               \"long_name\" : \"Taepyeongno 1(il)-ga\",\n",
      "               \"short_name\" : \"Taepyeongno 1(il)-ga\",\n",
      "               \"types\" : [ \"political\", \"sublocality\", \"sublocality_level_2\" ]\n",
      "            },\n",
      "            {\n",
      "               \"long_name\" : \"Jung-gu\",\n",
      "               \"short_name\" : \"Jung-gu\",\n",
      "               \"types\" : [ \"political\", \"sublocality\", \"sublocality_level_1\" ]\n",
      "            },\n",
      "            {\n",
      "               \"long_name\" : \"Seoul\",\n",
      "               \"short_name\" : \"Seoul\",\n",
      "               \"types\" : [ \"administrative_area_level_1\", \"political\" ]\n",
      "            },\n",
      "            {\n",
      "               \"long_name\" : \"South Korea\",\n",
      "               \"short_name\" : \"KR\",\n",
      "               \"types\" : [ \"country\", \"political\" ]\n",
      "            },\n",
      "            {\n",
      "               \"long_name\" : \"100-101\",\n",
      "               \"short_name\" : \"100-101\",\n",
      "               \"types\" : [ \"postal_code\" ]\n",
      "            }\n",
      "         ],\n",
      "         \"formatted_address\" : \"110 Sejong-daero, Taepyeongno 1(il)-ga, Jung-gu, Seoul, South Korea\",\n",
      "         \"geometry\" : {\n",
      "            \"location\" : {\n",
      "               \"lat\" : 37.5662952,\n",
      "               \"lng\" : 126.9779451\n",
      "            },\n",
      "            \"location_type\" : \"APPROXIMATE\",\n",
      "            \"viewport\" : {\n",
      "               \"northeast\" : {\n",
      "                  \"lat\" : 37.5676441802915,\n",
      "                  \"lng\" : 126.9792940802915\n",
      "               },\n",
      "               \"southwest\" : {\n",
      "                  \"lat\" : 37.5649462197085,\n",
      "                  \"lng\" : 126.9765961197085\n",
      "               }\n",
      "            }\n",
      "         },\n",
      "         \"place_id\" : \"ChIJKwjLMvOifDURqPAMQqxwK-k\",\n",
      "         \"types\" : [\n",
      "            \"city_hall\",\n",
      "            \"establishment\",\n",
      "            \"local_government_office\",\n",
      "            \"point_of_interest\"\n",
      "         ]\n",
      "      }\n",
      "   ],\n",
      "   \"status\" : \"OK\"\n",
      "}\n",
      "\n"
     ]
    }
   ],
   "source": [
    "# 서울시청\n",
    "\n",
    "import requests\n",
    "\n",
    "url = \"http://maps.googleapis.com/maps/api/geocode/json?address=%EC%84%9C%EC%9A%B8%EC%8B%9C%EC%B2%AD\"\n",
    "res = requests.get(url)\n",
    "print (res.text)"
   ]
  },
  {
   "cell_type": "markdown",
   "metadata": {
    "deletable": true,
    "editable": true
   },
   "source": [
    "서버에 요청을 보낼 때 'Accept-Language' 속성에 'ko'로 한글을 설정해주면 서버에서 한글로 정보를 보내준다."
   ]
  },
  {
   "cell_type": "code",
   "execution_count": 15,
   "metadata": {
    "collapsed": false,
    "deletable": true,
    "editable": true
   },
   "outputs": [
    {
     "name": "stdout",
     "output_type": "stream",
     "text": [
      "{\n",
      "   \"results\" : [\n",
      "      {\n",
      "         \"address_components\" : [\n",
      "            {\n",
      "               \"long_name\" : \"110\",\n",
      "               \"short_name\" : \"110\",\n",
      "               \"types\" : [ \"political\", \"premise\" ]\n",
      "            },\n",
      "            {\n",
      "               \"long_name\" : \"세종대로\",\n",
      "               \"short_name\" : \"세종대로\",\n",
      "               \"types\" : [ \"political\", \"sublocality\", \"sublocality_level_4\" ]\n",
      "            },\n",
      "            {\n",
      "               \"long_name\" : \"태평로1가\",\n",
      "               \"short_name\" : \"태평로1가\",\n",
      "               \"types\" : [ \"political\", \"sublocality\", \"sublocality_level_2\" ]\n",
      "            },\n",
      "            {\n",
      "               \"long_name\" : \"중구\",\n",
      "               \"short_name\" : \"중구\",\n",
      "               \"types\" : [ \"political\", \"sublocality\", \"sublocality_level_1\" ]\n",
      "            },\n",
      "            {\n",
      "               \"long_name\" : \"서울특별시\",\n",
      "               \"short_name\" : \"서울특별시\",\n",
      "               \"types\" : [ \"administrative_area_level_1\", \"political\" ]\n",
      "            },\n",
      "            {\n",
      "               \"long_name\" : \"대한민국\",\n",
      "               \"short_name\" : \"KR\",\n",
      "               \"types\" : [ \"country\", \"political\" ]\n",
      "            },\n",
      "            {\n",
      "               \"long_name\" : \"100-101\",\n",
      "               \"short_name\" : \"100-101\",\n",
      "               \"types\" : [ \"postal_code\" ]\n",
      "            }\n",
      "         ],\n",
      "         \"formatted_address\" : \"대한민국 서울특별시 중구 태평로1가 세종대로 110\",\n",
      "         \"geometry\" : {\n",
      "            \"location\" : {\n",
      "               \"lat\" : 37.5662952,\n",
      "               \"lng\" : 126.9779451\n",
      "            },\n",
      "            \"location_type\" : \"APPROXIMATE\",\n",
      "            \"viewport\" : {\n",
      "               \"northeast\" : {\n",
      "                  \"lat\" : 37.5676441802915,\n",
      "                  \"lng\" : 126.9792940802915\n",
      "               },\n",
      "               \"southwest\" : {\n",
      "                  \"lat\" : 37.5649462197085,\n",
      "                  \"lng\" : 126.9765961197085\n",
      "               }\n",
      "            }\n",
      "         },\n",
      "         \"place_id\" : \"ChIJKwjLMvOifDURqPAMQqxwK-k\",\n",
      "         \"types\" : [\n",
      "            \"city_hall\",\n",
      "            \"establishment\",\n",
      "            \"local_government_office\",\n",
      "            \"point_of_interest\"\n",
      "         ]\n",
      "      }\n",
      "   ],\n",
      "   \"status\" : \"OK\"\n",
      "}\n",
      "\n"
     ]
    }
   ],
   "source": [
    "# 한글 출력 받기..\n",
    "import requests\n",
    "\n",
    "url = 'http://maps.googleapis.com/maps/api/geocode/json'\n",
    "\n",
    "values = {'address' : '서울시청'}\n",
    "headers = {'Accept-Language':'ko'}\n",
    "\n",
    "res = requests.get(url, params=values, headers=headers)\n",
    "print (res.text)"
   ]
  },
  {
   "cell_type": "markdown",
   "metadata": {
    "deletable": true,
    "editable": true
   },
   "source": [
    "위에서 받은 결과는 문자열이다. res 응답 객체가 json이란 메서드를 가지고 있어서 직접 변환된 결과를 얻을 수 있다. "
   ]
  },
  {
   "cell_type": "code",
   "execution_count": 16,
   "metadata": {
    "collapsed": false,
    "deletable": true,
    "editable": true
   },
   "outputs": [],
   "source": [
    "d2 = res.json()"
   ]
  },
  {
   "cell_type": "markdown",
   "metadata": {
    "deletable": true,
    "editable": true
   },
   "source": [
    "`json` 파이썬 모듈을 이용하여 변환할 수도 있다."
   ]
  },
  {
   "cell_type": "code",
   "execution_count": 17,
   "metadata": {
    "collapsed": true,
    "deletable": true,
    "editable": true
   },
   "outputs": [],
   "source": [
    "import json\n",
    "\n",
    "d2 = json.loads(res.text)"
   ]
  },
  {
   "cell_type": "markdown",
   "metadata": {
    "deletable": true,
    "editable": true
   },
   "source": [
    "위도 경도를 추출해내는 코드를 아래에 보인다."
   ]
  },
  {
   "cell_type": "code",
   "execution_count": 18,
   "metadata": {
    "collapsed": false,
    "deletable": true,
    "editable": true
   },
   "outputs": [
    {
     "name": "stdout",
     "output_type": "stream",
     "text": [
      "대한민국 서울특별시 중구 태평로1가 세종대로 110 서울특별시청\n",
      "{'lng': 126.977963, 'lat': 37.56647}\n"
     ]
    }
   ],
   "source": [
    "print (d2['results'][0][\"formatted_address\"])\n",
    "print (d2['results'][0][\"geometry\"][\"location\"])"
   ]
  },
  {
   "cell_type": "markdown",
   "metadata": {
    "deletable": true,
    "editable": true
   },
   "source": [
    "구글 지도에서 이 좌표를 보려면 다음과 같이 주소를 만들어 startfile에 넘겨주면 된다."
   ]
  },
  {
   "cell_type": "code",
   "execution_count": 19,
   "metadata": {
    "collapsed": false,
    "deletable": true,
    "editable": true
   },
   "outputs": [],
   "source": [
    "import os\n",
    "\n",
    "loc = d2['results'][0][\"geometry\"][\"location\"]\n",
    "os.startfile('https://www.google.co.kr/maps/place/{},{}'.format(loc['lat'], loc['lng']))"
   ]
  },
  {
   "cell_type": "markdown",
   "metadata": {
    "deletable": true,
    "editable": true
   },
   "source": [
    "## 9.3 Apache Avro\n",
    "\n",
    "비교대상 프로토콜 : protocol buffer(PB) / Thrift\n",
    "\n",
    "PB\n",
    "\n",
    " * Google\n",
    " \n",
    "Apache Thrift\n",
    "\n",
    " * Facebook\n",
    " \n",
    "Thrift의 동작 원리\n",
    "\n",
    "<img src=\"img/thrift.png\" width=500>\n",
    "\n",
    "\n",
    "IDL(Interface Description Language)를 통한 자료 구조 정의\n",
    "\n",
    "<img src=\"img/IDL.png\" width=500>"
   ]
  },
  {
   "cell_type": "markdown",
   "metadata": {
    "deletable": true,
    "editable": true
   },
   "source": [
    "Avro\n",
    "\n",
    " * 가장 최신의 직렬화 시스템\n",
    " * 스키마 기반 시스템\n",
    " * 데이터 생성시 스키마 포함되어 함께 전송\n",
    " * 소스 코드를 별도로 생성할 필요 없음\n",
    " * 데이터 구조 선언할 때 JSON 사용\n"
   ]
  },
  {
   "cell_type": "code",
   "execution_count": 18,
   "metadata": {
    "collapsed": false,
    "deletable": true,
    "editable": true
   },
   "outputs": [
    {
     "name": "stdout",
     "output_type": "stream",
     "text": [
      "Collecting avro_python3\n",
      "  Downloading avro-python3-1.8.1.tar.gz\n",
      "    Complete output from command python setup.py egg_info:\n",
      "    Traceback (most recent call last):\n",
      "      File \"<string>\", line 1, in <module>\n",
      "      File \"/tmp/pip-build-HlAcvY/avro-python3/setup.py\", line 152, in <module>\n",
      "        Main()\n",
      "      File \"/tmp/pip-build-HlAcvY/avro-python3/setup.py\", line 114, in Main\n",
      "        ('Python version >= 3 required, got %r' % sys.version_info)\n",
      "    AssertionError: Python version >= 3 required, got sys.version_info(major=2, minor=7, micro=12, releaselevel='final', serial=0)\n",
      "    \n",
      "    ----------------------------------------\n",
      "\u001b[31mCommand \"python setup.py egg_info\" failed with error code 1 in /tmp/pip-build-HlAcvY/avro-python3/\u001b[0m\n"
     ]
    }
   ],
   "source": [
    "!pip install avro_python3"
   ]
  },
  {
   "cell_type": "markdown",
   "metadata": {
    "deletable": true,
    "editable": true
   },
   "source": [
    "### 9.3.1 schema 정의\n"
   ]
  },
  {
   "cell_type": "code",
   "execution_count": 22,
   "metadata": {
    "collapsed": false,
    "deletable": true,
    "editable": true
   },
   "outputs": [
    {
     "name": "stdout",
     "output_type": "stream",
     "text": [
      "Overwriting user.avsc\n"
     ]
    }
   ],
   "source": [
    "%%file user.avsc\n",
    "{\"namespace\": \"example.avro\",\n",
    " \"type\": \"record\",\n",
    " \"name\": \"User\",\n",
    " \"fields\": [\n",
    "     {\"name\": \"name\", \"type\": \"string\"},\n",
    "     {\"name\": \"favorite_number\",  \"type\": [\"int\", \"null\"]},\n",
    "     {\"name\": \"favorite_color\", \"type\": [\"string\", \"null\"]}\n",
    " ]\n",
    "}"
   ]
  },
  {
   "cell_type": "markdown",
   "metadata": {
    "deletable": true,
    "editable": true
   },
   "source": [
    " * `type` : 스키마 최상위 일 경우 항상 `'record'`\n",
    " * `namespace` : 스키마 구분하기 위한 URI\n",
    " * `name` : namespace와 결합되는 스키마 이름\n",
    "  * 위 예에서 스키마의 fully qualified name 은 `example.avro.User` 이다.\n",
    " * `fields` : 실제 스키마 정의 시작"
   ]
  },
  {
   "cell_type": "markdown",
   "metadata": {
    "deletable": true,
    "editable": true
   },
   "source": [
    "### 9.3.2 Serialization\n"
   ]
  },
  {
   "cell_type": "code",
   "execution_count": 23,
   "metadata": {
    "collapsed": true,
    "deletable": true,
    "editable": true
   },
   "outputs": [],
   "source": [
    "import avro.schema\n",
    "from avro.datafile import DataFileReader, DataFileWriter\n",
    "from avro.io import DatumReader, DatumWriter\n",
    "\n",
    "schema = avro.schema.Parse(open(\"user.avsc\").read())\n",
    "\n",
    "writer = DataFileWriter(open(\"users.avro\", \"wb\"), DatumWriter(), schema)\n",
    "writer.append({\"name\": \"Alyssa\", \"favorite_number\": 256})\n",
    "writer.append({\"name\": \"이강성\", \"favorite_number\": 7, \"favorite_color\": \"파랑\"})\n",
    "writer.close()"
   ]
  },
  {
   "cell_type": "markdown",
   "metadata": {
    "deletable": true,
    "editable": true
   },
   "source": [
    "### 9.3.3 Deserialization\n"
   ]
  },
  {
   "cell_type": "code",
   "execution_count": 24,
   "metadata": {
    "collapsed": false,
    "deletable": true,
    "editable": true
   },
   "outputs": [
    {
     "name": "stdout",
     "output_type": "stream",
     "text": [
      "{'favorite_color': None, 'name': 'Alyssa', 'favorite_number': 256}\n",
      "{'favorite_color': '파랑', 'name': '이강성', 'favorite_number': 7}\n"
     ]
    }
   ],
   "source": [
    "import avro.schema\n",
    "from avro.datafile import DataFileReader, DataFileWriter\n",
    "from avro.io import DatumReader, DatumWriter\n",
    "\n",
    "reader = DataFileReader(open(\"users.avro\", \"rb\"), DatumReader())\n",
    "for user in reader:\n",
    "    print(user)\n",
    "reader.close()"
   ]
  },
  {
   "cell_type": "markdown",
   "metadata": {
    "deletable": true,
    "editable": true
   },
   "source": [
    "## 9.4 CSV\n",
    "\n",
    "CSV(comma-separated values) 파일은 쉼표(,)로 구분되는 텍스트 데이터 파일이다. \n",
    "CSV는 단순하고 운영체제나 프로그램에 의존하지 않으므로 많은 자료들이 csv 형식으로 이루어져 있고 보편적으로 많이 사용된다.\n",
    "CSV 파일을 읽거나 분석하는데 여러 방법이 있긴 하지만 pandas 모듈이 가장 편리하다. 예제로 사용할 1024년 날씨 파일(기후자료_2014_108.csv)의 앞 부분을 살펴보자. 이 파일은 2014년 1월 1일 0시 부터 2014년 12월 31일 23시까지 1시간 간격으로 측정한 자료이다."
   ]
  },
  {
   "cell_type": "raw",
   "metadata": {
    "deletable": true,
    "editable": true
   },
   "source": [
    "관측분야 : 지상기상관측\n",
    "조회기간 : 임의기간(시별): 2014-01-01 00시 ~ 2014-12-31 23시\n",
    "관측지점 : 서울(108)\n",
    "출력기후요소 : 기온,강수량,풍속,해면기압,풍향\n",
    "\n",
    "지점번호,지점,일시,기온 (℃),시간강수량 (mm),풍향 (deg),풍속 (m/s),해면기압 (hPa),원시자료\n",
    "108,서울,2014-01-01 00,3.3,,250.0,3.8,1012.5,\n",
    "108,서울,2014-01-01 01,2.6,,250.0,2.3,1012.9,\n",
    "108,서울,2014-01-01 02,1.7,,250.0,1.7,1013.1,\n",
    "108,서울,2014-01-01 03,1.4,,250.0,1.4,1012.9,\n",
    "108,서울,2014-01-01 04,0.9,,270.0,2.8,1013.2,\n",
    "108,서울,2014-01-01 05,0.6,,270.0,2.0,1012.8,\n",
    "108,서울,2014-01-01 06,0.7,,230.0,2.3,1012.8,"
   ]
  },
  {
   "cell_type": "markdown",
   "metadata": {
    "deletable": true,
    "editable": true
   },
   "source": [
    "앞 부분에 5줄의 설명 정보가 있고 6번째 줄은 데이터의 헤더 정보 그리고 7번째 줄부터는 실제 데이터가 저장되어 있다."
   ]
  },
  {
   "cell_type": "markdown",
   "metadata": {
    "deletable": true,
    "editable": true
   },
   "source": [
    "### 9.4.1 읽어오기\n",
    "Pandas 모듈은 파이썬 데이터 분석 모듈이다.\n",
    "Pandas를 이용한 처리 예를 살펴보자.\n",
    "\n",
    "`read_csv`를 이용하여 파일을 읽는다. 앞의 의미없는 다섯 줄은 건너뛰고 읽기 위해 `skiprows` 옵션을 추가했다.\n",
    "`DataFrame` 자료가 반환된다."
   ]
  },
  {
   "cell_type": "code",
   "execution_count": 25,
   "metadata": {
    "collapsed": false,
    "deletable": true,
    "editable": true
   },
   "outputs": [],
   "source": [
    "import pandas as pd"
   ]
  },
  {
   "cell_type": "code",
   "execution_count": 26,
   "metadata": {
    "collapsed": false,
    "deletable": true,
    "editable": true
   },
   "outputs": [
    {
     "data": {
      "text/plain": [
       "pandas.core.frame.DataFrame"
      ]
     },
     "execution_count": 26,
     "metadata": {},
     "output_type": "execute_result"
    }
   ],
   "source": [
    "df = pd.read_csv('data/기후자료_2014_108.csv', skiprows=5)\n",
    "type(df)"
   ]
  },
  {
   "cell_type": "markdown",
   "metadata": {
    "deletable": true,
    "editable": true
   },
   "source": [
    "`DataFrame`은 2차원의 자료를 저장하며, 변경가능하고, 다른 종류의 데이터를 포함할 수 있는 구조이다.\n",
    "행과 열은 이름을 가지고 있다. 1차원 데이터를 표현하는 열 데이터(`Series`)가 모여서 `DataFrame`을 구성한다고 볼 수 있으며, `pandas`의 가장 기본적인 자료구조이다."
   ]
  },
  {
   "cell_type": "markdown",
   "metadata": {
    "deletable": true,
    "editable": true
   },
   "source": [
    "### 9.4.2 기본 조작\n",
    "\n",
    "`head()` 메서드를 이용하여 `df`의 앞 부분 정보를 출력해보자.\n",
    "`NaN`은 Not a number의 의미로 데이터가 정의되지 않았거나 수치값이 정의되지 않았다는 뜻이다. "
   ]
  },
  {
   "cell_type": "code",
   "execution_count": 27,
   "metadata": {
    "collapsed": false,
    "deletable": true,
    "editable": true
   },
   "outputs": [
    {
     "data": {
      "text/html": [
       "<div>\n",
       "<table border=\"1\" class=\"dataframe\">\n",
       "  <thead>\n",
       "    <tr style=\"text-align: right;\">\n",
       "      <th></th>\n",
       "      <th>지점번호</th>\n",
       "      <th>지점</th>\n",
       "      <th>일시</th>\n",
       "      <th>기온 (℃)</th>\n",
       "      <th>시간강수량 (mm)</th>\n",
       "      <th>풍향 (deg)</th>\n",
       "      <th>풍속 (m/s)</th>\n",
       "      <th>해면기압 (hPa)</th>\n",
       "      <th>원시자료</th>\n",
       "    </tr>\n",
       "  </thead>\n",
       "  <tbody>\n",
       "    <tr>\n",
       "      <th>0</th>\n",
       "      <td>108</td>\n",
       "      <td>서울</td>\n",
       "      <td>2014-01-01 00</td>\n",
       "      <td>3.3</td>\n",
       "      <td>NaN</td>\n",
       "      <td>250.0</td>\n",
       "      <td>3.8</td>\n",
       "      <td>1012.5</td>\n",
       "      <td>NaN</td>\n",
       "    </tr>\n",
       "    <tr>\n",
       "      <th>1</th>\n",
       "      <td>108</td>\n",
       "      <td>서울</td>\n",
       "      <td>2014-01-01 01</td>\n",
       "      <td>2.6</td>\n",
       "      <td>NaN</td>\n",
       "      <td>250.0</td>\n",
       "      <td>2.3</td>\n",
       "      <td>1012.9</td>\n",
       "      <td>NaN</td>\n",
       "    </tr>\n",
       "    <tr>\n",
       "      <th>2</th>\n",
       "      <td>108</td>\n",
       "      <td>서울</td>\n",
       "      <td>2014-01-01 02</td>\n",
       "      <td>1.7</td>\n",
       "      <td>NaN</td>\n",
       "      <td>250.0</td>\n",
       "      <td>1.7</td>\n",
       "      <td>1013.1</td>\n",
       "      <td>NaN</td>\n",
       "    </tr>\n",
       "    <tr>\n",
       "      <th>3</th>\n",
       "      <td>108</td>\n",
       "      <td>서울</td>\n",
       "      <td>2014-01-01 03</td>\n",
       "      <td>1.4</td>\n",
       "      <td>NaN</td>\n",
       "      <td>250.0</td>\n",
       "      <td>1.4</td>\n",
       "      <td>1012.9</td>\n",
       "      <td>NaN</td>\n",
       "    </tr>\n",
       "    <tr>\n",
       "      <th>4</th>\n",
       "      <td>108</td>\n",
       "      <td>서울</td>\n",
       "      <td>2014-01-01 04</td>\n",
       "      <td>0.9</td>\n",
       "      <td>NaN</td>\n",
       "      <td>270.0</td>\n",
       "      <td>2.8</td>\n",
       "      <td>1013.2</td>\n",
       "      <td>NaN</td>\n",
       "    </tr>\n",
       "  </tbody>\n",
       "</table>\n",
       "</div>"
      ],
      "text/plain": [
       "   지점번호  지점             일시  기온 (℃)  시간강수량 (mm)  풍향 (deg)  풍속 (m/s)  \\\n",
       "0   108  서울  2014-01-01 00     3.3         NaN     250.0       3.8   \n",
       "1   108  서울  2014-01-01 01     2.6         NaN     250.0       2.3   \n",
       "2   108  서울  2014-01-01 02     1.7         NaN     250.0       1.7   \n",
       "3   108  서울  2014-01-01 03     1.4         NaN     250.0       1.4   \n",
       "4   108  서울  2014-01-01 04     0.9         NaN     270.0       2.8   \n",
       "\n",
       "   해면기압 (hPa)  원시자료  \n",
       "0      1012.5   NaN  \n",
       "1      1012.9   NaN  \n",
       "2      1013.1   NaN  \n",
       "3      1012.9   NaN  \n",
       "4      1013.2   NaN  "
      ]
     },
     "execution_count": 27,
     "metadata": {},
     "output_type": "execute_result"
    }
   ],
   "source": [
    "df.head()"
   ]
  },
  {
   "cell_type": "markdown",
   "metadata": {
    "deletable": true,
    "editable": true
   },
   "source": [
    "`DataFrame`을 직접 생성할 수도 있는데, 다음과 같이 자료는 열 단위로 표현된다. `index`는 행의 이름들이다."
   ]
  },
  {
   "cell_type": "code",
   "execution_count": 28,
   "metadata": {
    "collapsed": false,
    "deletable": true,
    "editable": true
   },
   "outputs": [
    {
     "data": {
      "text/html": [
       "<div>\n",
       "<table border=\"1\" class=\"dataframe\">\n",
       "  <thead>\n",
       "    <tr style=\"text-align: right;\">\n",
       "      <th></th>\n",
       "      <th>A</th>\n",
       "      <th>B</th>\n",
       "    </tr>\n",
       "  </thead>\n",
       "  <tbody>\n",
       "    <tr>\n",
       "      <th>Jan</th>\n",
       "      <td>a</td>\n",
       "      <td>54</td>\n",
       "    </tr>\n",
       "    <tr>\n",
       "      <th>Feb</th>\n",
       "      <td>b</td>\n",
       "      <td>67</td>\n",
       "    </tr>\n",
       "    <tr>\n",
       "      <th>Mar</th>\n",
       "      <td>c</td>\n",
       "      <td>89</td>\n",
       "    </tr>\n",
       "  </tbody>\n",
       "</table>\n",
       "</div>"
      ],
      "text/plain": [
       "     A   B\n",
       "Jan  a  54\n",
       "Feb  b  67\n",
       "Mar  c  89"
      ]
     },
     "execution_count": 28,
     "metadata": {},
     "output_type": "execute_result"
    }
   ],
   "source": [
    "df_sample = pd.DataFrame({'A':['a', 'b', 'c'], 'B':[54, 67, 89]}, index=['Jan', 'Feb', 'Mar'])\n",
    "df_sample"
   ]
  },
  {
   "cell_type": "markdown",
   "metadata": {
    "deletable": true,
    "editable": true
   },
   "source": [
    "각 행과 열은 이름으로 접근 가능하다."
   ]
  },
  {
   "cell_type": "code",
   "execution_count": 29,
   "metadata": {
    "collapsed": false,
    "deletable": true,
    "editable": true
   },
   "outputs": [
    {
     "data": {
      "text/plain": [
       "Jan    a\n",
       "Feb    b\n",
       "Mar    c\n",
       "Name: A, dtype: object"
      ]
     },
     "execution_count": 29,
     "metadata": {},
     "output_type": "execute_result"
    }
   ],
   "source": [
    "df_sample['A']   # 열"
   ]
  },
  {
   "cell_type": "code",
   "execution_count": 30,
   "metadata": {
    "collapsed": false,
    "deletable": true,
    "editable": true
   },
   "outputs": [
    {
     "data": {
      "text/plain": [
       "A     a\n",
       "B    54\n",
       "Name: Jan, dtype: object"
      ]
     },
     "execution_count": 30,
     "metadata": {},
     "output_type": "execute_result"
    }
   ],
   "source": [
    "df_sample.loc['Jan']  # 행"
   ]
  },
  {
   "cell_type": "markdown",
   "metadata": {
    "deletable": true,
    "editable": true
   },
   "source": [
    "열 자료형은 `Series`이다."
   ]
  },
  {
   "cell_type": "code",
   "execution_count": 31,
   "metadata": {
    "collapsed": false,
    "deletable": true,
    "editable": true
   },
   "outputs": [
    {
     "data": {
      "text/plain": [
       "pandas.core.series.Series"
      ]
     },
     "execution_count": 31,
     "metadata": {},
     "output_type": "execute_result"
    }
   ],
   "source": [
    "col = df_sample['A']\n",
    "type(col)"
   ]
  },
  {
   "cell_type": "markdown",
   "metadata": {
    "deletable": true,
    "editable": true
   },
   "source": [
    "`Series` 자료형도 행의 레이블을 갖는다."
   ]
  },
  {
   "cell_type": "code",
   "execution_count": 32,
   "metadata": {
    "collapsed": false,
    "deletable": true,
    "editable": true
   },
   "outputs": [
    {
     "data": {
      "text/plain": [
       "Jan    a\n",
       "Feb    b\n",
       "Mar    c\n",
       "Name: A, dtype: object"
      ]
     },
     "execution_count": 32,
     "metadata": {},
     "output_type": "execute_result"
    }
   ],
   "source": [
    "col"
   ]
  },
  {
   "cell_type": "markdown",
   "metadata": {
    "deletable": true,
    "editable": true
   },
   "source": [
    "`DataFrame`의 `describe()` 메서드는 다양한 기본 통계 값을 요약해준다. `NaN` 값은 통계에서 제외된다."
   ]
  },
  {
   "cell_type": "code",
   "execution_count": 33,
   "metadata": {
    "collapsed": false,
    "deletable": true,
    "editable": true
   },
   "outputs": [
    {
     "data": {
      "text/html": [
       "<div>\n",
       "<table border=\"1\" class=\"dataframe\">\n",
       "  <thead>\n",
       "    <tr style=\"text-align: right;\">\n",
       "      <th></th>\n",
       "      <th>지점번호</th>\n",
       "      <th>기온 (℃)</th>\n",
       "      <th>시간강수량 (mm)</th>\n",
       "      <th>풍향 (deg)</th>\n",
       "      <th>풍속 (m/s)</th>\n",
       "      <th>해면기압 (hPa)</th>\n",
       "      <th>원시자료</th>\n",
       "    </tr>\n",
       "  </thead>\n",
       "  <tbody>\n",
       "    <tr>\n",
       "      <th>count</th>\n",
       "      <td>8777.0</td>\n",
       "      <td>8765.000000</td>\n",
       "      <td>793.000000</td>\n",
       "      <td>8764.000000</td>\n",
       "      <td>8764.000000</td>\n",
       "      <td>8761.000000</td>\n",
       "      <td>0.0</td>\n",
       "    </tr>\n",
       "    <tr>\n",
       "      <th>mean</th>\n",
       "      <td>108.0</td>\n",
       "      <td>13.391455</td>\n",
       "      <td>1.021311</td>\n",
       "      <td>182.609995</td>\n",
       "      <td>2.657360</td>\n",
       "      <td>1016.403093</td>\n",
       "      <td>NaN</td>\n",
       "    </tr>\n",
       "    <tr>\n",
       "      <th>std</th>\n",
       "      <td>0.0</td>\n",
       "      <td>10.679563</td>\n",
       "      <td>2.475932</td>\n",
       "      <td>109.460836</td>\n",
       "      <td>1.426319</td>\n",
       "      <td>8.408304</td>\n",
       "      <td>NaN</td>\n",
       "    </tr>\n",
       "    <tr>\n",
       "      <th>min</th>\n",
       "      <td>108.0</td>\n",
       "      <td>-13.100000</td>\n",
       "      <td>0.000000</td>\n",
       "      <td>0.000000</td>\n",
       "      <td>0.000000</td>\n",
       "      <td>993.800000</td>\n",
       "      <td>NaN</td>\n",
       "    </tr>\n",
       "    <tr>\n",
       "      <th>25%</th>\n",
       "      <td>108.0</td>\n",
       "      <td>4.400000</td>\n",
       "      <td>0.000000</td>\n",
       "      <td>70.000000</td>\n",
       "      <td>1.600000</td>\n",
       "      <td>1009.600000</td>\n",
       "      <td>NaN</td>\n",
       "    </tr>\n",
       "    <tr>\n",
       "      <th>50%</th>\n",
       "      <td>108.0</td>\n",
       "      <td>14.700000</td>\n",
       "      <td>0.100000</td>\n",
       "      <td>230.000000</td>\n",
       "      <td>2.500000</td>\n",
       "      <td>1016.600000</td>\n",
       "      <td>NaN</td>\n",
       "    </tr>\n",
       "    <tr>\n",
       "      <th>75%</th>\n",
       "      <td>108.0</td>\n",
       "      <td>22.500000</td>\n",
       "      <td>1.000000</td>\n",
       "      <td>270.000000</td>\n",
       "      <td>3.500000</td>\n",
       "      <td>1022.800000</td>\n",
       "      <td>NaN</td>\n",
       "    </tr>\n",
       "    <tr>\n",
       "      <th>max</th>\n",
       "      <td>108.0</td>\n",
       "      <td>35.700000</td>\n",
       "      <td>26.000000</td>\n",
       "      <td>360.000000</td>\n",
       "      <td>10.500000</td>\n",
       "      <td>1037.500000</td>\n",
       "      <td>NaN</td>\n",
       "    </tr>\n",
       "  </tbody>\n",
       "</table>\n",
       "</div>"
      ],
      "text/plain": [
       "         지점번호       기온 (℃)  시간강수량 (mm)     풍향 (deg)     풍속 (m/s)   해면기압 (hPa)  \\\n",
       "count  8777.0  8765.000000  793.000000  8764.000000  8764.000000  8761.000000   \n",
       "mean    108.0    13.391455    1.021311   182.609995     2.657360  1016.403093   \n",
       "std       0.0    10.679563    2.475932   109.460836     1.426319     8.408304   \n",
       "min     108.0   -13.100000    0.000000     0.000000     0.000000   993.800000   \n",
       "25%     108.0     4.400000    0.000000    70.000000     1.600000  1009.600000   \n",
       "50%     108.0    14.700000    0.100000   230.000000     2.500000  1016.600000   \n",
       "75%     108.0    22.500000    1.000000   270.000000     3.500000  1022.800000   \n",
       "max     108.0    35.700000   26.000000   360.000000    10.500000  1037.500000   \n",
       "\n",
       "       원시자료  \n",
       "count   0.0  \n",
       "mean    NaN  \n",
       "std     NaN  \n",
       "min     NaN  \n",
       "25%     NaN  \n",
       "50%     NaN  \n",
       "75%     NaN  \n",
       "max     NaN  "
      ]
     },
     "execution_count": 33,
     "metadata": {},
     "output_type": "execute_result"
    }
   ],
   "source": [
    "df.describe()"
   ]
  },
  {
   "cell_type": "markdown",
   "metadata": {
    "deletable": true,
    "editable": true
   },
   "source": [
    "이 중에서 '원시자료' 열은 의미가 없으므로 삭제하자."
   ]
  },
  {
   "cell_type": "code",
   "execution_count": 34,
   "metadata": {
    "collapsed": true,
    "deletable": true,
    "editable": true
   },
   "outputs": [],
   "source": [
    "del df['원시자료']"
   ]
  },
  {
   "cell_type": "markdown",
   "metadata": {
    "deletable": true,
    "editable": true
   },
   "source": [
    "열이 삭제된 것을 확인한다. "
   ]
  },
  {
   "cell_type": "code",
   "execution_count": 35,
   "metadata": {
    "collapsed": false,
    "deletable": true,
    "editable": true
   },
   "outputs": [
    {
     "data": {
      "text/html": [
       "<div>\n",
       "<table border=\"1\" class=\"dataframe\">\n",
       "  <thead>\n",
       "    <tr style=\"text-align: right;\">\n",
       "      <th></th>\n",
       "      <th>지점번호</th>\n",
       "      <th>지점</th>\n",
       "      <th>일시</th>\n",
       "      <th>기온 (℃)</th>\n",
       "      <th>시간강수량 (mm)</th>\n",
       "      <th>풍향 (deg)</th>\n",
       "      <th>풍속 (m/s)</th>\n",
       "      <th>해면기압 (hPa)</th>\n",
       "    </tr>\n",
       "  </thead>\n",
       "  <tbody>\n",
       "    <tr>\n",
       "      <th>0</th>\n",
       "      <td>108</td>\n",
       "      <td>서울</td>\n",
       "      <td>2014-01-01 00</td>\n",
       "      <td>3.3</td>\n",
       "      <td>NaN</td>\n",
       "      <td>250.0</td>\n",
       "      <td>3.8</td>\n",
       "      <td>1012.5</td>\n",
       "    </tr>\n",
       "    <tr>\n",
       "      <th>1</th>\n",
       "      <td>108</td>\n",
       "      <td>서울</td>\n",
       "      <td>2014-01-01 01</td>\n",
       "      <td>2.6</td>\n",
       "      <td>NaN</td>\n",
       "      <td>250.0</td>\n",
       "      <td>2.3</td>\n",
       "      <td>1012.9</td>\n",
       "    </tr>\n",
       "    <tr>\n",
       "      <th>2</th>\n",
       "      <td>108</td>\n",
       "      <td>서울</td>\n",
       "      <td>2014-01-01 02</td>\n",
       "      <td>1.7</td>\n",
       "      <td>NaN</td>\n",
       "      <td>250.0</td>\n",
       "      <td>1.7</td>\n",
       "      <td>1013.1</td>\n",
       "    </tr>\n",
       "    <tr>\n",
       "      <th>3</th>\n",
       "      <td>108</td>\n",
       "      <td>서울</td>\n",
       "      <td>2014-01-01 03</td>\n",
       "      <td>1.4</td>\n",
       "      <td>NaN</td>\n",
       "      <td>250.0</td>\n",
       "      <td>1.4</td>\n",
       "      <td>1012.9</td>\n",
       "    </tr>\n",
       "    <tr>\n",
       "      <th>4</th>\n",
       "      <td>108</td>\n",
       "      <td>서울</td>\n",
       "      <td>2014-01-01 04</td>\n",
       "      <td>0.9</td>\n",
       "      <td>NaN</td>\n",
       "      <td>270.0</td>\n",
       "      <td>2.8</td>\n",
       "      <td>1013.2</td>\n",
       "    </tr>\n",
       "  </tbody>\n",
       "</table>\n",
       "</div>"
      ],
      "text/plain": [
       "   지점번호  지점             일시  기온 (℃)  시간강수량 (mm)  풍향 (deg)  풍속 (m/s)  해면기압 (hPa)\n",
       "0   108  서울  2014-01-01 00     3.3         NaN     250.0       3.8      1012.5\n",
       "1   108  서울  2014-01-01 01     2.6         NaN     250.0       2.3      1012.9\n",
       "2   108  서울  2014-01-01 02     1.7         NaN     250.0       1.7      1013.1\n",
       "3   108  서울  2014-01-01 03     1.4         NaN     250.0       1.4      1012.9\n",
       "4   108  서울  2014-01-01 04     0.9         NaN     270.0       2.8      1013.2"
      ]
     },
     "execution_count": 35,
     "metadata": {},
     "output_type": "execute_result"
    }
   ],
   "source": [
    "df.head()"
   ]
  },
  {
   "cell_type": "markdown",
   "metadata": {
    "deletable": true,
    "editable": true
   },
   "source": [
    "열 이름을 입력하기가 어려우므로 열 이름을 단순하게 변경하기로 한다."
   ]
  },
  {
   "cell_type": "code",
   "execution_count": 36,
   "metadata": {
    "collapsed": true,
    "deletable": true,
    "editable": true
   },
   "outputs": [],
   "source": [
    "df.columns = ['지점번호', '지점', '일시', '기온', '시간강수량', '풍향', '풍속', '해면기압']"
   ]
  },
  {
   "cell_type": "markdown",
   "metadata": {
    "deletable": true,
    "editable": true
   },
   "source": [
    "변경된 열 이름을 확인해본다."
   ]
  },
  {
   "cell_type": "code",
   "execution_count": 37,
   "metadata": {
    "collapsed": false,
    "deletable": true,
    "editable": true
   },
   "outputs": [
    {
     "data": {
      "text/html": [
       "<div>\n",
       "<table border=\"1\" class=\"dataframe\">\n",
       "  <thead>\n",
       "    <tr style=\"text-align: right;\">\n",
       "      <th></th>\n",
       "      <th>지점번호</th>\n",
       "      <th>지점</th>\n",
       "      <th>일시</th>\n",
       "      <th>기온</th>\n",
       "      <th>시간강수량</th>\n",
       "      <th>풍향</th>\n",
       "      <th>풍속</th>\n",
       "      <th>해면기압</th>\n",
       "    </tr>\n",
       "  </thead>\n",
       "  <tbody>\n",
       "    <tr>\n",
       "      <th>0</th>\n",
       "      <td>108</td>\n",
       "      <td>서울</td>\n",
       "      <td>2014-01-01 00</td>\n",
       "      <td>3.3</td>\n",
       "      <td>NaN</td>\n",
       "      <td>250.0</td>\n",
       "      <td>3.8</td>\n",
       "      <td>1012.5</td>\n",
       "    </tr>\n",
       "    <tr>\n",
       "      <th>1</th>\n",
       "      <td>108</td>\n",
       "      <td>서울</td>\n",
       "      <td>2014-01-01 01</td>\n",
       "      <td>2.6</td>\n",
       "      <td>NaN</td>\n",
       "      <td>250.0</td>\n",
       "      <td>2.3</td>\n",
       "      <td>1012.9</td>\n",
       "    </tr>\n",
       "    <tr>\n",
       "      <th>2</th>\n",
       "      <td>108</td>\n",
       "      <td>서울</td>\n",
       "      <td>2014-01-01 02</td>\n",
       "      <td>1.7</td>\n",
       "      <td>NaN</td>\n",
       "      <td>250.0</td>\n",
       "      <td>1.7</td>\n",
       "      <td>1013.1</td>\n",
       "    </tr>\n",
       "    <tr>\n",
       "      <th>3</th>\n",
       "      <td>108</td>\n",
       "      <td>서울</td>\n",
       "      <td>2014-01-01 03</td>\n",
       "      <td>1.4</td>\n",
       "      <td>NaN</td>\n",
       "      <td>250.0</td>\n",
       "      <td>1.4</td>\n",
       "      <td>1012.9</td>\n",
       "    </tr>\n",
       "    <tr>\n",
       "      <th>4</th>\n",
       "      <td>108</td>\n",
       "      <td>서울</td>\n",
       "      <td>2014-01-01 04</td>\n",
       "      <td>0.9</td>\n",
       "      <td>NaN</td>\n",
       "      <td>270.0</td>\n",
       "      <td>2.8</td>\n",
       "      <td>1013.2</td>\n",
       "    </tr>\n",
       "  </tbody>\n",
       "</table>\n",
       "</div>"
      ],
      "text/plain": [
       "   지점번호  지점             일시   기온  시간강수량     풍향   풍속    해면기압\n",
       "0   108  서울  2014-01-01 00  3.3    NaN  250.0  3.8  1012.5\n",
       "1   108  서울  2014-01-01 01  2.6    NaN  250.0  2.3  1012.9\n",
       "2   108  서울  2014-01-01 02  1.7    NaN  250.0  1.7  1013.1\n",
       "3   108  서울  2014-01-01 03  1.4    NaN  250.0  1.4  1012.9\n",
       "4   108  서울  2014-01-01 04  0.9    NaN  270.0  2.8  1013.2"
      ]
     },
     "execution_count": 37,
     "metadata": {},
     "output_type": "execute_result"
    }
   ],
   "source": [
    "df.head()"
   ]
  },
  {
   "cell_type": "markdown",
   "metadata": {
    "deletable": true,
    "editable": true
   },
   "source": [
    "`NaN`을 0으로 채우기로 한다.\n",
    "데이터프레임 내부에 값을 변경하려면 inplace=True를 지정한다."
   ]
  },
  {
   "cell_type": "code",
   "execution_count": 38,
   "metadata": {
    "collapsed": false,
    "deletable": true,
    "editable": true
   },
   "outputs": [],
   "source": [
    "df['시간강수량'].fillna(0, inplace=True)"
   ]
  },
  {
   "cell_type": "markdown",
   "metadata": {
    "deletable": true,
    "editable": true
   },
   "source": [
    "변경 내용을 확인해본다."
   ]
  },
  {
   "cell_type": "code",
   "execution_count": 39,
   "metadata": {
    "collapsed": false,
    "deletable": true,
    "editable": true
   },
   "outputs": [
    {
     "data": {
      "text/html": [
       "<div>\n",
       "<table border=\"1\" class=\"dataframe\">\n",
       "  <thead>\n",
       "    <tr style=\"text-align: right;\">\n",
       "      <th></th>\n",
       "      <th>지점번호</th>\n",
       "      <th>지점</th>\n",
       "      <th>일시</th>\n",
       "      <th>기온</th>\n",
       "      <th>시간강수량</th>\n",
       "      <th>풍향</th>\n",
       "      <th>풍속</th>\n",
       "      <th>해면기압</th>\n",
       "    </tr>\n",
       "  </thead>\n",
       "  <tbody>\n",
       "    <tr>\n",
       "      <th>0</th>\n",
       "      <td>108</td>\n",
       "      <td>서울</td>\n",
       "      <td>2014-01-01 00</td>\n",
       "      <td>3.3</td>\n",
       "      <td>0.0</td>\n",
       "      <td>250.0</td>\n",
       "      <td>3.8</td>\n",
       "      <td>1012.5</td>\n",
       "    </tr>\n",
       "    <tr>\n",
       "      <th>1</th>\n",
       "      <td>108</td>\n",
       "      <td>서울</td>\n",
       "      <td>2014-01-01 01</td>\n",
       "      <td>2.6</td>\n",
       "      <td>0.0</td>\n",
       "      <td>250.0</td>\n",
       "      <td>2.3</td>\n",
       "      <td>1012.9</td>\n",
       "    </tr>\n",
       "    <tr>\n",
       "      <th>2</th>\n",
       "      <td>108</td>\n",
       "      <td>서울</td>\n",
       "      <td>2014-01-01 02</td>\n",
       "      <td>1.7</td>\n",
       "      <td>0.0</td>\n",
       "      <td>250.0</td>\n",
       "      <td>1.7</td>\n",
       "      <td>1013.1</td>\n",
       "    </tr>\n",
       "    <tr>\n",
       "      <th>3</th>\n",
       "      <td>108</td>\n",
       "      <td>서울</td>\n",
       "      <td>2014-01-01 03</td>\n",
       "      <td>1.4</td>\n",
       "      <td>0.0</td>\n",
       "      <td>250.0</td>\n",
       "      <td>1.4</td>\n",
       "      <td>1012.9</td>\n",
       "    </tr>\n",
       "    <tr>\n",
       "      <th>4</th>\n",
       "      <td>108</td>\n",
       "      <td>서울</td>\n",
       "      <td>2014-01-01 04</td>\n",
       "      <td>0.9</td>\n",
       "      <td>0.0</td>\n",
       "      <td>270.0</td>\n",
       "      <td>2.8</td>\n",
       "      <td>1013.2</td>\n",
       "    </tr>\n",
       "  </tbody>\n",
       "</table>\n",
       "</div>"
      ],
      "text/plain": [
       "   지점번호  지점             일시   기온  시간강수량     풍향   풍속    해면기압\n",
       "0   108  서울  2014-01-01 00  3.3    0.0  250.0  3.8  1012.5\n",
       "1   108  서울  2014-01-01 01  2.6    0.0  250.0  2.3  1012.9\n",
       "2   108  서울  2014-01-01 02  1.7    0.0  250.0  1.7  1013.1\n",
       "3   108  서울  2014-01-01 03  1.4    0.0  250.0  1.4  1012.9\n",
       "4   108  서울  2014-01-01 04  0.9    0.0  270.0  2.8  1013.2"
      ]
     },
     "execution_count": 39,
     "metadata": {},
     "output_type": "execute_result"
    }
   ],
   "source": [
    "df.head()"
   ]
  },
  {
   "cell_type": "markdown",
   "metadata": {
    "deletable": true,
    "editable": true
   },
   "source": [
    "### 9.4.3 열 단위 접근\n",
    "\n",
    "한 열(기온)만 추출해보자. `df.이름`, `df['이름']` 형식이 모두 가능하다."
   ]
  },
  {
   "cell_type": "code",
   "execution_count": 40,
   "metadata": {
    "collapsed": false,
    "deletable": true,
    "editable": true
   },
   "outputs": [
    {
     "data": {
      "text/html": [
       "<div>\n",
       "<table border=\"1\" class=\"dataframe\">\n",
       "  <thead>\n",
       "    <tr style=\"text-align: right;\">\n",
       "      <th></th>\n",
       "      <th>A</th>\n",
       "      <th>B</th>\n",
       "      <th>C</th>\n",
       "    </tr>\n",
       "  </thead>\n",
       "  <tbody>\n",
       "    <tr>\n",
       "      <th>Jan</th>\n",
       "      <td>a</td>\n",
       "      <td>54</td>\n",
       "      <td>0.2</td>\n",
       "    </tr>\n",
       "    <tr>\n",
       "      <th>Feb</th>\n",
       "      <td>b</td>\n",
       "      <td>67</td>\n",
       "      <td>0.3</td>\n",
       "    </tr>\n",
       "    <tr>\n",
       "      <th>Mar</th>\n",
       "      <td>c</td>\n",
       "      <td>89</td>\n",
       "      <td>0.7</td>\n",
       "    </tr>\n",
       "  </tbody>\n",
       "</table>\n",
       "</div>"
      ],
      "text/plain": [
       "     A   B    C\n",
       "Jan  a  54  0.2\n",
       "Feb  b  67  0.3\n",
       "Mar  c  89  0.7"
      ]
     },
     "execution_count": 40,
     "metadata": {},
     "output_type": "execute_result"
    }
   ],
   "source": [
    "df_sample = pd.DataFrame({'A':['a', 'b', 'c'], 'B':[54, 67, 89], \n",
    "                          'C':[0.2, 0.3, 0.7]}, index=['Jan', 'Feb', 'Mar'])\n",
    "df_sample"
   ]
  },
  {
   "cell_type": "code",
   "execution_count": 41,
   "metadata": {
    "collapsed": false,
    "deletable": true,
    "editable": true
   },
   "outputs": [
    {
     "data": {
      "text/plain": [
       "Jan    a\n",
       "Feb    b\n",
       "Mar    c\n",
       "Name: A, dtype: object"
      ]
     },
     "execution_count": 41,
     "metadata": {},
     "output_type": "execute_result"
    }
   ],
   "source": [
    "df_sample.A"
   ]
  },
  {
   "cell_type": "code",
   "execution_count": 42,
   "metadata": {
    "collapsed": false,
    "deletable": true,
    "editable": true
   },
   "outputs": [
    {
     "data": {
      "text/plain": [
       "Jan    a\n",
       "Feb    b\n",
       "Mar    c\n",
       "Name: A, dtype: object"
      ]
     },
     "execution_count": 42,
     "metadata": {},
     "output_type": "execute_result"
    }
   ],
   "source": [
    "df_sample['A']"
   ]
  },
  {
   "cell_type": "code",
   "execution_count": 43,
   "metadata": {
    "collapsed": false,
    "deletable": true,
    "editable": true
   },
   "outputs": [
    {
     "data": {
      "text/html": [
       "<div>\n",
       "<table border=\"1\" class=\"dataframe\">\n",
       "  <thead>\n",
       "    <tr style=\"text-align: right;\">\n",
       "      <th></th>\n",
       "      <th>A</th>\n",
       "      <th>C</th>\n",
       "    </tr>\n",
       "  </thead>\n",
       "  <tbody>\n",
       "    <tr>\n",
       "      <th>Jan</th>\n",
       "      <td>a</td>\n",
       "      <td>0.2</td>\n",
       "    </tr>\n",
       "    <tr>\n",
       "      <th>Feb</th>\n",
       "      <td>b</td>\n",
       "      <td>0.3</td>\n",
       "    </tr>\n",
       "    <tr>\n",
       "      <th>Mar</th>\n",
       "      <td>c</td>\n",
       "      <td>0.7</td>\n",
       "    </tr>\n",
       "  </tbody>\n",
       "</table>\n",
       "</div>"
      ],
      "text/plain": [
       "     A    C\n",
       "Jan  a  0.2\n",
       "Feb  b  0.3\n",
       "Mar  c  0.7"
      ]
     },
     "execution_count": 43,
     "metadata": {},
     "output_type": "execute_result"
    }
   ],
   "source": [
    "df_sample[['A', 'C']]"
   ]
  },
  {
   "cell_type": "markdown",
   "metadata": {
    "deletable": true,
    "editable": true
   },
   "source": [
    "`DataFrame`을 `for` 루프에 넣으면 열 이름에 대한 반복이 이루어진다."
   ]
  },
  {
   "cell_type": "code",
   "execution_count": 44,
   "metadata": {
    "collapsed": false,
    "deletable": true,
    "editable": true
   },
   "outputs": [
    {
     "name": "stdout",
     "output_type": "stream",
     "text": [
      "A\n",
      "B\n",
      "C\n"
     ]
    }
   ],
   "source": [
    "for ele in df_sample:\n",
    "    print(ele)"
   ]
  },
  {
   "cell_type": "markdown",
   "metadata": {
    "deletable": true,
    "editable": true
   },
   "source": [
    "따라서 열에 의한 반복이 가능하다."
   ]
  },
  {
   "cell_type": "code",
   "execution_count": 45,
   "metadata": {
    "collapsed": false,
    "deletable": true,
    "editable": true
   },
   "outputs": [
    {
     "name": "stdout",
     "output_type": "stream",
     "text": [
      "Jan    a\n",
      "Feb    b\n",
      "Mar    c\n",
      "Name: A, dtype: object\n",
      "Jan    54\n",
      "Feb    67\n",
      "Mar    89\n",
      "Name: B, dtype: int64\n",
      "Jan    0.2\n",
      "Feb    0.3\n",
      "Mar    0.7\n",
      "Name: C, dtype: float64\n"
     ]
    }
   ],
   "source": [
    "for colname in df_sample:\n",
    "    print(df_sample[colname])"
   ]
  },
  {
   "cell_type": "markdown",
   "metadata": {
    "deletable": true,
    "editable": true
   },
   "source": [
    "### 9.4.4 행 단위 접근\n",
    "\n",
    "행 단위로의 접근은 다음 세 가지 속성으로 가능하다.\n",
    "* `iloc`: 위치에 기반한 행 접근\n",
    "* `loc`: 인덱스 이름(값)을 이용한 접근\n",
    "* `ix`: 위치에 기반한 행 접근과 인덱스 값에 기반한 접근 모두 가능하다(혼합형). 그러나 인덱스 열이 숫자인 경우에는 인덱스 값에 의한 접근만 가능하다."
   ]
  },
  {
   "cell_type": "code",
   "execution_count": 46,
   "metadata": {
    "collapsed": false,
    "deletable": true,
    "editable": true
   },
   "outputs": [
    {
     "data": {
      "text/html": [
       "<div>\n",
       "<table border=\"1\" class=\"dataframe\">\n",
       "  <thead>\n",
       "    <tr style=\"text-align: right;\">\n",
       "      <th></th>\n",
       "      <th>A</th>\n",
       "      <th>B</th>\n",
       "    </tr>\n",
       "  </thead>\n",
       "  <tbody>\n",
       "    <tr>\n",
       "      <th>Jan</th>\n",
       "      <td>a</td>\n",
       "      <td>54</td>\n",
       "    </tr>\n",
       "    <tr>\n",
       "      <th>Feb</th>\n",
       "      <td>b</td>\n",
       "      <td>67</td>\n",
       "    </tr>\n",
       "    <tr>\n",
       "      <th>Mar</th>\n",
       "      <td>c</td>\n",
       "      <td>89</td>\n",
       "    </tr>\n",
       "  </tbody>\n",
       "</table>\n",
       "</div>"
      ],
      "text/plain": [
       "     A   B\n",
       "Jan  a  54\n",
       "Feb  b  67\n",
       "Mar  c  89"
      ]
     },
     "execution_count": 46,
     "metadata": {},
     "output_type": "execute_result"
    }
   ],
   "source": [
    "df_sample = pd.DataFrame({'A':['a', 'b', 'c'], 'B':[54, 67, 89]}, index=['Jan', 'Feb', 'Mar'])\n",
    "df_sample"
   ]
  },
  {
   "cell_type": "code",
   "execution_count": 47,
   "metadata": {
    "collapsed": false,
    "deletable": true,
    "editable": true
   },
   "outputs": [
    {
     "data": {
      "text/plain": [
       "A     a\n",
       "B    54\n",
       "Name: Jan, dtype: object"
      ]
     },
     "execution_count": 47,
     "metadata": {},
     "output_type": "execute_result"
    }
   ],
   "source": [
    "df_sample.iloc[0]   # 위치에 기반한 접근"
   ]
  },
  {
   "cell_type": "code",
   "execution_count": 48,
   "metadata": {
    "collapsed": false,
    "deletable": true,
    "editable": true
   },
   "outputs": [
    {
     "data": {
      "text/plain": [
       "A     a\n",
       "B    54\n",
       "Name: Jan, dtype: object"
      ]
     },
     "execution_count": 48,
     "metadata": {},
     "output_type": "execute_result"
    }
   ],
   "source": [
    "df_sample.loc['Jan']  # 인덱스 값에 기반한 접근"
   ]
  },
  {
   "cell_type": "code",
   "execution_count": 49,
   "metadata": {
    "collapsed": false,
    "deletable": true,
    "editable": true
   },
   "outputs": [
    {
     "data": {
      "text/plain": [
       "A     a\n",
       "B    54\n",
       "Name: Jan, dtype: object"
      ]
     },
     "execution_count": 49,
     "metadata": {},
     "output_type": "execute_result"
    }
   ],
   "source": [
    "df_sample.ix[0]  # 위치에 기반한 접근"
   ]
  },
  {
   "cell_type": "code",
   "execution_count": 50,
   "metadata": {
    "collapsed": false,
    "deletable": true,
    "editable": true
   },
   "outputs": [
    {
     "data": {
      "text/plain": [
       "A     a\n",
       "B    54\n",
       "Name: Jan, dtype: object"
      ]
     },
     "execution_count": 50,
     "metadata": {},
     "output_type": "execute_result"
    }
   ],
   "source": [
    "df_sample.ix['Jan']  # 인덱스 값에 의한 접근"
   ]
  },
  {
   "cell_type": "markdown",
   "metadata": {
    "deletable": true,
    "editable": true
   },
   "source": [
    "행에 의한 반복은 `iterrows()` 메서드를 이용한다."
   ]
  },
  {
   "cell_type": "code",
   "execution_count": 51,
   "metadata": {
    "collapsed": false,
    "deletable": true,
    "editable": true
   },
   "outputs": [
    {
     "name": "stdout",
     "output_type": "stream",
     "text": [
      "Jan a 54\n",
      "Feb b 67\n",
      "Mar c 89\n"
     ]
    }
   ],
   "source": [
    "for index, row in df_sample.iterrows():\n",
    "    print(index, row['A'], row['B'])"
   ]
  },
  {
   "cell_type": "markdown",
   "metadata": {
    "deletable": true,
    "editable": true
   },
   "source": [
    "슬라이싱 기능을 이용하여 행의 범위를 지정할 수 있다. 이 때 마지막 값이 포함되는 것에 주의하자."
   ]
  },
  {
   "cell_type": "code",
   "execution_count": 52,
   "metadata": {
    "collapsed": false,
    "deletable": true,
    "editable": true
   },
   "outputs": [
    {
     "data": {
      "text/html": [
       "<div>\n",
       "<table border=\"1\" class=\"dataframe\">\n",
       "  <thead>\n",
       "    <tr style=\"text-align: right;\">\n",
       "      <th></th>\n",
       "      <th>A</th>\n",
       "      <th>B</th>\n",
       "    </tr>\n",
       "  </thead>\n",
       "  <tbody>\n",
       "    <tr>\n",
       "      <th>Jan</th>\n",
       "      <td>a</td>\n",
       "      <td>54</td>\n",
       "    </tr>\n",
       "    <tr>\n",
       "      <th>Feb</th>\n",
       "      <td>b</td>\n",
       "      <td>67</td>\n",
       "    </tr>\n",
       "  </tbody>\n",
       "</table>\n",
       "</div>"
      ],
      "text/plain": [
       "     A   B\n",
       "Jan  a  54\n",
       "Feb  b  67"
      ]
     },
     "execution_count": 52,
     "metadata": {},
     "output_type": "execute_result"
    }
   ],
   "source": [
    "df_sample.loc['Jan':'Feb']"
   ]
  },
  {
   "cell_type": "markdown",
   "metadata": {
    "deletable": true,
    "editable": true
   },
   "source": [
    "위치 기반의 `iloc`을 이용할 경우는 마지막 첨자가 포함되지 않는다."
   ]
  },
  {
   "cell_type": "code",
   "execution_count": 53,
   "metadata": {
    "collapsed": false,
    "deletable": true,
    "editable": true
   },
   "outputs": [
    {
     "data": {
      "text/html": [
       "<div>\n",
       "<table border=\"1\" class=\"dataframe\">\n",
       "  <thead>\n",
       "    <tr style=\"text-align: right;\">\n",
       "      <th></th>\n",
       "      <th>A</th>\n",
       "      <th>B</th>\n",
       "    </tr>\n",
       "  </thead>\n",
       "  <tbody>\n",
       "    <tr>\n",
       "      <th>Jan</th>\n",
       "      <td>a</td>\n",
       "      <td>54</td>\n",
       "    </tr>\n",
       "  </tbody>\n",
       "</table>\n",
       "</div>"
      ],
      "text/plain": [
       "     A   B\n",
       "Jan  a  54"
      ]
     },
     "execution_count": 53,
     "metadata": {},
     "output_type": "execute_result"
    }
   ],
   "source": [
    "df_sample.iloc[0:1]"
   ]
  },
  {
   "cell_type": "markdown",
   "metadata": {
    "deletable": true,
    "editable": true
   },
   "source": [
    "### 9.4.5 파일 변환\n",
    "\n",
    "다양한 파일로의 변환이 가능하다. 일부 기능만 보여도 다음과 같다.\n",
    "\n",
    "* `to_csv()` : CSV 파일로 저장한다\n",
    "* `to_dict()` : 사전 자료형으로 변환한다\n",
    "* `to_excel()` : 엑셀 파일에 저장한다\n",
    "* `to_hdf()` : HDF 파일로 저장한다\n",
    "* `to_html()` : HTML 문자열로 변환한다\n",
    "* `to_json()` : json 포맷 파일로 변환한다\n",
    "* `to_string()` :  화면에서 읽기 좋은 형태로 변환\n",
    "\n",
    "한 예로 엑셀 파일 형식으로 출력해보자."
   ]
  },
  {
   "cell_type": "code",
   "execution_count": 54,
   "metadata": {
    "collapsed": true,
    "deletable": true,
    "editable": true
   },
   "outputs": [],
   "source": [
    "df.to_excel('data/기후자료_2014_108.xlsx')"
   ]
  },
  {
   "cell_type": "markdown",
   "metadata": {
    "deletable": true,
    "editable": true
   },
   "source": [
    "### 9.4.6 numpy의 array 형으로 변환\n",
    "\n",
    "`numpy`의 `array`로 변경하려면 `values` 속성을 사용할 수 있다.\n",
    "다양한 형의 자료가 섞여있는 경우에는 `object` 타입의 `array`가 만들어진다."
   ]
  },
  {
   "cell_type": "code",
   "execution_count": 55,
   "metadata": {
    "collapsed": false,
    "deletable": true,
    "editable": true
   },
   "outputs": [
    {
     "data": {
      "text/plain": [
       "array([[108, '서울', '2014-01-01 00', ..., 250.0, 3.8, 1012.5],\n",
       "       [108, '서울', '2014-01-01 01', ..., 250.0, 2.3, 1012.9],\n",
       "       [108, '서울', '2014-01-01 02', ..., 250.0, 1.7, 1013.1],\n",
       "       ..., \n",
       "       [108, '서울', '2014-12-31 21', ..., 290.0, 4.0, 1021.6],\n",
       "       [108, '서울', '2014-12-31 22', ..., 270.0, 7.9, 1021.6],\n",
       "       [108, '서울', '2014-12-31 23', ..., 290.0, 7.1, 1022.5]], dtype=object)"
      ]
     },
     "execution_count": 55,
     "metadata": {},
     "output_type": "execute_result"
    }
   ],
   "source": [
    "df.values"
   ]
  },
  {
   "cell_type": "markdown",
   "metadata": {
    "deletable": true,
    "editable": true
   },
   "source": [
    "숫자로만 되어 있는 경우는 `float64` 등의 자료형으로 자동 변환된다."
   ]
  },
  {
   "cell_type": "code",
   "execution_count": 56,
   "metadata": {
    "collapsed": false,
    "deletable": true,
    "editable": true
   },
   "outputs": [
    {
     "data": {
      "text/plain": [
       "array([[ 3.3,  0. ],\n",
       "       [ 2.6,  0. ],\n",
       "       [ 1.7,  0. ],\n",
       "       ..., \n",
       "       [-4.9,  0. ],\n",
       "       [-5.4,  0. ],\n",
       "       [-6.2,  0. ]])"
      ]
     },
     "execution_count": 56,
     "metadata": {},
     "output_type": "execute_result"
    }
   ],
   "source": [
    "df[['기온', '시간강수량']].values"
   ]
  },
  {
   "cell_type": "markdown",
   "metadata": {
    "deletable": true,
    "editable": true
   },
   "source": [
    "### 9.4.7 그래프 그리기\n",
    "그래프를 브라우저 안에다 그려보기 위해서 다음 ipython notebook 매직 명령을 실행한다."
   ]
  },
  {
   "cell_type": "code",
   "execution_count": 57,
   "metadata": {
    "collapsed": true,
    "deletable": true,
    "editable": true
   },
   "outputs": [],
   "source": [
    "%matplotlib inline"
   ]
  },
  {
   "cell_type": "markdown",
   "metadata": {
    "deletable": true,
    "editable": true
   },
   "source": [
    "한글을 표시하기 위해서 기본 폰트를 변경한다."
   ]
  },
  {
   "cell_type": "code",
   "execution_count": 58,
   "metadata": {
    "collapsed": true,
    "deletable": true,
    "editable": true
   },
   "outputs": [],
   "source": [
    "import matplotlib\n",
    "\n",
    "matplotlib.rc('font', family='Arial Unicode MS')"
   ]
  },
  {
   "cell_type": "markdown",
   "metadata": {
    "deletable": true,
    "editable": true
   },
   "source": [
    "시간별 강수량을 출력해본다. "
   ]
  },
  {
   "cell_type": "code",
   "execution_count": 59,
   "metadata": {
    "collapsed": false,
    "deletable": true,
    "editable": true
   },
   "outputs": [
    {
     "data": {
      "text/plain": [
       "<matplotlib.axes._subplots.AxesSubplot at 0x7fda97caba58>"
      ]
     },
     "execution_count": 59,
     "metadata": {},
     "output_type": "execute_result"
    },
    {
     "name": "stderr",
     "output_type": "stream",
     "text": [
      "/usr/local/lib/python3.5/dist-packages/matplotlib/font_manager.py:1297: UserWarning: findfont: Font family ['Arial Unicode MS'] not found. Falling back to DejaVu Sans\n",
      "  (prop.get_family(), self.defaultFamily[fontext]))\n"
     ]
    },
    {
     "data": {
      "image/png": "[encoded data removed]",
      "text/plain": [
       "<matplotlib.figure.Figure at 0x7fda77b839b0>"
      ]
     },
     "metadata": {},
     "output_type": "display_data"
    }
   ],
   "source": [
    "df.시간강수량.plot()"
   ]
  },
  {
   "cell_type": "markdown",
   "metadata": {
    "deletable": true,
    "editable": true
   },
   "source": [
    "1시간에 하나의 정보가 있으므로 24\\*365=8760 개의 데이터가 그려진다. 이 것을 일일 강수량으로 그려보고자 한다. resample 메서드는 데이터를 주어진 기준으로 리샘플링한다. 샘플링이 현재 1시간 단위로 되어있는데 이 것을 1일 단위 샘플로 변경한다. '1D'가 1일 단위로 리샘플 하라는 의미이고 how는 하루의 데이터 합계를 구하라는 의미이다. 하지만 이것을 위해서는 인덱스 열이 datetime 포맷이어야 한다. '일시' 열을 datetime 포맷으로 변경하자."
   ]
  },
  {
   "cell_type": "code",
   "execution_count": 60,
   "metadata": {
    "collapsed": false,
    "deletable": true,
    "editable": true
   },
   "outputs": [],
   "source": [
    "df.일시 = pd.to_datetime(df.일시)"
   ]
  },
  {
   "cell_type": "code",
   "execution_count": 61,
   "metadata": {
    "collapsed": false,
    "deletable": true,
    "editable": true
   },
   "outputs": [
    {
     "data": {
      "text/html": [
       "<div>\n",
       "<table border=\"1\" class=\"dataframe\">\n",
       "  <thead>\n",
       "    <tr style=\"text-align: right;\">\n",
       "      <th></th>\n",
       "      <th>지점번호</th>\n",
       "      <th>지점</th>\n",
       "      <th>일시</th>\n",
       "      <th>기온</th>\n",
       "      <th>시간강수량</th>\n",
       "      <th>풍향</th>\n",
       "      <th>풍속</th>\n",
       "      <th>해면기압</th>\n",
       "    </tr>\n",
       "  </thead>\n",
       "  <tbody>\n",
       "    <tr>\n",
       "      <th>0</th>\n",
       "      <td>108</td>\n",
       "      <td>서울</td>\n",
       "      <td>2014-01-01 00:00:00</td>\n",
       "      <td>3.3</td>\n",
       "      <td>0.0</td>\n",
       "      <td>250.0</td>\n",
       "      <td>3.8</td>\n",
       "      <td>1012.5</td>\n",
       "    </tr>\n",
       "    <tr>\n",
       "      <th>1</th>\n",
       "      <td>108</td>\n",
       "      <td>서울</td>\n",
       "      <td>2014-01-01 01:00:00</td>\n",
       "      <td>2.6</td>\n",
       "      <td>0.0</td>\n",
       "      <td>250.0</td>\n",
       "      <td>2.3</td>\n",
       "      <td>1012.9</td>\n",
       "    </tr>\n",
       "    <tr>\n",
       "      <th>2</th>\n",
       "      <td>108</td>\n",
       "      <td>서울</td>\n",
       "      <td>2014-01-01 02:00:00</td>\n",
       "      <td>1.7</td>\n",
       "      <td>0.0</td>\n",
       "      <td>250.0</td>\n",
       "      <td>1.7</td>\n",
       "      <td>1013.1</td>\n",
       "    </tr>\n",
       "    <tr>\n",
       "      <th>3</th>\n",
       "      <td>108</td>\n",
       "      <td>서울</td>\n",
       "      <td>2014-01-01 03:00:00</td>\n",
       "      <td>1.4</td>\n",
       "      <td>0.0</td>\n",
       "      <td>250.0</td>\n",
       "      <td>1.4</td>\n",
       "      <td>1012.9</td>\n",
       "    </tr>\n",
       "    <tr>\n",
       "      <th>4</th>\n",
       "      <td>108</td>\n",
       "      <td>서울</td>\n",
       "      <td>2014-01-01 04:00:00</td>\n",
       "      <td>0.9</td>\n",
       "      <td>0.0</td>\n",
       "      <td>270.0</td>\n",
       "      <td>2.8</td>\n",
       "      <td>1013.2</td>\n",
       "    </tr>\n",
       "  </tbody>\n",
       "</table>\n",
       "</div>"
      ],
      "text/plain": [
       "   지점번호  지점                  일시   기온  시간강수량     풍향   풍속    해면기압\n",
       "0   108  서울 2014-01-01 00:00:00  3.3    0.0  250.0  3.8  1012.5\n",
       "1   108  서울 2014-01-01 01:00:00  2.6    0.0  250.0  2.3  1012.9\n",
       "2   108  서울 2014-01-01 02:00:00  1.7    0.0  250.0  1.7  1013.1\n",
       "3   108  서울 2014-01-01 03:00:00  1.4    0.0  250.0  1.4  1012.9\n",
       "4   108  서울 2014-01-01 04:00:00  0.9    0.0  270.0  2.8  1013.2"
      ]
     },
     "execution_count": 61,
     "metadata": {},
     "output_type": "execute_result"
    }
   ],
   "source": [
    "df.head()"
   ]
  },
  {
   "cell_type": "markdown",
   "metadata": {
    "deletable": true,
    "editable": true
   },
   "source": [
    "'일시' 열을 인덱스 열로 전환한다."
   ]
  },
  {
   "cell_type": "code",
   "execution_count": 62,
   "metadata": {
    "collapsed": false,
    "deletable": true,
    "editable": true
   },
   "outputs": [
    {
     "data": {
      "text/html": [
       "<div>\n",
       "<table border=\"1\" class=\"dataframe\">\n",
       "  <thead>\n",
       "    <tr style=\"text-align: right;\">\n",
       "      <th></th>\n",
       "      <th>지점번호</th>\n",
       "      <th>지점</th>\n",
       "      <th>기온</th>\n",
       "      <th>시간강수량</th>\n",
       "      <th>풍향</th>\n",
       "      <th>풍속</th>\n",
       "      <th>해면기압</th>\n",
       "    </tr>\n",
       "    <tr>\n",
       "      <th>일시</th>\n",
       "      <th></th>\n",
       "      <th></th>\n",
       "      <th></th>\n",
       "      <th></th>\n",
       "      <th></th>\n",
       "      <th></th>\n",
       "      <th></th>\n",
       "    </tr>\n",
       "  </thead>\n",
       "  <tbody>\n",
       "    <tr>\n",
       "      <th>2014-01-01 00:00:00</th>\n",
       "      <td>108</td>\n",
       "      <td>서울</td>\n",
       "      <td>3.3</td>\n",
       "      <td>0.0</td>\n",
       "      <td>250.0</td>\n",
       "      <td>3.8</td>\n",
       "      <td>1012.5</td>\n",
       "    </tr>\n",
       "    <tr>\n",
       "      <th>2014-01-01 01:00:00</th>\n",
       "      <td>108</td>\n",
       "      <td>서울</td>\n",
       "      <td>2.6</td>\n",
       "      <td>0.0</td>\n",
       "      <td>250.0</td>\n",
       "      <td>2.3</td>\n",
       "      <td>1012.9</td>\n",
       "    </tr>\n",
       "    <tr>\n",
       "      <th>2014-01-01 02:00:00</th>\n",
       "      <td>108</td>\n",
       "      <td>서울</td>\n",
       "      <td>1.7</td>\n",
       "      <td>0.0</td>\n",
       "      <td>250.0</td>\n",
       "      <td>1.7</td>\n",
       "      <td>1013.1</td>\n",
       "    </tr>\n",
       "    <tr>\n",
       "      <th>2014-01-01 03:00:00</th>\n",
       "      <td>108</td>\n",
       "      <td>서울</td>\n",
       "      <td>1.4</td>\n",
       "      <td>0.0</td>\n",
       "      <td>250.0</td>\n",
       "      <td>1.4</td>\n",
       "      <td>1012.9</td>\n",
       "    </tr>\n",
       "    <tr>\n",
       "      <th>2014-01-01 04:00:00</th>\n",
       "      <td>108</td>\n",
       "      <td>서울</td>\n",
       "      <td>0.9</td>\n",
       "      <td>0.0</td>\n",
       "      <td>270.0</td>\n",
       "      <td>2.8</td>\n",
       "      <td>1013.2</td>\n",
       "    </tr>\n",
       "  </tbody>\n",
       "</table>\n",
       "</div>"
      ],
      "text/plain": [
       "                     지점번호  지점   기온  시간강수량     풍향   풍속    해면기압\n",
       "일시                                                           \n",
       "2014-01-01 00:00:00   108  서울  3.3    0.0  250.0  3.8  1012.5\n",
       "2014-01-01 01:00:00   108  서울  2.6    0.0  250.0  2.3  1012.9\n",
       "2014-01-01 02:00:00   108  서울  1.7    0.0  250.0  1.7  1013.1\n",
       "2014-01-01 03:00:00   108  서울  1.4    0.0  250.0  1.4  1012.9\n",
       "2014-01-01 04:00:00   108  서울  0.9    0.0  270.0  2.8  1013.2"
      ]
     },
     "execution_count": 62,
     "metadata": {},
     "output_type": "execute_result"
    }
   ],
   "source": [
    "df = df.set_index('일시')\n",
    "df.head()"
   ]
  },
  {
   "cell_type": "markdown",
   "metadata": {
    "deletable": true,
    "editable": true
   },
   "source": [
    "인덱스 열이 datetime인 경우, 시간에 의한 접근이 가능하다. 다음과 같이 2월1일의 모든 행을 추출할 수 있다.\n",
    "`head()`를 이용하여 앞 부분만 보인다."
   ]
  },
  {
   "cell_type": "code",
   "execution_count": 63,
   "metadata": {
    "collapsed": false,
    "deletable": true,
    "editable": true
   },
   "outputs": [
    {
     "data": {
      "text/html": [
       "<div>\n",
       "<table border=\"1\" class=\"dataframe\">\n",
       "  <thead>\n",
       "    <tr style=\"text-align: right;\">\n",
       "      <th></th>\n",
       "      <th>지점번호</th>\n",
       "      <th>지점</th>\n",
       "      <th>기온</th>\n",
       "      <th>시간강수량</th>\n",
       "      <th>풍향</th>\n",
       "      <th>풍속</th>\n",
       "      <th>해면기압</th>\n",
       "    </tr>\n",
       "    <tr>\n",
       "      <th>일시</th>\n",
       "      <th></th>\n",
       "      <th></th>\n",
       "      <th></th>\n",
       "      <th></th>\n",
       "      <th></th>\n",
       "      <th></th>\n",
       "      <th></th>\n",
       "    </tr>\n",
       "  </thead>\n",
       "  <tbody>\n",
       "    <tr>\n",
       "      <th>2014-02-01 00:00:00</th>\n",
       "      <td>108</td>\n",
       "      <td>서울</td>\n",
       "      <td>3.7</td>\n",
       "      <td>0.0</td>\n",
       "      <td>70.0</td>\n",
       "      <td>2.8</td>\n",
       "      <td>1021.5</td>\n",
       "    </tr>\n",
       "    <tr>\n",
       "      <th>2014-02-01 01:00:00</th>\n",
       "      <td>108</td>\n",
       "      <td>서울</td>\n",
       "      <td>3.9</td>\n",
       "      <td>0.0</td>\n",
       "      <td>70.0</td>\n",
       "      <td>2.4</td>\n",
       "      <td>1021.0</td>\n",
       "    </tr>\n",
       "    <tr>\n",
       "      <th>2014-02-01 02:00:00</th>\n",
       "      <td>108</td>\n",
       "      <td>서울</td>\n",
       "      <td>4.1</td>\n",
       "      <td>0.0</td>\n",
       "      <td>90.0</td>\n",
       "      <td>2.1</td>\n",
       "      <td>1020.7</td>\n",
       "    </tr>\n",
       "    <tr>\n",
       "      <th>2014-02-01 03:00:00</th>\n",
       "      <td>108</td>\n",
       "      <td>서울</td>\n",
       "      <td>4.2</td>\n",
       "      <td>0.0</td>\n",
       "      <td>70.0</td>\n",
       "      <td>2.6</td>\n",
       "      <td>1020.6</td>\n",
       "    </tr>\n",
       "    <tr>\n",
       "      <th>2014-02-01 04:00:00</th>\n",
       "      <td>108</td>\n",
       "      <td>서울</td>\n",
       "      <td>4.3</td>\n",
       "      <td>0.0</td>\n",
       "      <td>70.0</td>\n",
       "      <td>2.2</td>\n",
       "      <td>1019.9</td>\n",
       "    </tr>\n",
       "  </tbody>\n",
       "</table>\n",
       "</div>"
      ],
      "text/plain": [
       "                     지점번호  지점   기온  시간강수량    풍향   풍속    해면기압\n",
       "일시                                                          \n",
       "2014-02-01 00:00:00   108  서울  3.7    0.0  70.0  2.8  1021.5\n",
       "2014-02-01 01:00:00   108  서울  3.9    0.0  70.0  2.4  1021.0\n",
       "2014-02-01 02:00:00   108  서울  4.1    0.0  90.0  2.1  1020.7\n",
       "2014-02-01 03:00:00   108  서울  4.2    0.0  70.0  2.6  1020.6\n",
       "2014-02-01 04:00:00   108  서울  4.3    0.0  70.0  2.2  1019.9"
      ]
     },
     "execution_count": 63,
     "metadata": {},
     "output_type": "execute_result"
    }
   ],
   "source": [
    "df['2014-02-01'].head()"
   ]
  },
  {
   "cell_type": "markdown",
   "metadata": {
    "deletable": true,
    "editable": true
   },
   "source": [
    "슬라이싱 기능을 이용하면 구간을 정할 수도 있다.\n",
    "파이썬의 일반적인 슬라이싱과는 달리 종료 지점의 데이터도 포함한다."
   ]
  },
  {
   "cell_type": "code",
   "execution_count": 64,
   "metadata": {
    "collapsed": false,
    "deletable": true,
    "editable": true
   },
   "outputs": [
    {
     "data": {
      "text/html": [
       "<div>\n",
       "<table border=\"1\" class=\"dataframe\">\n",
       "  <thead>\n",
       "    <tr style=\"text-align: right;\">\n",
       "      <th></th>\n",
       "      <th>지점번호</th>\n",
       "      <th>지점</th>\n",
       "      <th>기온</th>\n",
       "      <th>시간강수량</th>\n",
       "      <th>풍향</th>\n",
       "      <th>풍속</th>\n",
       "      <th>해면기압</th>\n",
       "    </tr>\n",
       "    <tr>\n",
       "      <th>일시</th>\n",
       "      <th></th>\n",
       "      <th></th>\n",
       "      <th></th>\n",
       "      <th></th>\n",
       "      <th></th>\n",
       "      <th></th>\n",
       "      <th></th>\n",
       "    </tr>\n",
       "  </thead>\n",
       "  <tbody>\n",
       "    <tr>\n",
       "      <th>2014-02-01 06:00:00</th>\n",
       "      <td>108</td>\n",
       "      <td>서울</td>\n",
       "      <td>4.6</td>\n",
       "      <td>0.0</td>\n",
       "      <td>70.0</td>\n",
       "      <td>2.2</td>\n",
       "      <td>1019.1</td>\n",
       "    </tr>\n",
       "    <tr>\n",
       "      <th>2014-02-01 07:00:00</th>\n",
       "      <td>108</td>\n",
       "      <td>서울</td>\n",
       "      <td>4.7</td>\n",
       "      <td>0.0</td>\n",
       "      <td>90.0</td>\n",
       "      <td>3.0</td>\n",
       "      <td>1018.9</td>\n",
       "    </tr>\n",
       "    <tr>\n",
       "      <th>2014-02-01 08:00:00</th>\n",
       "      <td>108</td>\n",
       "      <td>서울</td>\n",
       "      <td>4.8</td>\n",
       "      <td>0.0</td>\n",
       "      <td>70.0</td>\n",
       "      <td>2.7</td>\n",
       "      <td>1019.0</td>\n",
       "    </tr>\n",
       "    <tr>\n",
       "      <th>2014-02-01 09:00:00</th>\n",
       "      <td>108</td>\n",
       "      <td>서울</td>\n",
       "      <td>5.2</td>\n",
       "      <td>0.0</td>\n",
       "      <td>70.0</td>\n",
       "      <td>4.1</td>\n",
       "      <td>1018.8</td>\n",
       "    </tr>\n",
       "  </tbody>\n",
       "</table>\n",
       "</div>"
      ],
      "text/plain": [
       "                     지점번호  지점   기온  시간강수량    풍향   풍속    해면기압\n",
       "일시                                                          \n",
       "2014-02-01 06:00:00   108  서울  4.6    0.0  70.0  2.2  1019.1\n",
       "2014-02-01 07:00:00   108  서울  4.7    0.0  90.0  3.0  1018.9\n",
       "2014-02-01 08:00:00   108  서울  4.8    0.0  70.0  2.7  1019.0\n",
       "2014-02-01 09:00:00   108  서울  5.2    0.0  70.0  4.1  1018.8"
      ]
     },
     "execution_count": 64,
     "metadata": {},
     "output_type": "execute_result"
    }
   ],
   "source": [
    "df['2014-02-01 06':'2014-02-01 09']"
   ]
  },
  {
   "cell_type": "markdown",
   "metadata": {
    "deletable": true,
    "editable": true
   },
   "source": [
    "자, 이제 리샘플링을 해보자.\n",
    "그리고 1일 단위로 기온에 대해서 최대, 최소를 계산한다."
   ]
  },
  {
   "cell_type": "code",
   "execution_count": 65,
   "metadata": {
    "collapsed": false,
    "deletable": true,
    "editable": true
   },
   "outputs": [],
   "source": [
    "최고기온 = df['기온'].resample('1D').max()\n",
    "최저기온 = df['기온'].resample('1D').min()"
   ]
  },
  {
   "cell_type": "markdown",
   "metadata": {
    "deletable": true,
    "editable": true
   },
   "source": [
    "강수량에 대해서는 1일 단위로 합을 계산한다."
   ]
  },
  {
   "cell_type": "code",
   "execution_count": 66,
   "metadata": {
    "collapsed": false,
    "deletable": true,
    "editable": true
   },
   "outputs": [],
   "source": [
    "강수량 = df['시간강수량'].resample('1D').sum()"
   ]
  },
  {
   "cell_type": "markdown",
   "metadata": {
    "deletable": true,
    "editable": true
   },
   "source": [
    "`df`의 나머지 열에 대해서는 1일 단위로 평균을 계산 한다."
   ]
  },
  {
   "cell_type": "code",
   "execution_count": 67,
   "metadata": {
    "collapsed": true,
    "deletable": true,
    "editable": true
   },
   "outputs": [],
   "source": [
    "df2 = df.resample('1D').mean()"
   ]
  },
  {
   "cell_type": "markdown",
   "metadata": {
    "deletable": true,
    "editable": true
   },
   "source": [
    "여기에 '최고기온', '최저기온' 열을 추가하고, 강수량은 계산해 놓은 합계로 대신한다. 그리고 '기온'은 '평균기온'으로 이름을 변경한다."
   ]
  },
  {
   "cell_type": "code",
   "execution_count": 68,
   "metadata": {
    "collapsed": false,
    "deletable": true,
    "editable": true
   },
   "outputs": [
    {
     "data": {
      "text/html": [
       "<div>\n",
       "<table border=\"1\" class=\"dataframe\">\n",
       "  <thead>\n",
       "    <tr style=\"text-align: right;\">\n",
       "      <th></th>\n",
       "      <th>지점번호</th>\n",
       "      <th>평균기온</th>\n",
       "      <th>시간강수량</th>\n",
       "      <th>풍향</th>\n",
       "      <th>풍속</th>\n",
       "      <th>해면기압</th>\n",
       "      <th>최고기온</th>\n",
       "      <th>최저기온</th>\n",
       "      <th>강수량</th>\n",
       "    </tr>\n",
       "    <tr>\n",
       "      <th>일시</th>\n",
       "      <th></th>\n",
       "      <th></th>\n",
       "      <th></th>\n",
       "      <th></th>\n",
       "      <th></th>\n",
       "      <th></th>\n",
       "      <th></th>\n",
       "      <th></th>\n",
       "      <th></th>\n",
       "    </tr>\n",
       "  </thead>\n",
       "  <tbody>\n",
       "    <tr>\n",
       "      <th>2014-01-01</th>\n",
       "      <td>108</td>\n",
       "      <td>4.008333</td>\n",
       "      <td>0.0</td>\n",
       "      <td>252.500000</td>\n",
       "      <td>3.716667</td>\n",
       "      <td>1013.770833</td>\n",
       "      <td>7.6</td>\n",
       "      <td>0.5</td>\n",
       "      <td>0.0</td>\n",
       "    </tr>\n",
       "    <tr>\n",
       "      <th>2014-01-02</th>\n",
       "      <td>108</td>\n",
       "      <td>1.875000</td>\n",
       "      <td>0.0</td>\n",
       "      <td>271.666667</td>\n",
       "      <td>2.045833</td>\n",
       "      <td>1021.129167</td>\n",
       "      <td>6.0</td>\n",
       "      <td>-1.2</td>\n",
       "      <td>0.0</td>\n",
       "    </tr>\n",
       "    <tr>\n",
       "      <th>2014-01-03</th>\n",
       "      <td>108</td>\n",
       "      <td>2.291667</td>\n",
       "      <td>0.0</td>\n",
       "      <td>155.833333</td>\n",
       "      <td>2.508333</td>\n",
       "      <td>1017.808333</td>\n",
       "      <td>6.9</td>\n",
       "      <td>-1.0</td>\n",
       "      <td>0.0</td>\n",
       "    </tr>\n",
       "    <tr>\n",
       "      <th>2014-01-04</th>\n",
       "      <td>108</td>\n",
       "      <td>0.145833</td>\n",
       "      <td>0.0</td>\n",
       "      <td>278.333333</td>\n",
       "      <td>2.520833</td>\n",
       "      <td>1019.391667</td>\n",
       "      <td>5.4</td>\n",
       "      <td>-3.7</td>\n",
       "      <td>0.0</td>\n",
       "    </tr>\n",
       "    <tr>\n",
       "      <th>2014-01-05</th>\n",
       "      <td>108</td>\n",
       "      <td>-0.845833</td>\n",
       "      <td>0.0</td>\n",
       "      <td>268.333333</td>\n",
       "      <td>1.987500</td>\n",
       "      <td>1023.579167</td>\n",
       "      <td>3.6</td>\n",
       "      <td>-4.2</td>\n",
       "      <td>0.0</td>\n",
       "    </tr>\n",
       "  </tbody>\n",
       "</table>\n",
       "</div>"
      ],
      "text/plain": [
       "            지점번호      평균기온  시간강수량          풍향        풍속         해면기압  최고기온  \\\n",
       "일시                                                                           \n",
       "2014-01-01   108  4.008333    0.0  252.500000  3.716667  1013.770833   7.6   \n",
       "2014-01-02   108  1.875000    0.0  271.666667  2.045833  1021.129167   6.0   \n",
       "2014-01-03   108  2.291667    0.0  155.833333  2.508333  1017.808333   6.9   \n",
       "2014-01-04   108  0.145833    0.0  278.333333  2.520833  1019.391667   5.4   \n",
       "2014-01-05   108 -0.845833    0.0  268.333333  1.987500  1023.579167   3.6   \n",
       "\n",
       "            최저기온  강수량  \n",
       "일시                     \n",
       "2014-01-01   0.5  0.0  \n",
       "2014-01-02  -1.2  0.0  \n",
       "2014-01-03  -1.0  0.0  \n",
       "2014-01-04  -3.7  0.0  \n",
       "2014-01-05  -4.2  0.0  "
      ]
     },
     "execution_count": 68,
     "metadata": {},
     "output_type": "execute_result"
    }
   ],
   "source": [
    "df2['최고기온'] = 최고기온\n",
    "df2['최저기온'] = 최저기온\n",
    "df2['강수량'] = 강수량\n",
    "df2 = df2.rename(columns={'기온': '평균기온'})\n",
    "df2.head()"
   ]
  },
  {
   "cell_type": "markdown",
   "metadata": {
    "deletable": true,
    "editable": true
   },
   "source": [
    "이들 중에서 '지점번호', '평균기온', '최고기온', '최저기온', '강수량', '해면기압' 열만 취한다."
   ]
  },
  {
   "cell_type": "code",
   "execution_count": 69,
   "metadata": {
    "collapsed": false,
    "deletable": true,
    "editable": true
   },
   "outputs": [],
   "source": [
    "df3 = df2[['지점번호', '평균기온', '최고기온', '최저기온', '강수량', '해면기압']]"
   ]
  },
  {
   "cell_type": "code",
   "execution_count": 70,
   "metadata": {
    "collapsed": false,
    "deletable": true,
    "editable": true
   },
   "outputs": [
    {
     "data": {
      "text/html": [
       "<div>\n",
       "<table border=\"1\" class=\"dataframe\">\n",
       "  <thead>\n",
       "    <tr style=\"text-align: right;\">\n",
       "      <th></th>\n",
       "      <th>지점번호</th>\n",
       "      <th>평균기온</th>\n",
       "      <th>최고기온</th>\n",
       "      <th>최저기온</th>\n",
       "      <th>강수량</th>\n",
       "      <th>해면기압</th>\n",
       "    </tr>\n",
       "    <tr>\n",
       "      <th>일시</th>\n",
       "      <th></th>\n",
       "      <th></th>\n",
       "      <th></th>\n",
       "      <th></th>\n",
       "      <th></th>\n",
       "      <th></th>\n",
       "    </tr>\n",
       "  </thead>\n",
       "  <tbody>\n",
       "    <tr>\n",
       "      <th>2014-01-01</th>\n",
       "      <td>108</td>\n",
       "      <td>4.008333</td>\n",
       "      <td>7.6</td>\n",
       "      <td>0.5</td>\n",
       "      <td>0.0</td>\n",
       "      <td>1013.770833</td>\n",
       "    </tr>\n",
       "    <tr>\n",
       "      <th>2014-01-02</th>\n",
       "      <td>108</td>\n",
       "      <td>1.875000</td>\n",
       "      <td>6.0</td>\n",
       "      <td>-1.2</td>\n",
       "      <td>0.0</td>\n",
       "      <td>1021.129167</td>\n",
       "    </tr>\n",
       "    <tr>\n",
       "      <th>2014-01-03</th>\n",
       "      <td>108</td>\n",
       "      <td>2.291667</td>\n",
       "      <td>6.9</td>\n",
       "      <td>-1.0</td>\n",
       "      <td>0.0</td>\n",
       "      <td>1017.808333</td>\n",
       "    </tr>\n",
       "    <tr>\n",
       "      <th>2014-01-04</th>\n",
       "      <td>108</td>\n",
       "      <td>0.145833</td>\n",
       "      <td>5.4</td>\n",
       "      <td>-3.7</td>\n",
       "      <td>0.0</td>\n",
       "      <td>1019.391667</td>\n",
       "    </tr>\n",
       "    <tr>\n",
       "      <th>2014-01-05</th>\n",
       "      <td>108</td>\n",
       "      <td>-0.845833</td>\n",
       "      <td>3.6</td>\n",
       "      <td>-4.2</td>\n",
       "      <td>0.0</td>\n",
       "      <td>1023.579167</td>\n",
       "    </tr>\n",
       "  </tbody>\n",
       "</table>\n",
       "</div>"
      ],
      "text/plain": [
       "            지점번호      평균기온  최고기온  최저기온  강수량         해면기압\n",
       "일시                                                      \n",
       "2014-01-01   108  4.008333   7.6   0.5  0.0  1013.770833\n",
       "2014-01-02   108  1.875000   6.0  -1.2  0.0  1021.129167\n",
       "2014-01-03   108  2.291667   6.9  -1.0  0.0  1017.808333\n",
       "2014-01-04   108  0.145833   5.4  -3.7  0.0  1019.391667\n",
       "2014-01-05   108 -0.845833   3.6  -4.2  0.0  1023.579167"
      ]
     },
     "execution_count": 70,
     "metadata": {},
     "output_type": "execute_result"
    }
   ],
   "source": [
    "df3.head()"
   ]
  },
  {
   "cell_type": "markdown",
   "metadata": {
    "deletable": true,
    "editable": true
   },
   "source": [
    "'평균기온', '최저기온', '최고기온'에 대한 그래프를 그려본다."
   ]
  },
  {
   "cell_type": "code",
   "execution_count": 71,
   "metadata": {
    "collapsed": false,
    "deletable": true,
    "editable": true
   },
   "outputs": [
    {
     "data": {
      "text/plain": [
       "<matplotlib.axes._subplots.AxesSubplot at 0x7fda97be1cc0>"
      ]
     },
     "execution_count": 71,
     "metadata": {},
     "output_type": "execute_result"
    },
    {
     "name": "stderr",
     "output_type": "stream",
     "text": [
      "/usr/local/lib/python3.5/dist-packages/matplotlib/font_manager.py:1297: UserWarning: findfont: Font family ['Arial Unicode MS'] not found. Falling back to DejaVu Sans\n",
      "  (prop.get_family(), self.defaultFamily[fontext]))\n"
     ]
    },
    {
     "data": {
      "image/png": "[encoded data removed]",
      "text/plain": [
       "<matplotlib.figure.Figure at 0x7fda97afb9b0>"
      ]
     },
     "metadata": {},
     "output_type": "display_data"
    }
   ],
   "source": [
    "df3[['평균기온', '최저기온', '최고기온']].plot()"
   ]
  },
  {
   "cell_type": "markdown",
   "metadata": {
    "deletable": true,
    "editable": true
   },
   "source": [
    "너무 그림이 자세하게 보인다. 1개월 단위의 그래프를 그리기 위해서 다시 리샘플링 한다."
   ]
  },
  {
   "cell_type": "code",
   "execution_count": 72,
   "metadata": {
    "collapsed": false,
    "deletable": true,
    "editable": true
   },
   "outputs": [
    {
     "data": {
      "text/plain": [
       "<matplotlib.axes._subplots.AxesSubplot at 0x7fda979869e8>"
      ]
     },
     "execution_count": 72,
     "metadata": {},
     "output_type": "execute_result"
    },
    {
     "name": "stderr",
     "output_type": "stream",
     "text": [
      "/usr/local/lib/python3.5/dist-packages/matplotlib/font_manager.py:1297: UserWarning: findfont: Font family ['Arial Unicode MS'] not found. Falling back to DejaVu Sans\n",
      "  (prop.get_family(), self.defaultFamily[fontext]))\n"
     ]
    },
    {
     "data": {
      "image/png": "[encoded data removed]",
      "text/plain": [
       "<matplotlib.figure.Figure at 0x7fda97c4c5f8>"
      ]
     },
     "metadata": {},
     "output_type": "display_data"
    }
   ],
   "source": [
    "df4 = df3.resample('1M').mean()\n",
    "df4[['평균기온', '최저기온', '최고기온']].plot()"
   ]
  },
  {
   "cell_type": "markdown",
   "metadata": {
    "deletable": true,
    "editable": true
   },
   "source": [
    "이번에는 x 축의 월 표시를 숫자로 바꿔보기로 한다."
   ]
  },
  {
   "cell_type": "code",
   "execution_count": 73,
   "metadata": {
    "collapsed": false,
    "deletable": true,
    "editable": true
   },
   "outputs": [
    {
     "data": {
      "text/plain": [
       "<matplotlib.legend.Legend at 0x7fda970afb70>"
      ]
     },
     "execution_count": 73,
     "metadata": {},
     "output_type": "execute_result"
    },
    {
     "name": "stderr",
     "output_type": "stream",
     "text": [
      "/usr/local/lib/python3.5/dist-packages/matplotlib/font_manager.py:1297: UserWarning: findfont: Font family ['Arial Unicode MS'] not found. Falling back to DejaVu Sans\n",
      "  (prop.get_family(), self.defaultFamily[fontext]))\n"
     ]
    },
    {
     "data": {
      "image/png": "[encoded data removed]",
      "text/plain": [
       "<matplotlib.figure.Figure at 0x7fda97888358>"
      ]
     },
     "metadata": {},
     "output_type": "display_data"
    }
   ],
   "source": [
    "import matplotlib.pyplot as plt\n",
    "from matplotlib import dates\n",
    "\n",
    "ax = plt.subplot(111)\n",
    "ax.plot(df4.index, df4.평균기온, label=\"평균기온\")\n",
    "ax.plot(df4.index, df4.최저기온, label=\"최저기온\")\n",
    "ax.plot(df4.index, df4.최고기온, label=\"최고기온\")\n",
    "\n",
    "ax.xaxis.set_major_formatter(dates.DateFormatter('%Y-%m'))\n",
    "labels = ax.get_xticklabels()\n",
    "plt.setp(labels, rotation=40, fontsize=10)\n",
    "\n",
    "plt.legend()"
   ]
  },
  {
   "cell_type": "markdown",
   "metadata": {
    "collapsed": true,
    "deletable": true,
    "editable": true
   },
   "source": [
    "월별/일별 강수량 그래프를 그려보자. 월 강수량은 월단위 합계 강수량이다."
   ]
  },
  {
   "cell_type": "code",
   "execution_count": 74,
   "metadata": {
    "collapsed": false,
    "deletable": true,
    "editable": true
   },
   "outputs": [
    {
     "data": {
      "text/plain": [
       "<matplotlib.axes._subplots.AxesSubplot at 0x7fda970d0198>"
      ]
     },
     "execution_count": 74,
     "metadata": {},
     "output_type": "execute_result"
    },
    {
     "name": "stderr",
     "output_type": "stream",
     "text": [
      "/usr/local/lib/python3.5/dist-packages/matplotlib/font_manager.py:1297: UserWarning: findfont: Font family ['Arial Unicode MS'] not found. Falling back to DejaVu Sans\n",
      "  (prop.get_family(), self.defaultFamily[fontext]))\n"
     ]
    },
    {
     "data": {
      "image/png": "[encoded data removed]",
      "text/plain": [
       "<matplotlib.figure.Figure at 0x7fda9788c358>"
      ]
     },
     "metadata": {},
     "output_type": "display_data"
    }
   ],
   "source": [
    "df3['강수량'].plot(figsize=(12,8), label='일강수량', legend=True)\n",
    "df4 = df3.resample('1M').sum()\n",
    "df4['강수량'].plot(label='월강수량', legend=True)"
   ]
  },
  {
   "cell_type": "markdown",
   "metadata": {
    "deletable": true,
    "editable": true
   },
   "source": [
    "이번에는 하루 3mm 이상의 강수량을 보인 일 수가 월별로 몇 일 인지 그래프를 그려보자.\n",
    "생각한 것 보다는 날 수가 많지 않다. 장마 기간인 7월에 비온 날 수는 6일에 불과 했으며 오히려 8월에 10회나 비가 내린 것으로 나온다.\n",
    "대신에 비의 양은 7월이 가장 많았다."
   ]
  },
  {
   "cell_type": "code",
   "execution_count": 75,
   "metadata": {
    "collapsed": false,
    "deletable": true,
    "editable": true
   },
   "outputs": [
    {
     "data": {
      "text/plain": [
       "<matplotlib.axes._subplots.AxesSubplot at 0x7fda92c1a978>"
      ]
     },
     "execution_count": 75,
     "metadata": {},
     "output_type": "execute_result"
    },
    {
     "name": "stderr",
     "output_type": "stream",
     "text": [
      "/usr/local/lib/python3.5/dist-packages/matplotlib/font_manager.py:1297: UserWarning: findfont: Font family ['Arial Unicode MS'] not found. Falling back to DejaVu Sans\n",
      "  (prop.get_family(), self.defaultFamily[fontext]))\n"
     ]
    },
    {
     "data": {
      "image/png": "[encoded data removed]",
      "text/plain": [
       "<matplotlib.figure.Figure at 0x7fda92c22c18>"
      ]
     },
     "metadata": {},
     "output_type": "display_data"
    }
   ],
   "source": [
    "df5 = df3[df3.강수량 >= 3]['강수량']\n",
    "df5.resample('1M').count().plot(figsize=(12,8), ylim=(0, 12))"
   ]
  }
 ],
 "metadata": {
  "kernelspec": {
   "display_name": "Python 3",
   "language": "python",
   "name": "python3"
  },
  "language_info": {
   "codemirror_mode": {
    "name": "ipython",
    "version": 3
   },
   "file_extension": ".py",
   "mimetype": "text/x-python",
   "name": "python",
   "nbconvert_exporter": "python",
   "pygments_lexer": "ipython3",
   "version": "3.5.2"
  }
 },
 "nbformat": 4,
 "nbformat_minor": 0
}
