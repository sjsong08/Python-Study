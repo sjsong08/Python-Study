{
 "cells": [
  {
   "cell_type": "markdown",
   "metadata": {
    "deletable": true,
    "editable": true
   },
   "source": [
    "# 10 클래스와 객체\n",
    "\n",
    "클래스는 파이썬의 주요 객체지향 프로그래밍 도구이다.\n",
    "\n",
    "\n",
    "## 10.1 이름 공간\n",
    "\n",
    "이름 공간(name space)는 말 그대로 이름을 저장하는 공간이다. 모듈, 함수, 클래스 등의 모든 객체는 이름과 연결되어 있으며, 이름이 저장되는 공간의 역할을 한다. 클래스를 정의하는 것은 새로운 이름 공간을 만드는 것이다. \n"
   ]
  },
  {
   "cell_type": "markdown",
   "metadata": {
    "deletable": true,
    "editable": true
   },
   "source": [
    "### 10.1.1 클래스의 이름공간\n",
    "\n",
    "클래스의 정의는 `class`로 이루어진다. \n",
    "클래스 안에는 변수(멤버, member라고 부른다)와 함수(메서드, method 라고 부른다)가 정의된다.\n",
    "일단은 아무 것도 없는 가장 단순한 클래스를 정의해보자.\n",
    "`pass`는 자리를 채우기 위한 문이다."
   ]
  },
  {
   "cell_type": "code",
   "execution_count": 1,
   "metadata": {
    "collapsed": false,
    "deletable": true,
    "editable": true
   },
   "outputs": [],
   "source": [
    "class Sample:\n",
    "    pass"
   ]
  },
  {
   "cell_type": "markdown",
   "metadata": {
    "deletable": true,
    "editable": true
   },
   "source": [
    "`Sample`은 `__main__` 모듈의 `Sample` 클래스란 뜻이다."
   ]
  },
  {
   "cell_type": "code",
   "execution_count": 2,
   "metadata": {
    "collapsed": false,
    "deletable": true,
    "editable": true
   },
   "outputs": [
    {
     "data": {
      "text/plain": [
       "__main__.Sample"
      ]
     },
     "execution_count": 2,
     "metadata": {},
     "output_type": "execute_result"
    }
   ],
   "source": [
    "Sample"
   ]
  },
  {
   "cell_type": "markdown",
   "metadata": {
    "deletable": true,
    "editable": true
   },
   "source": [
    "여기에 새로운 이름을 등록해 본다.\n",
    "클래스 공간에 정의된 변수를 **클래스 멤버(class member)**라고 부른다."
   ]
  },
  {
   "cell_type": "code",
   "execution_count": 3,
   "metadata": {
    "collapsed": false,
    "deletable": true,
    "editable": true
   },
   "outputs": [],
   "source": [
    "Sample.a = 10"
   ]
  },
  {
   "cell_type": "markdown",
   "metadata": {
    "deletable": true,
    "editable": true
   },
   "source": [
    "등록된 값을 확인해 본다."
   ]
  },
  {
   "cell_type": "code",
   "execution_count": 4,
   "metadata": {
    "collapsed": false,
    "deletable": true,
    "editable": true
   },
   "outputs": [
    {
     "data": {
      "text/plain": [
       "10"
      ]
     },
     "execution_count": 4,
     "metadata": {},
     "output_type": "execute_result"
    }
   ],
   "source": [
    "Sample.a"
   ]
  },
  {
   "cell_type": "markdown",
   "metadata": {
    "deletable": true,
    "editable": true
   },
   "source": [
    "<img src=\"img/namespace1.PNG\">"
   ]
  },
  {
   "cell_type": "markdown",
   "metadata": {
    "deletable": true,
    "editable": true
   },
   "source": [
    "### 10.1.2 인스턴스 객체\n",
    "\n",
    "인스턴스 객체란  클래스를 호출하여 생성된 객체이다. \n",
    "이것을 인스턴스 혹은 객체라고도 흔히 부른다. 인스턴스 객체도 이름 공간이다."
   ]
  },
  {
   "cell_type": "code",
   "execution_count": 5,
   "metadata": {
    "collapsed": false,
    "deletable": true,
    "editable": true
   },
   "outputs": [],
   "source": [
    "# 클래스로 부터 생성된 s1, s2를 인스턴스 객체라고 부른다\n",
    "s1 = Sample()\n",
    "s2 = Sample()"
   ]
  },
  {
   "cell_type": "code",
   "execution_count": 6,
   "metadata": {
    "collapsed": false,
    "deletable": true,
    "editable": true
   },
   "outputs": [
    {
     "data": {
      "text/plain": [
       "<__main__.Sample at 0x5587e80>"
      ]
     },
     "execution_count": 6,
     "metadata": {},
     "output_type": "execute_result"
    }
   ],
   "source": [
    "s1"
   ]
  },
  {
   "cell_type": "code",
   "execution_count": 7,
   "metadata": {
    "collapsed": false,
    "deletable": true,
    "editable": true
   },
   "outputs": [
    {
     "data": {
      "text/plain": [
       "<__main__.Sample at 0x5587400>"
      ]
     },
     "execution_count": 7,
     "metadata": {},
     "output_type": "execute_result"
    }
   ],
   "source": [
    "s2"
   ]
  },
  {
   "cell_type": "markdown",
   "metadata": {
    "deletable": true,
    "editable": true
   },
   "source": [
    "<img src=\"img/namespace2.PNG\">\n",
    "\n",
    "자료형을 확인해 보자. `Sample` 형임을 알 수 있다. 클래스는 자료형의 역할을 한다.\n",
    "따라서 클래스를 정의하는 것은 새로운 자료형을 정의하는 것과 같다."
   ]
  },
  {
   "cell_type": "code",
   "execution_count": 8,
   "metadata": {
    "collapsed": false,
    "deletable": true,
    "editable": true
   },
   "outputs": [
    {
     "data": {
      "text/plain": [
       "__main__.Sample"
      ]
     },
     "execution_count": 8,
     "metadata": {},
     "output_type": "execute_result"
    }
   ],
   "source": [
    "type(s1)"
   ]
  },
  {
   "cell_type": "markdown",
   "metadata": {
    "deletable": true,
    "editable": true
   },
   "source": [
    "인스턴스 공간에 새로운 이름을 정의해 본다.\n",
    "인스턴스 공간에 정의된 변수를 **인스턴스 멤버(instance member)**라고 부른다"
   ]
  },
  {
   "cell_type": "code",
   "execution_count": 9,
   "metadata": {
    "collapsed": false,
    "deletable": true,
    "editable": true
   },
   "outputs": [
    {
     "data": {
      "text/plain": [
       "10"
      ]
     },
     "execution_count": 9,
     "metadata": {},
     "output_type": "execute_result"
    }
   ],
   "source": [
    "# 인스턴스도 이름 공간\n",
    "s1.x = 10\n",
    "s1.x"
   ]
  },
  {
   "cell_type": "markdown",
   "metadata": {
    "deletable": true,
    "editable": true
   },
   "source": [
    "<img src=\"img/namespace3.PNG\">"
   ]
  },
  {
   "cell_type": "markdown",
   "metadata": {
    "deletable": true,
    "editable": true
   },
   "source": [
    "### 10.1.3 클래스 멤버\n",
    "\n",
    "클래스 공간 안에 정의된 변수인 클래스 멤버는 클래스를 통해서 뿐만 아니라 인스턴스를 통해서도 접근된다.\n",
    "\n",
    "<img src=\"img/namespace4.PNG\">"
   ]
  },
  {
   "cell_type": "code",
   "execution_count": 10,
   "metadata": {
    "collapsed": false,
    "deletable": true,
    "editable": true
   },
   "outputs": [],
   "source": [
    "class Sample:\n",
    "    a = 1   # 클래스 멤버"
   ]
  },
  {
   "cell_type": "code",
   "execution_count": 11,
   "metadata": {
    "collapsed": false,
    "deletable": true,
    "editable": true
   },
   "outputs": [
    {
     "data": {
      "text/plain": [
       "1"
      ]
     },
     "execution_count": 11,
     "metadata": {},
     "output_type": "execute_result"
    }
   ],
   "source": [
    "Sample.a  # 클래스를 통한 접근"
   ]
  },
  {
   "cell_type": "code",
   "execution_count": 12,
   "metadata": {
    "collapsed": false,
    "deletable": true,
    "editable": true
   },
   "outputs": [
    {
     "name": "stdout",
     "output_type": "stream",
     "text": [
      "1\n"
     ]
    }
   ],
   "source": [
    "x = Sample()    # 인스턴스 생성\n",
    "print (x.a)   # 인스턴스를 통한 접근"
   ]
  },
  {
   "cell_type": "markdown",
   "metadata": {
    "deletable": true,
    "editable": true
   },
   "source": [
    "그러나 같은 이름의 멤버가 인스턴스에도 정의되어 있을 경우는 인스턴스 멤버가 우선 참조된다.\n",
    "\n",
    "<img src=\"img/namespace5.PNG\">"
   ]
  },
  {
   "cell_type": "code",
   "execution_count": 13,
   "metadata": {
    "collapsed": false,
    "deletable": true,
    "editable": true
   },
   "outputs": [
    {
     "data": {
      "text/plain": [
       "10"
      ]
     },
     "execution_count": 13,
     "metadata": {},
     "output_type": "execute_result"
    }
   ],
   "source": [
    "x.a = 10\n",
    "x.a       # 인스턴스 멤버"
   ]
  },
  {
   "cell_type": "markdown",
   "metadata": {
    "deletable": true,
    "editable": true
   },
   "source": [
    "여전히 클래스 공간에는 `a`가 1의 값을 가지고 있다."
   ]
  },
  {
   "cell_type": "code",
   "execution_count": 14,
   "metadata": {
    "collapsed": false,
    "deletable": true,
    "editable": true
   },
   "outputs": [
    {
     "data": {
      "text/plain": [
       "1"
      ]
     },
     "execution_count": 14,
     "metadata": {},
     "output_type": "execute_result"
    }
   ],
   "source": [
    "Sample.a  # 클래스 멤버"
   ]
  },
  {
   "cell_type": "markdown",
   "metadata": {
    "deletable": true,
    "editable": true
   },
   "source": [
    "### 10.1.4 메서드 정의\n",
    "\n",
    "메서드를 정의하는 방법은 일반 함수를 정의하는 것과 동일하다. \n",
    "다른 점이 있다면 메서드의 첫 번째 인수는 반드시 해당 클래스의 인스턴스 객체이어야 한다. \n",
    "관례로 `self`란 이름으로 첫 번째 인수를 선언한다."
   ]
  },
  {
   "cell_type": "code",
   "execution_count": 15,
   "metadata": {
    "collapsed": false,
    "deletable": true,
    "editable": true
   },
   "outputs": [],
   "source": [
    "# 메서드 정의하기\n",
    "class MyClass:\n",
    "    def set(self,v):     # 메서드의 첫 인수 self는 반드시 인스턴스 객체이어야 한다.\n",
    "        self.value = v\n",
    "    def get(self):\n",
    "        return self.value"
   ]
  },
  {
   "cell_type": "markdown",
   "metadata": {
    "deletable": true,
    "editable": true
   },
   "source": [
    "메서드를 호출하는 방법에는 두 가지가 있는데 첫 번째 방법은 클래스를 이용하여 호출하는 것\n",
    "이다."
   ]
  },
  {
   "cell_type": "code",
   "execution_count": 16,
   "metadata": {
    "collapsed": false,
    "deletable": true,
    "editable": true
   },
   "outputs": [
    {
     "data": {
      "text/plain": [
       "10"
      ]
     },
     "execution_count": 16,
     "metadata": {},
     "output_type": "execute_result"
    }
   ],
   "source": [
    "c = MyClass()\n",
    "MyClass.set(c, 10)\n",
    "MyClass.get(c)"
   ]
  },
  {
   "cell_type": "markdown",
   "metadata": {
    "deletable": true,
    "editable": true
   },
   "source": [
    "두 번째 호출 방법이 좀 더 일반적인데 인스턴스 객체를 이용하여 호출하는 것이다. 이렇게 하 면 첫 인수(`self`)로 인스턴스 객체가 자동으로 연결(전달)된다."
   ]
  },
  {
   "cell_type": "code",
   "execution_count": 17,
   "metadata": {
    "collapsed": false,
    "deletable": true,
    "editable": true
   },
   "outputs": [
    {
     "data": {
      "text/plain": [
       "10"
      ]
     },
     "execution_count": 17,
     "metadata": {},
     "output_type": "execute_result"
    }
   ],
   "source": [
    "c = MyClass()\n",
    "c.set(10)     # 인스턴스 c가 자동으로 self가 된다.\n",
    "c.get()"
   ]
  },
  {
   "cell_type": "markdown",
   "metadata": {
    "deletable": true,
    "editable": true
   },
   "source": [
    "<img src=\"img/namespace6.PNG\">"
   ]
  },
  {
   "cell_type": "markdown",
   "metadata": {
    "deletable": true,
    "editable": true
   },
   "source": [
    "### 10.1.5 self의 사용\n",
    "\n",
    "클래스 내부에서 멤버나 메서드를 호출할 때는 반드시 `self`를 사용해야 한다. \n",
    "만일 `self.get( )`을 사용하지 않고 그냥 `get( )` 메서드를 호출하면 클래스 내에서가 아니라, 클래스 외부, 즉 모듈에서 `get` 함수를 찾는다. 클래스 내에서 멤버나 메서드를 참조하려면 언제나 `self`를 이용하는 것을 잊지 말아야 한다.\n"
   ]
  },
  {
   "cell_type": "code",
   "execution_count": 18,
   "metadata": {
    "collapsed": false,
    "deletable": true,
    "editable": true
   },
   "outputs": [],
   "source": [
    "class MyClass2:\n",
    "    def set(self, v):\n",
    "        self.value = v\n",
    "    def get(self):\n",
    "        return self.value\n",
    "    def incr(self):\n",
    "        self.value += 1\n",
    "        return self.get()"
   ]
  },
  {
   "cell_type": "markdown",
   "metadata": {
    "deletable": true,
    "editable": true
   },
   "source": [
    "## 10.2 생성자 / 소멸자\n",
    "\n",
    "일반적으로 클래스는 생성자(Constructor)와 소멸자(Destructor)라 불리는 메서드를 정의할 수 있다. 생성자(`__init__`)는 인스턴스 객체가 생성될 때 초기화를 위해서 자동으로 호출되는 메서드이고, 소멸자(`__del__`)는 인스턴스 객체를 메모리에서 제거할 때 자동으로 호출되는 메서드이다. 파이썬에서는 주로 `__init__`만 정의해서 사용한다."
   ]
  },
  {
   "cell_type": "code",
   "execution_count": 19,
   "metadata": {
    "collapsed": false,
    "deletable": true,
    "editable": true
   },
   "outputs": [],
   "source": [
    "import time\n",
    "\n",
    "class Life:\n",
    "    def __init__(self):\n",
    "        self.birth = time.ctime()\n",
    "        print ('created at', self.birth)\n",
    "    def __del__(self):  # 거의 사용하지 않음\n",
    "        print ('destroyed at {}'.format(time.ctime()))"
   ]
  },
  {
   "cell_type": "markdown",
   "metadata": {
    "deletable": true,
    "editable": true
   },
   "source": [
    "인스턴스 객체를 만들면 자동으로 `__init__`가 호출되어 초기화 된다."
   ]
  },
  {
   "cell_type": "code",
   "execution_count": 20,
   "metadata": {
    "collapsed": false,
    "deletable": true,
    "editable": true
   },
   "outputs": [
    {
     "name": "stdout",
     "output_type": "stream",
     "text": [
      "created at Sat Nov  7 13:31:04 2015\n"
     ]
    }
   ],
   "source": [
    "mylife = Life()"
   ]
  },
  {
   "cell_type": "markdown",
   "metadata": {
    "deletable": true,
    "editable": true
   },
   "source": [
    "객체를 삭제해본다. `__del__`이 자동으로 호출된다."
   ]
  },
  {
   "cell_type": "code",
   "execution_count": 21,
   "metadata": {
    "collapsed": false,
    "deletable": true,
    "editable": true
   },
   "outputs": [
    {
     "name": "stdout",
     "output_type": "stream",
     "text": [
      "destroyed at Sat Nov  7 13:31:07 2015\n"
     ]
    }
   ],
   "source": [
    "del mylife"
   ]
  },
  {
   "cell_type": "markdown",
   "metadata": {
    "deletable": true,
    "editable": true
   },
   "source": [
    "생성자는 초기값을 설정하는데 주로 사용된다.\n",
    "인스턴스르 생성할 때 파라미터를 넘겨주면 생성자에 전달된다.\n",
    "생성자는 이 값들을 인스턴스 멤버에 저장한다."
   ]
  },
  {
   "cell_type": "code",
   "execution_count": 22,
   "metadata": {
    "collapsed": false,
    "deletable": true,
    "editable": true
   },
   "outputs": [],
   "source": [
    "class Point:\n",
    "    def __init__(self, x, y):\n",
    "        self.x = x\n",
    "        self.y = y"
   ]
  },
  {
   "cell_type": "code",
   "execution_count": 23,
   "metadata": {
    "collapsed": false,
    "deletable": true,
    "editable": true
   },
   "outputs": [],
   "source": [
    "p1 = Point(2,3)\n",
    "p2 = Point(3,4)"
   ]
  },
  {
   "cell_type": "code",
   "execution_count": 24,
   "metadata": {
    "collapsed": false,
    "deletable": true,
    "editable": true
   },
   "outputs": [
    {
     "data": {
      "text/plain": [
       "(2, 3)"
      ]
     },
     "execution_count": 24,
     "metadata": {},
     "output_type": "execute_result"
    }
   ],
   "source": [
    "p1.x, p1.y"
   ]
  },
  {
   "cell_type": "markdown",
   "metadata": {
    "deletable": true,
    "editable": true
   },
   "source": [
    "### 10.2.1 연습\n",
    "\n",
    "다음 코드를 보고 이해해보자."
   ]
  },
  {
   "cell_type": "code",
   "execution_count": 25,
   "metadata": {
    "collapsed": true,
    "deletable": true,
    "editable": true
   },
   "outputs": [],
   "source": [
    "import numpy as np\n",
    "\n",
    "def sigmoid(x):\n",
    "    return 1 / (1.0 + np.exp(-x))\n",
    "\n",
    "def identity_function(x):\n",
    "    return x\n",
    "\n",
    "def softmax(a):\n",
    "    c = np.max(a)\n",
    "    exp_a = np.exp(a - c)\n",
    "    denom = np.sum(exp_a)\n",
    "    return exp_a / denom\n",
    "\n",
    "class MultiLayerPerceptron:\n",
    "    def __init__(self, n_input, n_hidden, n_output):\n",
    "        self.n_input = n_input\n",
    "        self.n_hidden = n_hidden\n",
    "        self.n_output = n_output\n",
    "                \n",
    "        self.W1 = np.random.randn(n_input, n_hidden) / np.sqrt(n_input)  # Xavier 초깃값\n",
    "        self.W2 = np.random.randn(n_hidden, n_output) / np.sqrt(n_hidden)\n",
    "        self.B1 = np.random.randn(n_hidden) / np.sqrt(n_hidden)\n",
    "        self.B2 = np.random.randn(n_output) / np.sqrt(n_output)\n",
    "        \n",
    "    def forward(self, X):\n",
    "        A1 = np.dot(X, self.W1) + self.B1\n",
    "        Z1 = sigmoid(A1)\n",
    "        A2 = np.dot(Z1, self.W2) + self.B2\n",
    "        Z2 = softmax(A2)\n",
    "        return Z2"
   ]
  },
  {
   "cell_type": "code",
   "execution_count": 26,
   "metadata": {
    "collapsed": false,
    "deletable": true,
    "editable": true
   },
   "outputs": [
    {
     "data": {
      "text/plain": [
       "array([ 0.41941361,  0.58058639])"
      ]
     },
     "execution_count": 26,
     "metadata": {},
     "output_type": "execute_result"
    }
   ],
   "source": [
    "p = MultiLayerPerceptron(2, 3, 2)\n",
    "p.forward(np.array([1, 2]))"
   ]
  },
  {
   "cell_type": "markdown",
   "metadata": {
    "deletable": true,
    "editable": true
   },
   "source": [
    "### 10.2.2 연습\n",
    "\n",
    "다음 코드를 해석해보자. (ch05/two_layer_net.py  code from 'deep learning from scratch')"
   ]
  },
  {
   "cell_type": "code",
   "execution_count": 27,
   "metadata": {
    "collapsed": true,
    "deletable": true,
    "editable": true
   },
   "outputs": [],
   "source": [
    "# coding: utf-8\n",
    "import sys, os\n",
    "sys.path.append(os.pardir)  # 親ディレクトリのファイルをインポートするための設定\n",
    "import numpy as np\n",
    "from common.layers import *\n",
    "from common.gradient import numerical_gradient\n",
    "from collections import OrderedDict\n",
    "\n",
    "\n",
    "class TwoLayerNet:\n",
    "\n",
    "    def __init__(self, input_size, hidden_size, output_size, weight_init_std = 0.01):\n",
    "        # 重みの初期化\n",
    "        self.params = {}\n",
    "        self.params['W1'] = weight_init_std * np.random.randn(input_size, hidden_size)\n",
    "        self.params['b1'] = np.zeros(hidden_size)\n",
    "        self.params['W2'] = weight_init_std * np.random.randn(hidden_size, output_size) \n",
    "        self.params['b2'] = np.zeros(output_size)\n",
    "\n",
    "        # レイヤの生成\n",
    "        self.layers = OrderedDict()\n",
    "        self.layers['Affine1'] = Affine(self.params['W1'], self.params['b1'])\n",
    "        self.layers['Relu1'] = Relu()\n",
    "        self.layers['Affine2'] = Affine(self.params['W2'], self.params['b2'])\n",
    "\n",
    "        self.lastLayer = SoftmaxWithLoss()\n",
    "        \n",
    "    def predict(self, x):\n",
    "        for layer in self.layers.values():\n",
    "            x = layer.forward(x)\n",
    "        \n",
    "        return x\n",
    "        \n",
    "    # x:入力データ, t:教師データ\n",
    "    def loss(self, x, t):\n",
    "        y = self.predict(x)\n",
    "        return self.lastLayer.forward(y, t)\n",
    "    \n",
    "    def accuracy(self, x, t):\n",
    "        y = self.predict(x)\n",
    "        y = np.argmax(y, axis=1)\n",
    "        if t.ndim != 1 : t = np.argmax(t, axis=1)\n",
    "        \n",
    "        accuracy = np.sum(y == t) / float(x.shape[0])\n",
    "        return accuracy\n",
    "        \n",
    "    # x:入力データ, t:教師データ\n",
    "    def numerical_gradient(self, x, t):\n",
    "        loss_W = lambda W: self.loss(x, t)\n",
    "        \n",
    "        grads = {}\n",
    "        grads['W1'] = numerical_gradient(loss_W, self.params['W1'])\n",
    "        grads['b1'] = numerical_gradient(loss_W, self.params['b1'])\n",
    "        grads['W2'] = numerical_gradient(loss_W, self.params['W2'])\n",
    "        grads['b2'] = numerical_gradient(loss_W, self.params['b2'])\n",
    "        \n",
    "        return grads\n",
    "        \n",
    "    def gradient(self, x, t):\n",
    "        # forward\n",
    "        self.loss(x, t)\n",
    "\n",
    "        # backward\n",
    "        dout = 1\n",
    "        dout = self.lastLayer.backward(dout)\n",
    "        \n",
    "        layers = list(self.layers.values())\n",
    "        layers.reverse()\n",
    "        for layer in layers:\n",
    "            dout = layer.backward(dout)\n",
    "\n",
    "        # 設定\n",
    "        grads = {}\n",
    "        grads['W1'], grads['b1'] = self.layers['Affine1'].dW, self.layers['Affine1'].db\n",
    "        grads['W2'], grads['b2'] = self.layers['Affine2'].dW, self.layers['Affine2'].db\n",
    "\n",
    "        return grads\n"
   ]
  },
  {
   "cell_type": "markdown",
   "metadata": {
    "deletable": true,
    "editable": true
   },
   "source": [
    "## 10.3 연산자 중복 (operator overloading)\n",
    "\n",
    "연산자 중복(Operator Overloading)이란 프로그램 언어에서 지원하는 연산자에 대해 클래스가 새로운\n",
    "동작을 하도록 정의하는 것이다. 파이썬에서 사용하는 모든 연산자는 클래스 내에서 새롭게 정의될 수 있다.\n",
    "\n",
    "### 10.3.1 이항 연산자의 연산자 중복\n",
    "\n",
    "이항 연산 `a + b` 연산 방법을 이해해 보자."
   ]
  },
  {
   "cell_type": "code",
   "execution_count": 28,
   "metadata": {
    "collapsed": false,
    "deletable": true,
    "editable": true
   },
   "outputs": [
    {
     "data": {
      "text/plain": [
       "30"
      ]
     },
     "execution_count": 28,
     "metadata": {},
     "output_type": "execute_result"
    }
   ],
   "source": [
    "a, b = 10, 20\n",
    "a + b"
   ]
  },
  {
   "cell_type": "markdown",
   "metadata": {
    "deletable": true,
    "editable": true
   },
   "source": [
    "객체 연산은 항상 메서드를 통해서 이루어진다. 위의 덧셈 연산은 다음의 메서드 호출을 줄인 것과 같다."
   ]
  },
  {
   "cell_type": "code",
   "execution_count": 29,
   "metadata": {
    "collapsed": false,
    "deletable": true,
    "editable": true
   },
   "outputs": [
    {
     "data": {
      "text/plain": [
       "30"
      ]
     },
     "execution_count": 29,
     "metadata": {},
     "output_type": "execute_result"
    }
   ],
   "source": [
    "a.__add__(b)"
   ]
  },
  {
   "cell_type": "markdown",
   "metadata": {
    "deletable": true,
    "editable": true
   },
   "source": [
    "역으로 말하면, `__add__` 메서드가 있으면 `+` 연산이 가능하다는 뜻이다.\n",
    "다음에 `__add__` 연산을 정의하고 호출하는 예를 보자."
   ]
  },
  {
   "cell_type": "code",
   "execution_count": 30,
   "metadata": {
    "collapsed": false,
    "deletable": true,
    "editable": true
   },
   "outputs": [],
   "source": [
    "# __add__ 연산자 중복\n",
    "class Point:\n",
    "    def __init__(self, x, y):\n",
    "        self.x = x\n",
    "        self.y = y\n",
    "    def __add__(self, o):\n",
    "        nx = self.x + o.x\n",
    "        ny = self.y + o.y\n",
    "        return Point(nx, ny)"
   ]
  },
  {
   "cell_type": "code",
   "execution_count": 31,
   "metadata": {
    "collapsed": false,
    "deletable": true,
    "editable": true
   },
   "outputs": [],
   "source": [
    "p1 = Point(2,3)\n",
    "p2 = Point(5,6)\n",
    "p3 = p1 + p2\n",
    "p3 = p1.__add__(p2)"
   ]
  },
  {
   "cell_type": "code",
   "execution_count": 32,
   "metadata": {
    "collapsed": false,
    "deletable": true,
    "editable": true
   },
   "outputs": [
    {
     "data": {
      "text/plain": [
       "(7, 9)"
      ]
     },
     "execution_count": 32,
     "metadata": {},
     "output_type": "execute_result"
    }
   ],
   "source": [
    "p3.x, p3.y"
   ]
  },
  {
   "cell_type": "markdown",
   "metadata": {
    "deletable": true,
    "editable": true
   },
   "source": [
    "### 10.3.2 단항 연산자의 연산자 중복\n",
    "\n",
    "단항 연산자(unary operator)는 피연산자를 하나만 필요로 하는 연산자이다.\n",
    "파이썬에서 함수로 알고 있는 많은 것들이 사실은 단항 연산자로 동작한다. \n",
    "예를 들면 `abs`, `len`, `int` 등이다.\n",
    "`abs(o)`로 표기하지만 사실은 `o.__abs__()`가 호출된다.\n",
    "`o.__len__()`, `o.__int__()`도 마찬가지다.\n",
    "여기서는 `abs`를 적용해보자."
   ]
  },
  {
   "cell_type": "code",
   "execution_count": 33,
   "metadata": {
    "collapsed": false,
    "deletable": true,
    "editable": true
   },
   "outputs": [],
   "source": [
    "# __abs__ 연산자 중복\n",
    "class Point:\n",
    "    \n",
    "    def __init__(self, x, y):\n",
    "        self.x = x\n",
    "        self.y = y\n",
    "    \n",
    "    def __add__(self, o):\n",
    "        nx = self.x + o.x\n",
    "        ny = self.y + o.y\n",
    "        return Point(nx, ny)\n",
    "    \n",
    "    def __abs__(self):\n",
    "        return Point(abs(self.x), abs(self.y))"
   ]
  },
  {
   "cell_type": "code",
   "execution_count": 34,
   "metadata": {
    "collapsed": false,
    "deletable": true,
    "editable": true
   },
   "outputs": [],
   "source": [
    "p1 = Point(-3, 5)\n",
    "p2 = abs(p1)  # p1.__abs__() 가 호출된다."
   ]
  },
  {
   "cell_type": "code",
   "execution_count": 35,
   "metadata": {
    "collapsed": false,
    "deletable": true,
    "editable": true
   },
   "outputs": [
    {
     "data": {
      "text/plain": [
       "(3, 5)"
      ]
     },
     "execution_count": 35,
     "metadata": {},
     "output_type": "execute_result"
    }
   ],
   "source": [
    "p2.x, p2.y"
   ]
  },
  {
   "cell_type": "markdown",
   "metadata": {
    "deletable": true,
    "editable": true
   },
   "source": [
    "p2 값을 확인하면 다음과 같은 표준적인 정보가 출력된다."
   ]
  },
  {
   "cell_type": "code",
   "execution_count": 36,
   "metadata": {
    "collapsed": false,
    "deletable": true,
    "editable": true
   },
   "outputs": [
    {
     "data": {
      "text/plain": [
       "<__main__.Point at 0x553e9b0>"
      ]
     },
     "execution_count": 36,
     "metadata": {},
     "output_type": "execute_result"
    }
   ],
   "source": [
    "p2"
   ]
  },
  {
   "cell_type": "markdown",
   "metadata": {
    "deletable": true,
    "editable": true
   },
   "source": [
    "이와같이 인스턴스 객체를 `print( )` 함수로 출력할 때 내가 원하는 형식으로 출력하거나, 인스턴스 객체를 사람이 읽기 좋은 형태로 변환하려면 문자열로 변환하는 기능이 필요하다. 이 때 사용되는 것이 `__repr__` 이다. `__repr__`은 문자열 변환이 요구될 때 호출된다."
   ]
  },
  {
   "cell_type": "code",
   "execution_count": 37,
   "metadata": {
    "collapsed": true,
    "deletable": true,
    "editable": true
   },
   "outputs": [],
   "source": [
    "# __repr__ 연산자 중복\n",
    "class Point:\n",
    "    \n",
    "    def __init__(self, x, y):\n",
    "        self.x = x\n",
    "        self.y = y\n",
    "    \n",
    "    def __add__(self, o):\n",
    "        nx = self.x + o.x\n",
    "        ny = self.y + o.y\n",
    "        return Point(nx, ny)\n",
    "    \n",
    "    def __abs__(self):\n",
    "        return Point(abs(self.x), abs(self.y))\n",
    "    \n",
    "    def __repr__(self):  # 원하는 문자열을 만들어 리턴한다.\n",
    "        return 'Point({}, {})'.format(self.x, self.y)"
   ]
  },
  {
   "cell_type": "code",
   "execution_count": 38,
   "metadata": {
    "collapsed": false,
    "deletable": true,
    "editable": true
   },
   "outputs": [
    {
     "data": {
      "text/plain": [
       "Point(-3, 5)"
      ]
     },
     "execution_count": 38,
     "metadata": {},
     "output_type": "execute_result"
    }
   ],
   "source": [
    "p1 = Point(-3, 5)\n",
    "p1"
   ]
  },
  {
   "cell_type": "markdown",
   "metadata": {
    "deletable": true,
    "editable": true
   },
   "source": [
    "### 10.3.3 퀴즈\n",
    "\n",
    "`Point` 클래스를 확장하여 음수 단항 연산자(`-`)가 다음과 같이 동작되도록 해보자.\n",
    "연산자의 메서드 이름은 `__neg__`이다.\n",
    "\n",
    "    p = Point(1,-2)\n",
    "    print(-p)\n",
    "    \n",
    "    출력결과: Point(-1, 2)"
   ]
  },
  {
   "cell_type": "markdown",
   "metadata": {
    "deletable": true,
    "editable": true
   },
   "source": [
    "## 10.4 상속\n",
    "\n",
    "상속(Inheritance)은 클래스가 갖는 중요한 특징이다. 상속은 클래스를 확장하는 기능이다. 이미 존재하는 클래스를 이용하여 새로운 클래스를 쉽게 정의할 수 있으며, 여러 클래스를 조합하여 하나의 새로운 클래스를 만들 수도 있다. 상속이 중요한 이유는 재사용성에 있다. 상속 받은 클래스는 상속해 준 클래스의 속성을 사용할 수 있으므로, 추가로 필요한 기능만을 정의하거나, 기존의 기능을 변경해서 새로운 클래스를 만들면 된다.\n",
    "\n",
    "클래스 A에서 상속된 클래스 B가 있다고 하자. 클래스 A를 기반(Base) 클래스, 부모(Parent) 클래스 또는 상위(Super) 클래스라고 하며, 클래스 B를 파생(Derived) 클래스, 자식(Child) 클래스 또는 하위(Sub) 클래스라고한다.\n"
   ]
  },
  {
   "cell_type": "code",
   "execution_count": 39,
   "metadata": {
    "collapsed": false,
    "deletable": true,
    "editable": true
   },
   "outputs": [],
   "source": [
    "class A:\n",
    "    x = 10\n",
    "    \n",
    "class B(A):\n",
    "    y = 20"
   ]
  },
  {
   "cell_type": "code",
   "execution_count": 40,
   "metadata": {
    "collapsed": false,
    "deletable": true,
    "editable": true
   },
   "outputs": [],
   "source": [
    "b = B()"
   ]
  },
  {
   "cell_type": "markdown",
   "metadata": {
    "deletable": true,
    "editable": true
   },
   "source": [
    "`B`는 `A`를 기반으로 만들었다. 그 의미는 `B`를 통해서 `A`에 접근 가능하다는 의미이다.\n",
    "즉, `A`와 `B`의 이름공간은 서로 연결되어 있다.\n",
    "클래스의 최상위 클래스는 항상 `object`이다. 자동적으로 연결이 되게 되어 있다.\n",
    "이름 공간의 검색은 아래에서 위로 하게 되어 있고, 이름이 발견되거나 에러가 발생할 때 까지 계속된다.\n",
    "인스턴스 객체는 해당 클래스의 아래에 배치된다.\n",
    "\n",
    "<img src=\"img/클래스연결관계1.png\">"
   ]
  },
  {
   "cell_type": "markdown",
   "metadata": {
    "deletable": true,
    "editable": true
   },
   "source": [
    "다음과 같이 속성 `y`를 참조하면 위 그림의 순서에 따라 `b` 부터 `object` 까지 찾으면서 올라간다."
   ]
  },
  {
   "cell_type": "code",
   "execution_count": 41,
   "metadata": {
    "collapsed": false,
    "deletable": true,
    "editable": true
   },
   "outputs": [
    {
     "data": {
      "text/plain": [
       "20"
      ]
     },
     "execution_count": 41,
     "metadata": {},
     "output_type": "execute_result"
    }
   ],
   "source": [
    "b.y   # B 공간에 있는 y"
   ]
  },
  {
   "cell_type": "code",
   "execution_count": 42,
   "metadata": {
    "collapsed": false,
    "deletable": true,
    "editable": true
   },
   "outputs": [
    {
     "data": {
      "text/plain": [
       "10"
      ]
     },
     "execution_count": 42,
     "metadata": {},
     "output_type": "execute_result"
    }
   ],
   "source": [
    "b.x   # A 공간에 있는 x"
   ]
  },
  {
   "cell_type": "markdown",
   "metadata": {
    "deletable": true,
    "editable": true
   },
   "source": [
    "클래스의 `mro()` 메서드를 통하여 검색 순서를 직접 확인할 수도 있다."
   ]
  },
  {
   "cell_type": "code",
   "execution_count": 43,
   "metadata": {
    "collapsed": false,
    "deletable": true,
    "editable": true
   },
   "outputs": [
    {
     "data": {
      "text/plain": [
       "[__main__.B, __main__.A, object]"
      ]
     },
     "execution_count": 43,
     "metadata": {},
     "output_type": "execute_result"
    }
   ],
   "source": [
    "B.mro()"
   ]
  },
  {
   "cell_type": "markdown",
   "metadata": {
    "deletable": true,
    "editable": true
   },
   "source": [
    "당연하겠지만 `x`는 클래스 `B`를 통해서도 접근 가능하다."
   ]
  },
  {
   "cell_type": "code",
   "execution_count": 44,
   "metadata": {
    "collapsed": false,
    "deletable": true,
    "editable": true
   },
   "outputs": [
    {
     "data": {
      "text/plain": [
       "(10, 10)"
      ]
     },
     "execution_count": 44,
     "metadata": {},
     "output_type": "execute_result"
    }
   ],
   "source": [
    "B.x, A.x"
   ]
  },
  {
   "cell_type": "markdown",
   "metadata": {
    "deletable": true,
    "editable": true
   },
   "source": [
    "자식 클래스가 같은 이름을 정의했을 경우는 항상 자식의 속성이 우선 참조된다."
   ]
  },
  {
   "cell_type": "code",
   "execution_count": 45,
   "metadata": {
    "collapsed": true,
    "deletable": true,
    "editable": true
   },
   "outputs": [],
   "source": [
    "class A:\n",
    "    x = 10\n",
    "    \n",
    "class B(A):\n",
    "    x = 20"
   ]
  },
  {
   "cell_type": "code",
   "execution_count": 46,
   "metadata": {
    "collapsed": false,
    "deletable": true,
    "editable": true
   },
   "outputs": [
    {
     "data": {
      "text/plain": [
       "20"
      ]
     },
     "execution_count": 46,
     "metadata": {},
     "output_type": "execute_result"
    }
   ],
   "source": [
    "b = B()\n",
    "b.x"
   ]
  },
  {
   "cell_type": "markdown",
   "metadata": {
    "deletable": true,
    "editable": true
   },
   "source": [
    "이 것은 메서드 이름이 같은 경우도 마찬가지다.\n",
    "아래의 예에서 `B`의 인스턴스를 만들면서 호출 되는 생성자 `__init__`는 `B`의 것만 호출된다."
   ]
  },
  {
   "cell_type": "code",
   "execution_count": 47,
   "metadata": {
    "collapsed": false,
    "deletable": true,
    "editable": true
   },
   "outputs": [
    {
     "name": "stdout",
     "output_type": "stream",
     "text": [
      "calling B.__init__\n"
     ]
    }
   ],
   "source": [
    "class A:\n",
    "    def __init__(self):\n",
    "        print('calling A.__init__')\n",
    "    \n",
    "class B(A):\n",
    "    def __init__(self):\n",
    "        print('calling B.__init__')\n",
    "\n",
    "b = B()"
   ]
  },
  {
   "cell_type": "markdown",
   "metadata": {
    "deletable": true,
    "editable": true
   },
   "source": [
    "만일 어떤 클래스에서 부모 클래스의 메서드를 호출하려면 `super()`를 이용할 수 있다."
   ]
  },
  {
   "cell_type": "code",
   "execution_count": 48,
   "metadata": {
    "collapsed": false,
    "deletable": true,
    "editable": true
   },
   "outputs": [
    {
     "name": "stdout",
     "output_type": "stream",
     "text": [
      "calling B.__init__\n",
      "calling A.__init__\n"
     ]
    }
   ],
   "source": [
    "class A:\n",
    "    def __init__(self):\n",
    "        print('calling A.__init__')\n",
    "    \n",
    "class B(A):\n",
    "    def __init__(self):\n",
    "        print('calling B.__init__')\n",
    "        super().__init__()\n",
    "\n",
    "b = B()"
   ]
  },
  {
   "cell_type": "code",
   "execution_count": 49,
   "metadata": {
    "collapsed": true,
    "deletable": true,
    "editable": true
   },
   "outputs": [],
   "source": []
  }
 ],
 "metadata": {
  "kernelspec": {
   "display_name": "Python [conda root]",
   "language": "python",
   "name": "conda-root-py"
  },
  "language_info": {
   "codemirror_mode": {
    "name": "ipython",
    "version": 3
   },
   "file_extension": ".py",
   "mimetype": "text/x-python",
   "name": "python",
   "nbconvert_exporter": "python",
   "pygments_lexer": "ipython3",
   "version": "3.5.2"
  }
 },
 "nbformat": 4,
 "nbformat_minor": 0
}
